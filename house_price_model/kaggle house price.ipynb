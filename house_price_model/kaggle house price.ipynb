{
 "cells": [
  {
   "cell_type": "markdown",
   "metadata": {},
   "source": [
    "#### kaggle 竞赛入门"
   ]
  },
  {
   "cell_type": "markdown",
   "metadata": {},
   "source": [
    "- 对于刚刚入门机器学习的的同学来说，kaggle竞赛通常是他们学习和跟其他的全世界范围内的参赛选手切磋的一个大的平台，这个平台上提供了一些入门的竞赛，可以供刚入门的同学一展拳脚"
   ]
  },
  {
   "cell_type": "markdown",
   "metadata": {},
   "source": [
    "- 本文针对房价预测的这个竞赛展开，从EDA，特征工程，到模型调参开始讲述一些竞赛中的小的trick，希望对大家有些帮助,本人基础一般，如果有贻笑大方的地方，可以随意拍砖"
   ]
  },
  {
   "cell_type": "code",
   "execution_count": 1,
   "metadata": {},
   "outputs": [],
   "source": [
    "from IPython.display import HTML\n",
    "from IPython.display import Image\n",
    "\n",
    "HTML('''<script>\n",
    "code_show=true; \n",
    "function code_toggle() {\n",
    " if (code_show){\n",
    " $('div.input').hide();\n",
    " } else {\n",
    " $('div.input').show();\n",
    " }\n",
    " code_show = !code_show\n",
    "} \n",
    "$( document ).ready(code_toggle);\n",
    "</script>\n",
    "<form action=\"javascript:code_toggle()\"><input type=\"submit\" value=\"Click here to toggle on/off the raw code.\"></form>''')"
   ]
  },
  {
   "cell_type": "markdown",
   "metadata": {},
   "source": [
    "#### 导入常用的数据分析以及模型的库"
   ]
  },
  {
   "cell_type": "code",
   "execution_count": 2,
   "metadata": {},
   "outputs": [],
   "source": [
    "import pandas as pd\n",
    "import numpy as np"
   ]
  },
  {
   "cell_type": "markdown",
   "metadata": {},
   "source": [
    "- 查看当前目录下的文件可以使用！ls"
   ]
  },
  {
   "cell_type": "code",
   "execution_count": 3,
   "metadata": {},
   "outputs": [
    {
     "name": "stdout",
     "output_type": "stream",
     "text": [
      "data_description.txt\r\n",
      "data_description.zip\r\n",
      "kaggle house price.ipynb\r\n",
      "sample_submission.csv\r\n",
      "stacking-house-prices-walkthrough-to-top-5.ipynb\r\n",
      "test.csv\r\n",
      "train.csv\r\n"
     ]
    }
   ],
   "source": [
    "!ls"
   ]
  },
  {
   "cell_type": "code",
   "execution_count": 4,
   "metadata": {},
   "outputs": [],
   "source": [
    "train = pd.read_csv('train.csv')\n",
    "test = pd.read_csv('test.csv')"
   ]
  },
  {
   "cell_type": "code",
   "execution_count": 5,
   "metadata": {},
   "outputs": [
    {
     "data": {
      "text/html": [
       "<div>\n",
       "<style scoped>\n",
       "    .dataframe tbody tr th:only-of-type {\n",
       "        vertical-align: middle;\n",
       "    }\n",
       "\n",
       "    .dataframe tbody tr th {\n",
       "        vertical-align: top;\n",
       "    }\n",
       "\n",
       "    .dataframe thead th {\n",
       "        text-align: right;\n",
       "    }\n",
       "</style>\n",
       "<table border=\"1\" class=\"dataframe\">\n",
       "  <thead>\n",
       "    <tr style=\"text-align: right;\">\n",
       "      <th></th>\n",
       "      <th>Id</th>\n",
       "      <th>MSSubClass</th>\n",
       "      <th>MSZoning</th>\n",
       "      <th>LotFrontage</th>\n",
       "      <th>LotArea</th>\n",
       "      <th>Street</th>\n",
       "      <th>Alley</th>\n",
       "      <th>LotShape</th>\n",
       "      <th>LandContour</th>\n",
       "      <th>Utilities</th>\n",
       "      <th>...</th>\n",
       "      <th>PoolArea</th>\n",
       "      <th>PoolQC</th>\n",
       "      <th>Fence</th>\n",
       "      <th>MiscFeature</th>\n",
       "      <th>MiscVal</th>\n",
       "      <th>MoSold</th>\n",
       "      <th>YrSold</th>\n",
       "      <th>SaleType</th>\n",
       "      <th>SaleCondition</th>\n",
       "      <th>SalePrice</th>\n",
       "    </tr>\n",
       "  </thead>\n",
       "  <tbody>\n",
       "    <tr>\n",
       "      <th>0</th>\n",
       "      <td>1</td>\n",
       "      <td>60</td>\n",
       "      <td>RL</td>\n",
       "      <td>65.0</td>\n",
       "      <td>8450</td>\n",
       "      <td>Pave</td>\n",
       "      <td>NaN</td>\n",
       "      <td>Reg</td>\n",
       "      <td>Lvl</td>\n",
       "      <td>AllPub</td>\n",
       "      <td>...</td>\n",
       "      <td>0</td>\n",
       "      <td>NaN</td>\n",
       "      <td>NaN</td>\n",
       "      <td>NaN</td>\n",
       "      <td>0</td>\n",
       "      <td>2</td>\n",
       "      <td>2008</td>\n",
       "      <td>WD</td>\n",
       "      <td>Normal</td>\n",
       "      <td>208500</td>\n",
       "    </tr>\n",
       "    <tr>\n",
       "      <th>1</th>\n",
       "      <td>2</td>\n",
       "      <td>20</td>\n",
       "      <td>RL</td>\n",
       "      <td>80.0</td>\n",
       "      <td>9600</td>\n",
       "      <td>Pave</td>\n",
       "      <td>NaN</td>\n",
       "      <td>Reg</td>\n",
       "      <td>Lvl</td>\n",
       "      <td>AllPub</td>\n",
       "      <td>...</td>\n",
       "      <td>0</td>\n",
       "      <td>NaN</td>\n",
       "      <td>NaN</td>\n",
       "      <td>NaN</td>\n",
       "      <td>0</td>\n",
       "      <td>5</td>\n",
       "      <td>2007</td>\n",
       "      <td>WD</td>\n",
       "      <td>Normal</td>\n",
       "      <td>181500</td>\n",
       "    </tr>\n",
       "    <tr>\n",
       "      <th>2</th>\n",
       "      <td>3</td>\n",
       "      <td>60</td>\n",
       "      <td>RL</td>\n",
       "      <td>68.0</td>\n",
       "      <td>11250</td>\n",
       "      <td>Pave</td>\n",
       "      <td>NaN</td>\n",
       "      <td>IR1</td>\n",
       "      <td>Lvl</td>\n",
       "      <td>AllPub</td>\n",
       "      <td>...</td>\n",
       "      <td>0</td>\n",
       "      <td>NaN</td>\n",
       "      <td>NaN</td>\n",
       "      <td>NaN</td>\n",
       "      <td>0</td>\n",
       "      <td>9</td>\n",
       "      <td>2008</td>\n",
       "      <td>WD</td>\n",
       "      <td>Normal</td>\n",
       "      <td>223500</td>\n",
       "    </tr>\n",
       "    <tr>\n",
       "      <th>3</th>\n",
       "      <td>4</td>\n",
       "      <td>70</td>\n",
       "      <td>RL</td>\n",
       "      <td>60.0</td>\n",
       "      <td>9550</td>\n",
       "      <td>Pave</td>\n",
       "      <td>NaN</td>\n",
       "      <td>IR1</td>\n",
       "      <td>Lvl</td>\n",
       "      <td>AllPub</td>\n",
       "      <td>...</td>\n",
       "      <td>0</td>\n",
       "      <td>NaN</td>\n",
       "      <td>NaN</td>\n",
       "      <td>NaN</td>\n",
       "      <td>0</td>\n",
       "      <td>2</td>\n",
       "      <td>2006</td>\n",
       "      <td>WD</td>\n",
       "      <td>Abnorml</td>\n",
       "      <td>140000</td>\n",
       "    </tr>\n",
       "    <tr>\n",
       "      <th>4</th>\n",
       "      <td>5</td>\n",
       "      <td>60</td>\n",
       "      <td>RL</td>\n",
       "      <td>84.0</td>\n",
       "      <td>14260</td>\n",
       "      <td>Pave</td>\n",
       "      <td>NaN</td>\n",
       "      <td>IR1</td>\n",
       "      <td>Lvl</td>\n",
       "      <td>AllPub</td>\n",
       "      <td>...</td>\n",
       "      <td>0</td>\n",
       "      <td>NaN</td>\n",
       "      <td>NaN</td>\n",
       "      <td>NaN</td>\n",
       "      <td>0</td>\n",
       "      <td>12</td>\n",
       "      <td>2008</td>\n",
       "      <td>WD</td>\n",
       "      <td>Normal</td>\n",
       "      <td>250000</td>\n",
       "    </tr>\n",
       "  </tbody>\n",
       "</table>\n",
       "<p>5 rows × 81 columns</p>\n",
       "</div>"
      ],
      "text/plain": [
       "   Id  MSSubClass MSZoning  LotFrontage  LotArea Street Alley LotShape  \\\n",
       "0   1          60       RL         65.0     8450   Pave   NaN      Reg   \n",
       "1   2          20       RL         80.0     9600   Pave   NaN      Reg   \n",
       "2   3          60       RL         68.0    11250   Pave   NaN      IR1   \n",
       "3   4          70       RL         60.0     9550   Pave   NaN      IR1   \n",
       "4   5          60       RL         84.0    14260   Pave   NaN      IR1   \n",
       "\n",
       "  LandContour Utilities    ...     PoolArea PoolQC Fence MiscFeature MiscVal  \\\n",
       "0         Lvl    AllPub    ...            0    NaN   NaN         NaN       0   \n",
       "1         Lvl    AllPub    ...            0    NaN   NaN         NaN       0   \n",
       "2         Lvl    AllPub    ...            0    NaN   NaN         NaN       0   \n",
       "3         Lvl    AllPub    ...            0    NaN   NaN         NaN       0   \n",
       "4         Lvl    AllPub    ...            0    NaN   NaN         NaN       0   \n",
       "\n",
       "  MoSold YrSold  SaleType  SaleCondition  SalePrice  \n",
       "0      2   2008        WD         Normal     208500  \n",
       "1      5   2007        WD         Normal     181500  \n",
       "2      9   2008        WD         Normal     223500  \n",
       "3      2   2006        WD        Abnorml     140000  \n",
       "4     12   2008        WD         Normal     250000  \n",
       "\n",
       "[5 rows x 81 columns]"
      ]
     },
     "execution_count": 5,
     "metadata": {},
     "output_type": "execute_result"
    }
   ],
   "source": [
    "train.head()"
   ]
  },
  {
   "cell_type": "code",
   "execution_count": 6,
   "metadata": {},
   "outputs": [
    {
     "name": "stdout",
     "output_type": "stream",
     "text": [
      "<class 'pandas.core.frame.DataFrame'>\n",
      "RangeIndex: 1460 entries, 0 to 1459\n",
      "Data columns (total 81 columns):\n",
      "Id               1460 non-null int64\n",
      "MSSubClass       1460 non-null int64\n",
      "MSZoning         1460 non-null object\n",
      "LotFrontage      1201 non-null float64\n",
      "LotArea          1460 non-null int64\n",
      "Street           1460 non-null object\n",
      "Alley            91 non-null object\n",
      "LotShape         1460 non-null object\n",
      "LandContour      1460 non-null object\n",
      "Utilities        1460 non-null object\n",
      "LotConfig        1460 non-null object\n",
      "LandSlope        1460 non-null object\n",
      "Neighborhood     1460 non-null object\n",
      "Condition1       1460 non-null object\n",
      "Condition2       1460 non-null object\n",
      "BldgType         1460 non-null object\n",
      "HouseStyle       1460 non-null object\n",
      "OverallQual      1460 non-null int64\n",
      "OverallCond      1460 non-null int64\n",
      "YearBuilt        1460 non-null int64\n",
      "YearRemodAdd     1460 non-null int64\n",
      "RoofStyle        1460 non-null object\n",
      "RoofMatl         1460 non-null object\n",
      "Exterior1st      1460 non-null object\n",
      "Exterior2nd      1460 non-null object\n",
      "MasVnrType       1452 non-null object\n",
      "MasVnrArea       1452 non-null float64\n",
      "ExterQual        1460 non-null object\n",
      "ExterCond        1460 non-null object\n",
      "Foundation       1460 non-null object\n",
      "BsmtQual         1423 non-null object\n",
      "BsmtCond         1423 non-null object\n",
      "BsmtExposure     1422 non-null object\n",
      "BsmtFinType1     1423 non-null object\n",
      "BsmtFinSF1       1460 non-null int64\n",
      "BsmtFinType2     1422 non-null object\n",
      "BsmtFinSF2       1460 non-null int64\n",
      "BsmtUnfSF        1460 non-null int64\n",
      "TotalBsmtSF      1460 non-null int64\n",
      "Heating          1460 non-null object\n",
      "HeatingQC        1460 non-null object\n",
      "CentralAir       1460 non-null object\n",
      "Electrical       1459 non-null object\n",
      "1stFlrSF         1460 non-null int64\n",
      "2ndFlrSF         1460 non-null int64\n",
      "LowQualFinSF     1460 non-null int64\n",
      "GrLivArea        1460 non-null int64\n",
      "BsmtFullBath     1460 non-null int64\n",
      "BsmtHalfBath     1460 non-null int64\n",
      "FullBath         1460 non-null int64\n",
      "HalfBath         1460 non-null int64\n",
      "BedroomAbvGr     1460 non-null int64\n",
      "KitchenAbvGr     1460 non-null int64\n",
      "KitchenQual      1460 non-null object\n",
      "TotRmsAbvGrd     1460 non-null int64\n",
      "Functional       1460 non-null object\n",
      "Fireplaces       1460 non-null int64\n",
      "FireplaceQu      770 non-null object\n",
      "GarageType       1379 non-null object\n",
      "GarageYrBlt      1379 non-null float64\n",
      "GarageFinish     1379 non-null object\n",
      "GarageCars       1460 non-null int64\n",
      "GarageArea       1460 non-null int64\n",
      "GarageQual       1379 non-null object\n",
      "GarageCond       1379 non-null object\n",
      "PavedDrive       1460 non-null object\n",
      "WoodDeckSF       1460 non-null int64\n",
      "OpenPorchSF      1460 non-null int64\n",
      "EnclosedPorch    1460 non-null int64\n",
      "3SsnPorch        1460 non-null int64\n",
      "ScreenPorch      1460 non-null int64\n",
      "PoolArea         1460 non-null int64\n",
      "PoolQC           7 non-null object\n",
      "Fence            281 non-null object\n",
      "MiscFeature      54 non-null object\n",
      "MiscVal          1460 non-null int64\n",
      "MoSold           1460 non-null int64\n",
      "YrSold           1460 non-null int64\n",
      "SaleType         1460 non-null object\n",
      "SaleCondition    1460 non-null object\n",
      "SalePrice        1460 non-null int64\n",
      "dtypes: float64(3), int64(35), object(43)\n",
      "memory usage: 924.0+ KB\n"
     ]
    }
   ],
   "source": [
    "train.info()"
   ]
  },
  {
   "cell_type": "code",
   "execution_count": 7,
   "metadata": {},
   "outputs": [
    {
     "name": "stdout",
     "output_type": "stream",
     "text": [
      "(1460, 81)\n",
      "(1459, 80)\n"
     ]
    }
   ],
   "source": [
    "print(train.shape)\n",
    "print(test.shape)"
   ]
  },
  {
   "cell_type": "markdown",
   "metadata": {},
   "source": [
    "- 数据结构类似于波士顿房屋的价格数据，其中该数据集中有79个特征，来描述房屋，可以通过数据描述来查看对应字段的意义\n",
    "- 同时本文也将缺失值处理的方法进行阐述\n",
    "- PoolQC           7 non-null object\n",
    "- Fence            281 non-null object\n",
    "- MiscFeature      54 non-null object  以上三个特征缺失较为明显，后文将有对应的对缺失值处理的方法"
   ]
  },
  {
   "cell_type": "markdown",
   "metadata": {},
   "source": [
    "#### 数据处理"
   ]
  },
  {
   "cell_type": "markdown",
   "metadata": {},
   "source": [
    "![处理异常值](https://ws1.sinaimg.cn/large/9ebd4c2bly1g4sv6rwu1ij20ja0cj77r.jpg)"
   ]
  },
  {
   "cell_type": "markdown",
   "metadata": {},
   "source": [
    "- 异常值通常是指在预期的值之外，至于如何处理异常值，怎么界定异常值，取决于个人和特定的问题\n",
    "- 对于异常值通常会在数据分布点之外，因此通常会让计算的结果和数据的分布\n",
    "- 以下图为例"
   ]
  },
  {
   "cell_type": "markdown",
   "metadata": {},
   "source": [
    "![](https://ws1.sinaimg.cn/large/9ebd4c2bly1g4svlxc1xzj20nr07daaq.jpg)"
   ]
  },
  {
   "cell_type": "code",
   "execution_count": 8,
   "metadata": {},
   "outputs": [
    {
     "name": "stdout",
     "output_type": "stream",
     "text": [
      "MSSubClass: Identifies the type of dwelling involved in the sale.\t\n",
      "\n"
     ]
    }
   ],
   "source": [
    "with open ('data_description.txt','r') as f:\n",
    "    for i in f.readlines():\n",
    "        print(i)\n",
    "        break\n",
    "    "
   ]
  },
  {
   "cell_type": "markdown",
   "metadata": {},
   "source": [
    "\n",
    "#### Data fields\n",
    "\n",
    "Here's a brief version of what you'll find in the data description file.\n",
    "\n",
    "- **SalePrice** - the property's sale price in dollars. This is the target variable that you're trying to predict.\n",
    "- **MSSubClass**: The building class\n",
    "- **MSZoning**: The general zoning classification\n",
    "- **LotFrontage**: Linear feet of street connected to property\n",
    "- **LotArea**: Lot size in square feet\n",
    "- **Street**: Type of road access\n",
    "- **Alley**: Type of alley access\n",
    "- **LotShape**: General shape of property\n",
    "- **LandContour**: Flatness of the property\n",
    "- **Utilities**: Type of utilities available\n",
    "- **LotConfig**: Lot configuration\n",
    "- **LandSlope**: Slope of property\n",
    "- **Neighborhood**: Physical locations within Ames city limits\n",
    "- **Condition1**: Proximity to main road or railroad\n",
    "- **Condition2**: Proximity to main road or railroad (if a second is present)\n",
    "- **BldgType**: Type of dwelling\n",
    "- **HouseStyle**: Style of dwelling\n",
    "- **OverallQual**: Overall material and finish quality\n",
    "- **OverallCond**: Overall condition rating\n",
    "- **YearBuilt**: Original construction date\n",
    "- **YearRemodAdd**: Remodel date\n",
    "- **RoofStyle**: Type of roof\n",
    "- **RoofMatl**: Roof material\n",
    "- **Exterior1st**: Exterior covering on house\n",
    "- **Exterior2nd**: Exterior covering on house (if more than one material)\n",
    "- **MasVnrType**: Masonry veneer type\n",
    "- **MasVnrArea**: Masonry veneer area in square feet\n",
    "- **ExterQual**: Exterior material quality\n",
    "- **ExterCond**: Present condition of the material on the exterior\n",
    "- **Foundation**: Type of foundation\n",
    "- **BsmtQual**: Height of the basement\n",
    "- **BsmtCond**: General condition of the basement\n",
    "- **BsmtExposure**: Walkout or garden level basement walls\n",
    "- **BsmtFinType1**: Quality of basement finished area\n",
    "- **BsmtFinSF1**: Type 1 finished square feet\n",
    "- **BsmtFinType2**: Quality of second finished area (if present)\n",
    "- **BsmtFinSF2**: Type 2 finished square feet\n",
    "- **BsmtUnfSF**: Unfinished square feet of basement area\n",
    "- **TotalBsmtSF**: Total square feet of basement area\n",
    "- **Heating**: Type of heating\n",
    "- **HeatingQC**: Heating quality and condition\n",
    "- **CentralAir**: Central air conditioning\n",
    "- **Electrical**: Electrical system\n",
    "- **1stFlrSF**: First Floor square feet\n",
    "- **2ndFlrSF**: Second floor square feet\n",
    "- **LowQualFinSF**: Low quality finished square feet (all floors)\n",
    "- **GrLivArea**: Above grade (ground) living area square feet\n",
    "- **BsmtFullBath**: Basement full bathrooms\n",
    "- **BsmtHalfBath**: Basement half bathrooms\n",
    "- **FullBath**: Full bathrooms above grade\n",
    "- **HalfBath**: Half baths above grade\n",
    "- **Bedroom**: Number of bedrooms above basement level\n",
    "- **Kitchen**: Number of kitchens\n",
    "- **KitchenQual**: Kitchen quality\n",
    "- **TotRmsAbvGrd**: Total rooms above grade (does not include bathrooms)\n",
    "- **Functional**: Home functionality rating\n",
    "- **Fireplaces**: Number of fireplaces\n",
    "- **FireplaceQu**: Fireplace quality\n",
    "- **GarageType**: Garage location\n",
    "- **GarageYrBlt**: Year garage was built\n",
    "- **GarageFinish**: Interior finish of the garage\n",
    "- **GarageCars**: Size of garage in car capacity\n",
    "- **GarageArea**: Size of garage in square feet\n",
    "- **GarageQual**: Garage quality\n",
    "- **GarageCond**: Garage condition\n",
    "- **PavedDrive**: Paved driveway\n",
    "- **WoodDeckSF**: Wood deck area in square feet\n",
    "- **OpenPorchSF**: Open porch area in square feet\n",
    "- **EnclosedPorch**: Enclosed porch area in square feet\n",
    "- **3SsnPorch**: Three season porch area in square feet\n",
    "- **ScreenPorch**: Screen porch area in square feet\n",
    "- **PoolArea**: Pool area in square feet\n",
    "- **PoolQC**: Pool quality\n",
    "- **Fence**: Fence quality\n",
    "- **MiscFeature**: Miscellaneous feature not covered in other categories\n",
    "- **MiscVal**: $Value of miscellaneous feature\n",
    "- **MoSold**: Month Sold\n",
    "- **YrSold**: Year Sold\n",
    "- **SaleType**: Type of sale\n",
    "- **SaleCondition**: Condition of sale"
   ]
  },
  {
   "cell_type": "markdown",
   "metadata": {},
   "source": [
    "- 首先看这个特征 GrLivArea: Above grade (ground) living area square feet,是指居住面积平方英尺"
   ]
  },
  {
   "cell_type": "markdown",
   "metadata": {},
   "source": [
    "##### 去除异常值"
   ]
  },
  {
   "cell_type": "code",
   "execution_count": 9,
   "metadata": {},
   "outputs": [],
   "source": [
    "import matplotlib.pyplot as plt\n",
    "import seaborn as sns\n",
    "%matplotlib inline\n",
    "sns.set(style='white', context='notebook', palette='deep')"
   ]
  },
  {
   "cell_type": "code",
   "execution_count": 10,
   "metadata": {},
   "outputs": [
    {
     "data": {
      "image/png": "[encoded data removed]",
      "text/plain": [
       "<Figure size 1080x576 with 2 Axes>"
      ]
     },
     "metadata": {
      "needs_background": "light"
     },
     "output_type": "display_data"
    }
   ],
   "source": [
    "plt.subplots(figsize=(15,8))\n",
    "plt.subplot(1,2,1)\n",
    "g= sns.regplot(x=train['GrLivArea'],y= train['SalePrice'],fit_reg=False).set_title('Before')\n",
    "plt.subplot(1,2,2)\n",
    "train= train.drop(train[train['GrLivArea']>4000].index)\n",
    "g=sns.regplot(x=train['GrLivArea'],y=train['SalePrice'],fit_reg=False).set_title('After')"
   ]
  },
  {
   "cell_type": "markdown",
   "metadata": {},
   "source": [
    "* 从以上图中可以发现，居住面积大于4000的样本总共有4个，且这个四个属于严重的偏离分布"
   ]
  },
  {
   "cell_type": "markdown",
   "metadata": {},
   "source": [
    "##### 处理缺失值\n",
    "- 缺失值可能是由于人工输入错误，机器误差等问题导致的\n",
    "- 有些例子中的缺失值可以使用0进行填充，前提是需要知道该特征代表的意义，缺失即代表0\n",
    "- 实际情况中，填充0并不总是最好的办法，而且针对不同的算法，对于缺失值处理的能力不同，本文需要使用多种算法进行拟合房价，因此如何正确处理缺失值呢，一般有两种方法：\n",
    "    - 直接删掉带有缺失值的列\n",
    "    - 填充缺失值"
   ]
  },
  {
   "cell_type": "code",
   "execution_count": 11,
   "metadata": {},
   "outputs": [
    {
     "name": "stdout",
     "output_type": "stream",
     "text": [
      "all data shape:(2915, 79)\n"
     ]
    },
    {
     "name": "stderr",
     "output_type": "stream",
     "text": [
      "/Users/aihuishou/anaconda3/envs/work/lib/python3.6/site-packages/ipykernel_launcher.py:7: FutureWarning: Sorting because non-concatenation axis is not aligned. A future version\n",
      "of pandas will change to not sort by default.\n",
      "\n",
      "To accept the future behavior, pass 'sort=False'.\n",
      "\n",
      "To retain the current behavior and silence the warning, pass 'sort=True'.\n",
      "\n",
      "  import sys\n"
     ]
    }
   ],
   "source": [
    "# 首先先把训练数据与测试数据的长度保持，以备后用\n",
    "ntrain = train.shape[0]\n",
    "ntest = test.shape[0]\n",
    "\n",
    "# 保持训练集的目标值数据即 SalePrice\n",
    "y_train = train.SalePrice.values\n",
    "all_data = pd.concat((train,test)).reset_index(drop=True)\n",
    "all_data.drop(['SalePrice'],axis=1,inplace=True)\n",
    "all_data.drop(['Id'],axis=1,inplace=True)\n",
    "print('all data shape:{}'.format(all_data.shape))"
   ]
  },
  {
   "cell_type": "code",
   "execution_count": 12,
   "metadata": {},
   "outputs": [],
   "source": [
    "all_data_na = all_data.isnull().sum()"
   ]
  },
  {
   "cell_type": "code",
   "execution_count": 13,
   "metadata": {},
   "outputs": [
    {
     "data": {
      "text/plain": [
       "PoolQC           2907\n",
       "MiscFeature      2810\n",
       "Alley            2717\n",
       "Fence            2345\n",
       "FireplaceQu      1420\n",
       "LotFrontage       486\n",
       "GarageFinish      159\n",
       "GarageQual        159\n",
       "GarageYrBlt       159\n",
       "GarageCond        159\n",
       "GarageType        157\n",
       "BsmtCond           82\n",
       "BsmtExposure       82\n",
       "BsmtQual           81\n",
       "BsmtFinType2       80\n",
       "BsmtFinType1       79\n",
       "MasVnrType         24\n",
       "MasVnrArea         23\n",
       "MSZoning            4\n",
       "BsmtHalfBath        2\n",
       "Utilities           2\n",
       "Functional          2\n",
       "BsmtFullBath        2\n",
       "Electrical          1\n",
       "Exterior2nd         1\n",
       "KitchenQual         1\n",
       "GarageCars          1\n",
       "Exterior1st         1\n",
       "GarageArea          1\n",
       "TotalBsmtSF         1\n",
       "                 ... \n",
       "GrLivArea           0\n",
       "YearRemodAdd        0\n",
       "YearBuilt           0\n",
       "WoodDeckSF          0\n",
       "TotRmsAbvGrd        0\n",
       "Street              0\n",
       "ScreenPorch         0\n",
       "SaleCondition       0\n",
       "RoofStyle           0\n",
       "RoofMatl            0\n",
       "PoolArea            0\n",
       "PavedDrive          0\n",
       "OverallQual         0\n",
       "OverallCond         0\n",
       "OpenPorchSF         0\n",
       "Neighborhood        0\n",
       "MoSold              0\n",
       "MiscVal             0\n",
       "MSSubClass          0\n",
       "LowQualFinSF        0\n",
       "LotShape            0\n",
       "LotConfig           0\n",
       "LotArea             0\n",
       "LandSlope           0\n",
       "LandContour         0\n",
       "KitchenAbvGr        0\n",
       "HouseStyle          0\n",
       "HeatingQC           0\n",
       "Heating             0\n",
       "1stFlrSF            0\n",
       "Length: 79, dtype: int64"
      ]
     },
     "execution_count": 13,
     "metadata": {},
     "output_type": "execute_result"
    }
   ],
   "source": [
    "all_data_na.sort_values(ascending=False)"
   ]
  },
  {
   "cell_type": "code",
   "execution_count": 14,
   "metadata": {},
   "outputs": [],
   "source": [
    "all_data_na = all_data_na.drop(all_data_na[all_data_na==0].index).sort_values(ascending=False)"
   ]
  },
  {
   "cell_type": "code",
   "execution_count": 15,
   "metadata": {},
   "outputs": [
    {
     "data": {
      "text/plain": [
       "<matplotlib.axes._subplots.AxesSubplot at 0x1292ff5f8>"
      ]
     },
     "execution_count": 15,
     "metadata": {},
     "output_type": "execute_result"
    },
    {
     "data": {
      "image/png": "[encoded data removed]",
      "text/plain": [
       "<Figure size 864x432 with 1 Axes>"
      ]
     },
     "metadata": {
      "needs_background": "light"
     },
     "output_type": "display_data"
    }
   ],
   "source": [
    "plt.subplots(figsize=(12,6))\n",
    "all_data_na.plot(kind='Bar')"
   ]
  },
  {
   "cell_type": "markdown",
   "metadata": {},
   "source": [
    "- [参考链接](https://www.kaggle.com/agodwinp/stacking-house-prices-walkthrough-to-top-5)"
   ]
  },
  {
   "cell_type": "code",
   "execution_count": 16,
   "metadata": {},
   "outputs": [
    {
     "name": "stdout",
     "output_type": "stream",
     "text": [
      "Looking in indexes: https://pypi.tuna.tsinghua.edu.cn/simple\r\n",
      "Requirement already satisfied: xgboost in /Users/aihuishou/anaconda3/envs/work/lib/python3.6/site-packages (0.90)\r\n",
      "Requirement already satisfied: numpy in /Users/aihuishou/anaconda3/envs/work/lib/python3.6/site-packages (from xgboost) (1.16.2)\r\n",
      "Requirement already satisfied: scipy in /Users/aihuishou/anaconda3/envs/work/lib/python3.6/site-packages (from xgboost) (1.2.1)\r\n"
     ]
    }
   ],
   "source": [
    "!pip install xgboost"
   ]
  },
  {
   "cell_type": "code",
   "execution_count": 17,
   "metadata": {},
   "outputs": [
    {
     "name": "stdout",
     "output_type": "stream",
     "text": [
      "<class 'pandas.core.frame.DataFrame'>\n",
      "Int64Index: 1456 entries, 0 to 1459\n",
      "Data columns (total 25 columns):\n",
      "PoolQC          5 non-null object\n",
      "MiscFeature     54 non-null object\n",
      "Alley           91 non-null object\n",
      "Fence           280 non-null object\n",
      "FireplaceQu     766 non-null object\n",
      "LotFrontage     1197 non-null float64\n",
      "GarageQual      1375 non-null object\n",
      "GarageCond      1375 non-null object\n",
      "GarageFinish    1375 non-null object\n",
      "GarageYrBlt     1375 non-null float64\n",
      "GarageType      1375 non-null object\n",
      "BsmtExposure    1418 non-null object\n",
      "BsmtCond        1419 non-null object\n",
      "BsmtQual        1419 non-null object\n",
      "BsmtFinType2    1418 non-null object\n",
      "BsmtFinType1    1419 non-null object\n",
      "MasVnrType      1448 non-null object\n",
      "MasVnrArea      1448 non-null float64\n",
      "MSZoning        1456 non-null object\n",
      "BsmtFullBath    1456 non-null int64\n",
      "BsmtHalfBath    1456 non-null int64\n",
      "Utilities       1456 non-null object\n",
      "Functional      1456 non-null object\n",
      "Electrical      1455 non-null object\n",
      "BsmtUnfSF       1456 non-null int64\n",
      "dtypes: float64(3), int64(3), object(19)\n",
      "memory usage: 295.8+ KB\n"
     ]
    }
   ],
   "source": [
    "train[all_data_na.index[:25]].info()"
   ]
  },
  {
   "cell_type": "markdown",
   "metadata": {},
   "source": [
    "- for category feature we,fill these missing values with \"None\"\n",
    "- for float feature and the number of missing values seemingly much larger ,we fill these missing values with median of the feature\n",
    "- for float feature and the number of missing values smaller, we will fill these missing values with mode"
   ]
  },
  {
   "cell_type": "code",
   "execution_count": 18,
   "metadata": {},
   "outputs": [
    {
     "name": "stdout",
     "output_type": "stream",
     "text": [
      "处理object类型缺失值，根据特征的描述，特征缺失值补充为\"None\"，已完成\n",
      "处理数值类型的缺失值，根据特征的描述，选择特征缺失值补充为0，已完成\n",
      "处理缺失值较少的缺失值，数据类型为数值，填充缺失值为该特征的众数，已完成\n",
      "Features with missing values:  LotFrontage    486\n",
      "Utilities        2\n",
      "dtype: int64\n"
     ]
    }
   ],
   "source": [
    "for col in (\"PoolQC\", 'MiscFeature', 'Alley', 'Fence', 'FireplaceQu', 'GarageQual', 'GarageCond',\n",
    "            'GarageFinish', 'GarageType','BsmtExposure','BsmtCond','BsmtQual','BsmtFinType2','BsmtFinType1',\n",
    "           'MasVnrType'):\n",
    "    all_data[col] = all_data[col].fillna('None')\n",
    "\n",
    "    \n",
    "print('处理object类型缺失值，根据特征的描述，特征缺失值补充为\"None\"，已完成')\n",
    "    \n",
    "for col in (\"GarageYrBlt\", \"GarageArea\", \"GarageCars\", \"BsmtFinSF1\", \n",
    "           \"BsmtFinSF2\", \"BsmtUnfSF\", \"TotalBsmtSF\", \"MasVnrArea\",\n",
    "           \"BsmtFullBath\", \"BsmtHalfBath\"):\n",
    "    all_data[col] = all_data[col].fillna(0)\n",
    "\n",
    "print('处理数值类型的缺失值，根据特征的描述，选择特征缺失值补充为0，已完成')\n",
    "\n",
    "\n",
    "all_data['MSZoning'] = all_data['MSZoning'].fillna(all_data['MSZoning'].mode()[0])\n",
    "all_data['Electrical'] = all_data['Electrical'].fillna(all_data['Electrical'].mode()[0])\n",
    "all_data['KitchenQual'] = all_data['KitchenQual'].fillna(all_data['KitchenQual'].mode()[0])\n",
    "all_data['Exterior1st'] = all_data['Exterior1st'].fillna(all_data['Exterior1st'].mode()[0])\n",
    "all_data['Exterior2nd'] = all_data['Exterior2nd'].fillna(all_data['Exterior2nd'].mode()[0])\n",
    "all_data['SaleType'] = all_data['SaleType'].fillna(all_data['SaleType'].mode()[0])\n",
    "all_data[\"Functional\"] = all_data[\"Functional\"].fillna(all_data['Functional'].mode()[0])\n",
    "\n",
    "print('处理缺失值较少的缺失值，数据类型为数值，填充缺失值为该特征的众数，已完成')\n",
    "\n",
    "all_data_na = all_data.isnull().sum()\n",
    "print(\"Features with missing values: \", all_data_na.drop(all_data_na[all_data_na == 0].index))\n"
   ]
  },
  {
   "cell_type": "code",
   "execution_count": 19,
   "metadata": {},
   "outputs": [
    {
     "data": {
      "text/plain": [
       "Neighborhood\n",
       "Blmngtn      938.0\n",
       "Blueste      273.0\n",
       "BrDale       645.0\n",
       "BrkSide     5300.0\n",
       "ClearCr     1763.0\n",
       "CollgCr    15694.0\n",
       "Crawfor     5806.0\n",
       "Edwards    11467.0\n",
       "Gilbert     8237.0\n",
       "IDOTRR      5415.0\n",
       "MeadowV      845.0\n",
       "Mitchel     6763.0\n",
       "NAmes      28204.0\n",
       "NPkVill      591.0\n",
       "NWAmes      6929.0\n",
       "NoRidge     4684.0\n",
       "NridgHt    13722.0\n",
       "OldTown    14147.0\n",
       "SWISU       2599.0\n",
       "Sawyer      7306.0\n",
       "SawyerW     7491.0\n",
       "Somerst    10457.0\n",
       "StoneBr     2860.0\n",
       "Timber      4626.0\n",
       "Veenker     1152.0\n",
       "Name: LotFrontage, dtype: float64"
      ]
     },
     "execution_count": 19,
     "metadata": {},
     "output_type": "execute_result"
    }
   ],
   "source": [
    "all_data.groupby([\"Neighborhood\"])['LotFrontage'].sum()"
   ]
  },
  {
   "cell_type": "code",
   "execution_count": 20,
   "metadata": {},
   "outputs": [],
   "source": [
    "all_data['LotFrontage']=all_data.groupby(\"Neighborhood\")[\"LotFrontage\"].transform(\n",
    "    lambda x: x.fillna(x.median()))"
   ]
  },
  {
   "cell_type": "markdown",
   "metadata": {},
   "source": [
    "##### 重点分析 Utilities"
   ]
  },
  {
   "cell_type": "code",
   "execution_count": 21,
   "metadata": {},
   "outputs": [
    {
     "data": {
      "image/png": "[encoded data removed]",
      "text/plain": [
       "<Figure size 864x360 with 2 Axes>"
      ]
     },
     "metadata": {
      "needs_background": "light"
     },
     "output_type": "display_data"
    }
   ],
   "source": [
    "plt.subplots(figsize=(12,5))\n",
    "plt.subplot(1,2,1)\n",
    "g=sns.countplot(x='Utilities',data=train).set_title('Utilities_train')\n",
    "plt.subplot(1,2,2)\n",
    "g=sns.countplot(x='Utilities',data=test).set_title('Utilities_test')"
   ]
  },
  {
   "cell_type": "code",
   "execution_count": 22,
   "metadata": {},
   "outputs": [
    {
     "data": {
      "text/plain": [
       "AllPub    1455\n",
       "NoSeWa       1\n",
       "Name: Utilities, dtype: int64"
      ]
     },
     "execution_count": 22,
     "metadata": {},
     "output_type": "execute_result"
    }
   ],
   "source": [
    "train['Utilities'].value_counts()"
   ]
  },
  {
   "cell_type": "code",
   "execution_count": 23,
   "metadata": {},
   "outputs": [
    {
     "data": {
      "text/plain": [
       "AllPub    1457\n",
       "Name: Utilities, dtype: int64"
      ]
     },
     "execution_count": 23,
     "metadata": {},
     "output_type": "execute_result"
    }
   ],
   "source": [
    "test['Utilities'].value_counts()"
   ]
  },
  {
   "cell_type": "code",
   "execution_count": 24,
   "metadata": {},
   "outputs": [],
   "source": [
    "all_data = all_data.drop(['Utilities'], axis=1)"
   ]
  },
  {
   "cell_type": "code",
   "execution_count": 25,
   "metadata": {},
   "outputs": [
    {
     "name": "stdout",
     "output_type": "stream",
     "text": [
      "Features with missing values:  0\n"
     ]
    }
   ],
   "source": [
    "all_data_na = all_data.isnull().sum()\n",
    "print(\"Features with missing values: \", len(all_data_na.drop(all_data_na[all_data_na == 0].index)))"
   ]
  },
  {
   "cell_type": "code",
   "execution_count": null,
   "metadata": {},
   "outputs": [],
   "source": []
  }
 ],
 "metadata": {
  "kernelspec": {
   "display_name": "Python 3",
   "language": "python",
   "name": "python3"
  },
  "language_info": {
   "codemirror_mode": {
    "name": "ipython",
    "version": 3
   },
   "file_extension": ".py",
   "mimetype": "text/x-python",
   "name": "python",
   "nbconvert_exporter": "python",
   "pygments_lexer": "ipython3",
   "version": "3.6.7"
  },
  "toc": {
   "base_numbering": 1,
   "nav_menu": {},
   "number_sections": true,
   "sideBar": true,
   "skip_h1_title": false,
   "title_cell": "Table of Contents",
   "title_sidebar": "Contents",
   "toc_cell": false,
   "toc_position": {},
   "toc_section_display": true,
   "toc_window_display": true
  }
 },
 "nbformat": 4,
 "nbformat_minor": 2
}
