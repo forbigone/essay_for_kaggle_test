{
 "cells": [
  {
   "cell_type": "code",
   "execution_count": 1,
   "metadata": {},
   "outputs": [],
   "source": [
    "import pandas as pd\n",
    "import numpy as np"
   ]
  },
  {
   "cell_type": "code",
   "execution_count": 2,
   "metadata": {},
   "outputs": [],
   "source": [
    "import matplotlib.pyplot as plt"
   ]
  },
  {
   "cell_type": "markdown",
   "metadata": {},
   "source": [
    "### 创建一个Series ，同时让pandas自动生成索引列"
   ]
  },
  {
   "cell_type": "code",
   "execution_count": 3,
   "metadata": {},
   "outputs": [],
   "source": [
    "s = pd.Series([1,3,5,np.nan,6,8])"
   ]
  },
  {
   "cell_type": "code",
   "execution_count": 4,
   "metadata": {},
   "outputs": [
    {
     "data": {
      "text/plain": [
       "0    1.0\n",
       "1    3.0\n",
       "2    5.0\n",
       "3    NaN\n",
       "4    6.0\n",
       "5    8.0\n",
       "dtype: float64"
      ]
     },
     "execution_count": 4,
     "metadata": {},
     "output_type": "execute_result"
    }
   ],
   "source": [
    "# 查看s\n",
    "s"
   ]
  },
  {
   "cell_type": "markdown",
   "metadata": {},
   "source": [
    "### 创建一个DataFrame数据框"
   ]
  },
  {
   "cell_type": "code",
   "execution_count": 5,
   "metadata": {},
   "outputs": [],
   "source": [
    "### 创建一个DataFrame ，可以传入一个numpy array 可以自己构建索引以及列标\n",
    "dates = pd.date_range('2018-11-01',periods=7)\n",
    "#### 比如说生成一个时间序列，以20181101 为起始位置的，7个日期组成的时间序列，数据的类型为datetime64[ns]"
   ]
  },
  {
   "cell_type": "code",
   "execution_count": 6,
   "metadata": {},
   "outputs": [
    {
     "data": {
      "text/plain": [
       "DatetimeIndex(['2018-11-01', '2018-11-02', '2018-11-03', '2018-11-04',\n",
       "               '2018-11-05', '2018-11-06', '2018-11-07'],\n",
       "              dtype='datetime64[ns]', freq='D')"
      ]
     },
     "execution_count": 6,
     "metadata": {},
     "output_type": "execute_result"
    }
   ],
   "source": [
    "dates"
   ]
  },
  {
   "cell_type": "code",
   "execution_count": 7,
   "metadata": {},
   "outputs": [
    {
     "data": {
      "text/html": [
       "<div>\n",
       "<style scoped>\n",
       "    .dataframe tbody tr th:only-of-type {\n",
       "        vertical-align: middle;\n",
       "    }\n",
       "\n",
       "    .dataframe tbody tr th {\n",
       "        vertical-align: top;\n",
       "    }\n",
       "\n",
       "    .dataframe thead th {\n",
       "        text-align: right;\n",
       "    }\n",
       "</style>\n",
       "<table border=\"1\" class=\"dataframe\">\n",
       "  <thead>\n",
       "    <tr style=\"text-align: right;\">\n",
       "      <th></th>\n",
       "      <th>A</th>\n",
       "      <th>B</th>\n",
       "      <th>C</th>\n",
       "      <th>D</th>\n",
       "    </tr>\n",
       "  </thead>\n",
       "  <tbody>\n",
       "    <tr>\n",
       "      <th>2018-11-01</th>\n",
       "      <td>2.197094</td>\n",
       "      <td>0.908913</td>\n",
       "      <td>-0.648029</td>\n",
       "      <td>-1.325547</td>\n",
       "    </tr>\n",
       "    <tr>\n",
       "      <th>2018-11-02</th>\n",
       "      <td>0.354662</td>\n",
       "      <td>-1.224246</td>\n",
       "      <td>-0.501209</td>\n",
       "      <td>-1.490170</td>\n",
       "    </tr>\n",
       "    <tr>\n",
       "      <th>2018-11-03</th>\n",
       "      <td>-0.245834</td>\n",
       "      <td>-1.049596</td>\n",
       "      <td>2.366225</td>\n",
       "      <td>0.637321</td>\n",
       "    </tr>\n",
       "    <tr>\n",
       "      <th>2018-11-04</th>\n",
       "      <td>-0.689940</td>\n",
       "      <td>0.471282</td>\n",
       "      <td>-1.417401</td>\n",
       "      <td>0.268905</td>\n",
       "    </tr>\n",
       "    <tr>\n",
       "      <th>2018-11-05</th>\n",
       "      <td>-0.548041</td>\n",
       "      <td>-0.841934</td>\n",
       "      <td>0.573128</td>\n",
       "      <td>-1.055175</td>\n",
       "    </tr>\n",
       "    <tr>\n",
       "      <th>2018-11-06</th>\n",
       "      <td>-0.691073</td>\n",
       "      <td>0.933016</td>\n",
       "      <td>1.857647</td>\n",
       "      <td>0.775526</td>\n",
       "    </tr>\n",
       "    <tr>\n",
       "      <th>2018-11-07</th>\n",
       "      <td>0.467075</td>\n",
       "      <td>0.362407</td>\n",
       "      <td>2.319375</td>\n",
       "      <td>-0.721314</td>\n",
       "    </tr>\n",
       "  </tbody>\n",
       "</table>\n",
       "</div>"
      ],
      "text/plain": [
       "                   A         B         C         D\n",
       "2018-11-01  2.197094  0.908913 -0.648029 -1.325547\n",
       "2018-11-02  0.354662 -1.224246 -0.501209 -1.490170\n",
       "2018-11-03 -0.245834 -1.049596  2.366225  0.637321\n",
       "2018-11-04 -0.689940  0.471282 -1.417401  0.268905\n",
       "2018-11-05 -0.548041 -0.841934  0.573128 -1.055175\n",
       "2018-11-06 -0.691073  0.933016  1.857647  0.775526\n",
       "2018-11-07  0.467075  0.362407  2.319375 -0.721314"
      ]
     },
     "execution_count": 7,
     "metadata": {},
     "output_type": "execute_result"
    }
   ],
   "source": [
    "df = pd.DataFrame(np.random.randn(7,4),index= dates,columns=list('ABCD'))\n",
    "df\n",
    "# 产生随机正态分布的数据，7行4列，分别对应的index的长度以及column的长度"
   ]
  },
  {
   "cell_type": "code",
   "execution_count": 8,
   "metadata": {},
   "outputs": [
    {
     "data": {
      "text/html": [
       "<div>\n",
       "<style scoped>\n",
       "    .dataframe tbody tr th:only-of-type {\n",
       "        vertical-align: middle;\n",
       "    }\n",
       "\n",
       "    .dataframe tbody tr th {\n",
       "        vertical-align: top;\n",
       "    }\n",
       "\n",
       "    .dataframe thead th {\n",
       "        text-align: right;\n",
       "    }\n",
       "</style>\n",
       "<table border=\"1\" class=\"dataframe\">\n",
       "  <thead>\n",
       "    <tr style=\"text-align: right;\">\n",
       "      <th></th>\n",
       "      <th>A</th>\n",
       "      <th>B</th>\n",
       "      <th>C</th>\n",
       "      <th>D</th>\n",
       "      <th>E</th>\n",
       "    </tr>\n",
       "  </thead>\n",
       "  <tbody>\n",
       "    <tr>\n",
       "      <th>0</th>\n",
       "      <td>1</td>\n",
       "      <td>20181101</td>\n",
       "      <td>3</td>\n",
       "      <td>test</td>\n",
       "      <td>1.5</td>\n",
       "    </tr>\n",
       "    <tr>\n",
       "      <th>1</th>\n",
       "      <td>1</td>\n",
       "      <td>20181101</td>\n",
       "      <td>3</td>\n",
       "      <td>train</td>\n",
       "      <td>1.5</td>\n",
       "    </tr>\n",
       "    <tr>\n",
       "      <th>2</th>\n",
       "      <td>1</td>\n",
       "      <td>20181101</td>\n",
       "      <td>3</td>\n",
       "      <td>test</td>\n",
       "      <td>1.5</td>\n",
       "    </tr>\n",
       "    <tr>\n",
       "      <th>3</th>\n",
       "      <td>1</td>\n",
       "      <td>20181101</td>\n",
       "      <td>3</td>\n",
       "      <td>train</td>\n",
       "      <td>1.5</td>\n",
       "    </tr>\n",
       "  </tbody>\n",
       "</table>\n",
       "</div>"
      ],
      "text/plain": [
       "   A         B  C      D    E\n",
       "0  1  20181101  3   test  1.5\n",
       "1  1  20181101  3  train  1.5\n",
       "2  1  20181101  3   test  1.5\n",
       "3  1  20181101  3  train  1.5"
      ]
     },
     "execution_count": 8,
     "metadata": {},
     "output_type": "execute_result"
    }
   ],
   "source": [
    "### 同时用可以使用dict的实行创建DataFrame\n",
    "df2 = pd.DataFrame({\"A\":1,\n",
    "                   \"B\":\"20181101\",\n",
    "                   'C':np.array([3]*4,dtype='int32'),\n",
    "                   'D':pd.Categorical(['test','train','test','train']),\n",
    "                   \"E\":1.5},\n",
    "                  )\n",
    "df2"
   ]
  },
  {
   "cell_type": "code",
   "execution_count": 9,
   "metadata": {},
   "outputs": [
    {
     "data": {
      "text/plain": [
       "A       int64\n",
       "B      object\n",
       "C       int32\n",
       "D    category\n",
       "E     float64\n",
       "dtype: object"
      ]
     },
     "execution_count": 9,
     "metadata": {},
     "output_type": "execute_result"
    }
   ],
   "source": [
    "df2.dtypes\n",
    "### 查看数据框中的数据类型,常见的数据类型还有时间类型以及float类型"
   ]
  },
  {
   "cell_type": "markdown",
   "metadata": {},
   "source": [
    "### 查看数据"
   ]
  },
  {
   "cell_type": "code",
   "execution_count": 10,
   "metadata": {},
   "outputs": [
    {
     "data": {
      "text/html": [
       "<div>\n",
       "<style scoped>\n",
       "    .dataframe tbody tr th:only-of-type {\n",
       "        vertical-align: middle;\n",
       "    }\n",
       "\n",
       "    .dataframe tbody tr th {\n",
       "        vertical-align: top;\n",
       "    }\n",
       "\n",
       "    .dataframe thead th {\n",
       "        text-align: right;\n",
       "    }\n",
       "</style>\n",
       "<table border=\"1\" class=\"dataframe\">\n",
       "  <thead>\n",
       "    <tr style=\"text-align: right;\">\n",
       "      <th></th>\n",
       "      <th>A</th>\n",
       "      <th>B</th>\n",
       "      <th>C</th>\n",
       "      <th>D</th>\n",
       "    </tr>\n",
       "  </thead>\n",
       "  <tbody>\n",
       "    <tr>\n",
       "      <th>2018-11-01</th>\n",
       "      <td>2.197094</td>\n",
       "      <td>0.908913</td>\n",
       "      <td>-0.648029</td>\n",
       "      <td>-1.325547</td>\n",
       "    </tr>\n",
       "    <tr>\n",
       "      <th>2018-11-02</th>\n",
       "      <td>0.354662</td>\n",
       "      <td>-1.224246</td>\n",
       "      <td>-0.501209</td>\n",
       "      <td>-1.490170</td>\n",
       "    </tr>\n",
       "    <tr>\n",
       "      <th>2018-11-03</th>\n",
       "      <td>-0.245834</td>\n",
       "      <td>-1.049596</td>\n",
       "      <td>2.366225</td>\n",
       "      <td>0.637321</td>\n",
       "    </tr>\n",
       "    <tr>\n",
       "      <th>2018-11-04</th>\n",
       "      <td>-0.689940</td>\n",
       "      <td>0.471282</td>\n",
       "      <td>-1.417401</td>\n",
       "      <td>0.268905</td>\n",
       "    </tr>\n",
       "    <tr>\n",
       "      <th>2018-11-05</th>\n",
       "      <td>-0.548041</td>\n",
       "      <td>-0.841934</td>\n",
       "      <td>0.573128</td>\n",
       "      <td>-1.055175</td>\n",
       "    </tr>\n",
       "  </tbody>\n",
       "</table>\n",
       "</div>"
      ],
      "text/plain": [
       "                   A         B         C         D\n",
       "2018-11-01  2.197094  0.908913 -0.648029 -1.325547\n",
       "2018-11-02  0.354662 -1.224246 -0.501209 -1.490170\n",
       "2018-11-03 -0.245834 -1.049596  2.366225  0.637321\n",
       "2018-11-04 -0.689940  0.471282 -1.417401  0.268905\n",
       "2018-11-05 -0.548041 -0.841934  0.573128 -1.055175"
      ]
     },
     "execution_count": 10,
     "metadata": {},
     "output_type": "execute_result"
    }
   ],
   "source": [
    "\n",
    "# 比如说看前5行\n",
    "df.head()"
   ]
  },
  {
   "cell_type": "code",
   "execution_count": 11,
   "metadata": {},
   "outputs": [
    {
     "data": {
      "text/html": [
       "<div>\n",
       "<style scoped>\n",
       "    .dataframe tbody tr th:only-of-type {\n",
       "        vertical-align: middle;\n",
       "    }\n",
       "\n",
       "    .dataframe tbody tr th {\n",
       "        vertical-align: top;\n",
       "    }\n",
       "\n",
       "    .dataframe thead th {\n",
       "        text-align: right;\n",
       "    }\n",
       "</style>\n",
       "<table border=\"1\" class=\"dataframe\">\n",
       "  <thead>\n",
       "    <tr style=\"text-align: right;\">\n",
       "      <th></th>\n",
       "      <th>A</th>\n",
       "      <th>B</th>\n",
       "      <th>C</th>\n",
       "      <th>D</th>\n",
       "    </tr>\n",
       "  </thead>\n",
       "  <tbody>\n",
       "    <tr>\n",
       "      <th>2018-11-04</th>\n",
       "      <td>-0.689940</td>\n",
       "      <td>0.471282</td>\n",
       "      <td>-1.417401</td>\n",
       "      <td>0.268905</td>\n",
       "    </tr>\n",
       "    <tr>\n",
       "      <th>2018-11-05</th>\n",
       "      <td>-0.548041</td>\n",
       "      <td>-0.841934</td>\n",
       "      <td>0.573128</td>\n",
       "      <td>-1.055175</td>\n",
       "    </tr>\n",
       "    <tr>\n",
       "      <th>2018-11-06</th>\n",
       "      <td>-0.691073</td>\n",
       "      <td>0.933016</td>\n",
       "      <td>1.857647</td>\n",
       "      <td>0.775526</td>\n",
       "    </tr>\n",
       "    <tr>\n",
       "      <th>2018-11-07</th>\n",
       "      <td>0.467075</td>\n",
       "      <td>0.362407</td>\n",
       "      <td>2.319375</td>\n",
       "      <td>-0.721314</td>\n",
       "    </tr>\n",
       "  </tbody>\n",
       "</table>\n",
       "</div>"
      ],
      "text/plain": [
       "                   A         B         C         D\n",
       "2018-11-04 -0.689940  0.471282 -1.417401  0.268905\n",
       "2018-11-05 -0.548041 -0.841934  0.573128 -1.055175\n",
       "2018-11-06 -0.691073  0.933016  1.857647  0.775526\n",
       "2018-11-07  0.467075  0.362407  2.319375 -0.721314"
      ]
     },
     "execution_count": 11,
     "metadata": {},
     "output_type": "execute_result"
    }
   ],
   "source": [
    "# 后4行\n",
    "df.tail(4)"
   ]
  },
  {
   "cell_type": "code",
   "execution_count": 12,
   "metadata": {},
   "outputs": [
    {
     "data": {
      "text/plain": [
       "DatetimeIndex(['2018-11-01', '2018-11-02', '2018-11-03', '2018-11-04',\n",
       "               '2018-11-05', '2018-11-06', '2018-11-07'],\n",
       "              dtype='datetime64[ns]', freq='D')"
      ]
     },
     "execution_count": 12,
     "metadata": {},
     "output_type": "execute_result"
    }
   ],
   "source": [
    "# 查看DataFrame的索引\n",
    "df.index"
   ]
  },
  {
   "cell_type": "code",
   "execution_count": 13,
   "metadata": {},
   "outputs": [
    {
     "data": {
      "text/plain": [
       "Index(['A', 'B', 'C', 'D'], dtype='object')"
      ]
     },
     "execution_count": 13,
     "metadata": {},
     "output_type": "execute_result"
    }
   ],
   "source": [
    "# 查看DataFrame的列索引\n",
    "df.columns\n"
   ]
  },
  {
   "cell_type": "code",
   "execution_count": 14,
   "metadata": {},
   "outputs": [
    {
     "data": {
      "text/plain": [
       "array([[ 2.19709382,  0.90891281, -0.64802911, -1.32554721],\n",
       "       [ 0.35466158, -1.22424591, -0.50120854, -1.49017025],\n",
       "       [-0.24583358, -1.04959585,  2.36622453,  0.6373212 ],\n",
       "       [-0.6899396 ,  0.47128154, -1.41740143,  0.26890482],\n",
       "       [-0.54804068, -0.84193368,  0.57312781, -1.05517487],\n",
       "       [-0.6910726 ,  0.93301611,  1.85764662,  0.77552552],\n",
       "       [ 0.46707509,  0.36240665,  2.31937488, -0.721314  ]])"
      ]
     },
     "execution_count": 14,
     "metadata": {},
     "output_type": "execute_result"
    }
   ],
   "source": [
    "# 查看DataFrame的数据,将DataFrame转化为numpy array 的数据形式\n",
    "df.values"
   ]
  },
  {
   "cell_type": "markdown",
   "metadata": {},
   "source": [
    "### 数据的简单统计"
   ]
  },
  {
   "cell_type": "code",
   "execution_count": 15,
   "metadata": {},
   "outputs": [
    {
     "data": {
      "text/html": [
       "<div>\n",
       "<style scoped>\n",
       "    .dataframe tbody tr th:only-of-type {\n",
       "        vertical-align: middle;\n",
       "    }\n",
       "\n",
       "    .dataframe tbody tr th {\n",
       "        vertical-align: top;\n",
       "    }\n",
       "\n",
       "    .dataframe thead th {\n",
       "        text-align: right;\n",
       "    }\n",
       "</style>\n",
       "<table border=\"1\" class=\"dataframe\">\n",
       "  <thead>\n",
       "    <tr style=\"text-align: right;\">\n",
       "      <th></th>\n",
       "      <th>A</th>\n",
       "      <th>B</th>\n",
       "      <th>C</th>\n",
       "      <th>D</th>\n",
       "    </tr>\n",
       "  </thead>\n",
       "  <tbody>\n",
       "    <tr>\n",
       "      <th>count</th>\n",
       "      <td>7.000000</td>\n",
       "      <td>7.000000</td>\n",
       "      <td>7.000000</td>\n",
       "      <td>7.000000</td>\n",
       "    </tr>\n",
       "    <tr>\n",
       "      <th>mean</th>\n",
       "      <td>0.120563</td>\n",
       "      <td>-0.062880</td>\n",
       "      <td>0.649962</td>\n",
       "      <td>-0.415779</td>\n",
       "    </tr>\n",
       "    <tr>\n",
       "      <th>std</th>\n",
       "      <td>1.031487</td>\n",
       "      <td>0.942664</td>\n",
       "      <td>1.553537</td>\n",
       "      <td>0.955789</td>\n",
       "    </tr>\n",
       "    <tr>\n",
       "      <th>min</th>\n",
       "      <td>-0.691073</td>\n",
       "      <td>-1.224246</td>\n",
       "      <td>-1.417401</td>\n",
       "      <td>-1.490170</td>\n",
       "    </tr>\n",
       "    <tr>\n",
       "      <th>25%</th>\n",
       "      <td>-0.618990</td>\n",
       "      <td>-0.945765</td>\n",
       "      <td>-0.574619</td>\n",
       "      <td>-1.190361</td>\n",
       "    </tr>\n",
       "    <tr>\n",
       "      <th>50%</th>\n",
       "      <td>-0.245834</td>\n",
       "      <td>0.362407</td>\n",
       "      <td>0.573128</td>\n",
       "      <td>-0.721314</td>\n",
       "    </tr>\n",
       "    <tr>\n",
       "      <th>75%</th>\n",
       "      <td>0.410868</td>\n",
       "      <td>0.690097</td>\n",
       "      <td>2.088511</td>\n",
       "      <td>0.453113</td>\n",
       "    </tr>\n",
       "    <tr>\n",
       "      <th>max</th>\n",
       "      <td>2.197094</td>\n",
       "      <td>0.933016</td>\n",
       "      <td>2.366225</td>\n",
       "      <td>0.775526</td>\n",
       "    </tr>\n",
       "  </tbody>\n",
       "</table>\n",
       "</div>"
      ],
      "text/plain": [
       "              A         B         C         D\n",
       "count  7.000000  7.000000  7.000000  7.000000\n",
       "mean   0.120563 -0.062880  0.649962 -0.415779\n",
       "std    1.031487  0.942664  1.553537  0.955789\n",
       "min   -0.691073 -1.224246 -1.417401 -1.490170\n",
       "25%   -0.618990 -0.945765 -0.574619 -1.190361\n",
       "50%   -0.245834  0.362407  0.573128 -0.721314\n",
       "75%    0.410868  0.690097  2.088511  0.453113\n",
       "max    2.197094  0.933016  2.366225  0.775526"
      ]
     },
     "execution_count": 15,
     "metadata": {},
     "output_type": "execute_result"
    }
   ],
   "source": [
    "# 可以使用describe函数对DataFrame中的数值型数据进行统计\n",
    "df.describe()"
   ]
  },
  {
   "cell_type": "code",
   "execution_count": 16,
   "metadata": {},
   "outputs": [
    {
     "data": {
      "text/html": [
       "<div>\n",
       "<style scoped>\n",
       "    .dataframe tbody tr th:only-of-type {\n",
       "        vertical-align: middle;\n",
       "    }\n",
       "\n",
       "    .dataframe tbody tr th {\n",
       "        vertical-align: top;\n",
       "    }\n",
       "\n",
       "    .dataframe thead th {\n",
       "        text-align: right;\n",
       "    }\n",
       "</style>\n",
       "<table border=\"1\" class=\"dataframe\">\n",
       "  <thead>\n",
       "    <tr style=\"text-align: right;\">\n",
       "      <th></th>\n",
       "      <th>A</th>\n",
       "      <th>C</th>\n",
       "      <th>E</th>\n",
       "    </tr>\n",
       "  </thead>\n",
       "  <tbody>\n",
       "    <tr>\n",
       "      <th>count</th>\n",
       "      <td>4.0</td>\n",
       "      <td>4.0</td>\n",
       "      <td>4.0</td>\n",
       "    </tr>\n",
       "    <tr>\n",
       "      <th>mean</th>\n",
       "      <td>1.0</td>\n",
       "      <td>3.0</td>\n",
       "      <td>1.5</td>\n",
       "    </tr>\n",
       "    <tr>\n",
       "      <th>std</th>\n",
       "      <td>0.0</td>\n",
       "      <td>0.0</td>\n",
       "      <td>0.0</td>\n",
       "    </tr>\n",
       "    <tr>\n",
       "      <th>min</th>\n",
       "      <td>1.0</td>\n",
       "      <td>3.0</td>\n",
       "      <td>1.5</td>\n",
       "    </tr>\n",
       "    <tr>\n",
       "      <th>25%</th>\n",
       "      <td>1.0</td>\n",
       "      <td>3.0</td>\n",
       "      <td>1.5</td>\n",
       "    </tr>\n",
       "    <tr>\n",
       "      <th>50%</th>\n",
       "      <td>1.0</td>\n",
       "      <td>3.0</td>\n",
       "      <td>1.5</td>\n",
       "    </tr>\n",
       "    <tr>\n",
       "      <th>75%</th>\n",
       "      <td>1.0</td>\n",
       "      <td>3.0</td>\n",
       "      <td>1.5</td>\n",
       "    </tr>\n",
       "    <tr>\n",
       "      <th>max</th>\n",
       "      <td>1.0</td>\n",
       "      <td>3.0</td>\n",
       "      <td>1.5</td>\n",
       "    </tr>\n",
       "  </tbody>\n",
       "</table>\n",
       "</div>"
      ],
      "text/plain": [
       "         A    C    E\n",
       "count  4.0  4.0  4.0\n",
       "mean   1.0  3.0  1.5\n",
       "std    0.0  0.0  0.0\n",
       "min    1.0  3.0  1.5\n",
       "25%    1.0  3.0  1.5\n",
       "50%    1.0  3.0  1.5\n",
       "75%    1.0  3.0  1.5\n",
       "max    1.0  3.0  1.5"
      ]
     },
     "execution_count": 16,
     "metadata": {},
     "output_type": "execute_result"
    }
   ],
   "source": [
    "df2.describe()\n",
    "### 对于其他的数据类型的数据describe函数会自动过滤掉"
   ]
  },
  {
   "cell_type": "code",
   "execution_count": 17,
   "metadata": {},
   "outputs": [
    {
     "data": {
      "text/html": [
       "<div>\n",
       "<style scoped>\n",
       "    .dataframe tbody tr th:only-of-type {\n",
       "        vertical-align: middle;\n",
       "    }\n",
       "\n",
       "    .dataframe tbody tr th {\n",
       "        vertical-align: top;\n",
       "    }\n",
       "\n",
       "    .dataframe thead th {\n",
       "        text-align: right;\n",
       "    }\n",
       "</style>\n",
       "<table border=\"1\" class=\"dataframe\">\n",
       "  <thead>\n",
       "    <tr style=\"text-align: right;\">\n",
       "      <th></th>\n",
       "      <th>2018-11-01 00:00:00</th>\n",
       "      <th>2018-11-02 00:00:00</th>\n",
       "      <th>2018-11-03 00:00:00</th>\n",
       "      <th>2018-11-04 00:00:00</th>\n",
       "      <th>2018-11-05 00:00:00</th>\n",
       "      <th>2018-11-06 00:00:00</th>\n",
       "      <th>2018-11-07 00:00:00</th>\n",
       "    </tr>\n",
       "  </thead>\n",
       "  <tbody>\n",
       "    <tr>\n",
       "      <th>A</th>\n",
       "      <td>2.197094</td>\n",
       "      <td>0.354662</td>\n",
       "      <td>-0.245834</td>\n",
       "      <td>-0.689940</td>\n",
       "      <td>-0.548041</td>\n",
       "      <td>-0.691073</td>\n",
       "      <td>0.467075</td>\n",
       "    </tr>\n",
       "    <tr>\n",
       "      <th>B</th>\n",
       "      <td>0.908913</td>\n",
       "      <td>-1.224246</td>\n",
       "      <td>-1.049596</td>\n",
       "      <td>0.471282</td>\n",
       "      <td>-0.841934</td>\n",
       "      <td>0.933016</td>\n",
       "      <td>0.362407</td>\n",
       "    </tr>\n",
       "    <tr>\n",
       "      <th>C</th>\n",
       "      <td>-0.648029</td>\n",
       "      <td>-0.501209</td>\n",
       "      <td>2.366225</td>\n",
       "      <td>-1.417401</td>\n",
       "      <td>0.573128</td>\n",
       "      <td>1.857647</td>\n",
       "      <td>2.319375</td>\n",
       "    </tr>\n",
       "    <tr>\n",
       "      <th>D</th>\n",
       "      <td>-1.325547</td>\n",
       "      <td>-1.490170</td>\n",
       "      <td>0.637321</td>\n",
       "      <td>0.268905</td>\n",
       "      <td>-1.055175</td>\n",
       "      <td>0.775526</td>\n",
       "      <td>-0.721314</td>\n",
       "    </tr>\n",
       "  </tbody>\n",
       "</table>\n",
       "</div>"
      ],
      "text/plain": [
       "   2018-11-01  2018-11-02  2018-11-03  2018-11-04  2018-11-05  2018-11-06  \\\n",
       "A    2.197094    0.354662   -0.245834   -0.689940   -0.548041   -0.691073   \n",
       "B    0.908913   -1.224246   -1.049596    0.471282   -0.841934    0.933016   \n",
       "C   -0.648029   -0.501209    2.366225   -1.417401    0.573128    1.857647   \n",
       "D   -1.325547   -1.490170    0.637321    0.268905   -1.055175    0.775526   \n",
       "\n",
       "   2018-11-07  \n",
       "A    0.467075  \n",
       "B    0.362407  \n",
       "C    2.319375  \n",
       "D   -0.721314  "
      ]
     },
     "execution_count": 17,
     "metadata": {},
     "output_type": "execute_result"
    }
   ],
   "source": [
    "### DataFrame 的转置，将列索引与行索引进行调换，行数据与列数进行调换\n",
    "df.T"
   ]
  },
  {
   "cell_type": "code",
   "execution_count": 18,
   "metadata": {},
   "outputs": [
    {
     "data": {
      "text/html": [
       "<div>\n",
       "<style scoped>\n",
       "    .dataframe tbody tr th:only-of-type {\n",
       "        vertical-align: middle;\n",
       "    }\n",
       "\n",
       "    .dataframe tbody tr th {\n",
       "        vertical-align: top;\n",
       "    }\n",
       "\n",
       "    .dataframe thead th {\n",
       "        text-align: right;\n",
       "    }\n",
       "</style>\n",
       "<table border=\"1\" class=\"dataframe\">\n",
       "  <thead>\n",
       "    <tr style=\"text-align: right;\">\n",
       "      <th></th>\n",
       "      <th>A</th>\n",
       "      <th>B</th>\n",
       "      <th>C</th>\n",
       "      <th>D</th>\n",
       "    </tr>\n",
       "  </thead>\n",
       "  <tbody>\n",
       "    <tr>\n",
       "      <th>2018-11-01</th>\n",
       "      <td>2.197094</td>\n",
       "      <td>0.908913</td>\n",
       "      <td>-0.648029</td>\n",
       "      <td>-1.325547</td>\n",
       "    </tr>\n",
       "    <tr>\n",
       "      <th>2018-11-02</th>\n",
       "      <td>0.354662</td>\n",
       "      <td>-1.224246</td>\n",
       "      <td>-0.501209</td>\n",
       "      <td>-1.490170</td>\n",
       "    </tr>\n",
       "    <tr>\n",
       "      <th>2018-11-03</th>\n",
       "      <td>-0.245834</td>\n",
       "      <td>-1.049596</td>\n",
       "      <td>2.366225</td>\n",
       "      <td>0.637321</td>\n",
       "    </tr>\n",
       "    <tr>\n",
       "      <th>2018-11-04</th>\n",
       "      <td>-0.689940</td>\n",
       "      <td>0.471282</td>\n",
       "      <td>-1.417401</td>\n",
       "      <td>0.268905</td>\n",
       "    </tr>\n",
       "    <tr>\n",
       "      <th>2018-11-05</th>\n",
       "      <td>-0.548041</td>\n",
       "      <td>-0.841934</td>\n",
       "      <td>0.573128</td>\n",
       "      <td>-1.055175</td>\n",
       "    </tr>\n",
       "    <tr>\n",
       "      <th>2018-11-06</th>\n",
       "      <td>-0.691073</td>\n",
       "      <td>0.933016</td>\n",
       "      <td>1.857647</td>\n",
       "      <td>0.775526</td>\n",
       "    </tr>\n",
       "    <tr>\n",
       "      <th>2018-11-07</th>\n",
       "      <td>0.467075</td>\n",
       "      <td>0.362407</td>\n",
       "      <td>2.319375</td>\n",
       "      <td>-0.721314</td>\n",
       "    </tr>\n",
       "  </tbody>\n",
       "</table>\n",
       "</div>"
      ],
      "text/plain": [
       "                   A         B         C         D\n",
       "2018-11-01  2.197094  0.908913 -0.648029 -1.325547\n",
       "2018-11-02  0.354662 -1.224246 -0.501209 -1.490170\n",
       "2018-11-03 -0.245834 -1.049596  2.366225  0.637321\n",
       "2018-11-04 -0.689940  0.471282 -1.417401  0.268905\n",
       "2018-11-05 -0.548041 -0.841934  0.573128 -1.055175\n",
       "2018-11-06 -0.691073  0.933016  1.857647  0.775526\n",
       "2018-11-07  0.467075  0.362407  2.319375 -0.721314"
      ]
     },
     "execution_count": 18,
     "metadata": {},
     "output_type": "execute_result"
    }
   ],
   "source": [
    "df"
   ]
  },
  {
   "cell_type": "markdown",
   "metadata": {},
   "source": [
    "### 数据的排序"
   ]
  },
  {
   "cell_type": "code",
   "execution_count": 19,
   "metadata": {},
   "outputs": [
    {
     "data": {
      "text/html": [
       "<div>\n",
       "<style scoped>\n",
       "    .dataframe tbody tr th:only-of-type {\n",
       "        vertical-align: middle;\n",
       "    }\n",
       "\n",
       "    .dataframe tbody tr th {\n",
       "        vertical-align: top;\n",
       "    }\n",
       "\n",
       "    .dataframe thead th {\n",
       "        text-align: right;\n",
       "    }\n",
       "</style>\n",
       "<table border=\"1\" class=\"dataframe\">\n",
       "  <thead>\n",
       "    <tr style=\"text-align: right;\">\n",
       "      <th></th>\n",
       "      <th>A</th>\n",
       "      <th>B</th>\n",
       "      <th>C</th>\n",
       "      <th>D</th>\n",
       "    </tr>\n",
       "  </thead>\n",
       "  <tbody>\n",
       "    <tr>\n",
       "      <th>2018-11-07</th>\n",
       "      <td>0.467075</td>\n",
       "      <td>0.362407</td>\n",
       "      <td>2.319375</td>\n",
       "      <td>-0.721314</td>\n",
       "    </tr>\n",
       "    <tr>\n",
       "      <th>2018-11-06</th>\n",
       "      <td>-0.691073</td>\n",
       "      <td>0.933016</td>\n",
       "      <td>1.857647</td>\n",
       "      <td>0.775526</td>\n",
       "    </tr>\n",
       "    <tr>\n",
       "      <th>2018-11-05</th>\n",
       "      <td>-0.548041</td>\n",
       "      <td>-0.841934</td>\n",
       "      <td>0.573128</td>\n",
       "      <td>-1.055175</td>\n",
       "    </tr>\n",
       "    <tr>\n",
       "      <th>2018-11-04</th>\n",
       "      <td>-0.689940</td>\n",
       "      <td>0.471282</td>\n",
       "      <td>-1.417401</td>\n",
       "      <td>0.268905</td>\n",
       "    </tr>\n",
       "    <tr>\n",
       "      <th>2018-11-03</th>\n",
       "      <td>-0.245834</td>\n",
       "      <td>-1.049596</td>\n",
       "      <td>2.366225</td>\n",
       "      <td>0.637321</td>\n",
       "    </tr>\n",
       "    <tr>\n",
       "      <th>2018-11-02</th>\n",
       "      <td>0.354662</td>\n",
       "      <td>-1.224246</td>\n",
       "      <td>-0.501209</td>\n",
       "      <td>-1.490170</td>\n",
       "    </tr>\n",
       "    <tr>\n",
       "      <th>2018-11-01</th>\n",
       "      <td>2.197094</td>\n",
       "      <td>0.908913</td>\n",
       "      <td>-0.648029</td>\n",
       "      <td>-1.325547</td>\n",
       "    </tr>\n",
       "  </tbody>\n",
       "</table>\n",
       "</div>"
      ],
      "text/plain": [
       "                   A         B         C         D\n",
       "2018-11-07  0.467075  0.362407  2.319375 -0.721314\n",
       "2018-11-06 -0.691073  0.933016  1.857647  0.775526\n",
       "2018-11-05 -0.548041 -0.841934  0.573128 -1.055175\n",
       "2018-11-04 -0.689940  0.471282 -1.417401  0.268905\n",
       "2018-11-03 -0.245834 -1.049596  2.366225  0.637321\n",
       "2018-11-02  0.354662 -1.224246 -0.501209 -1.490170\n",
       "2018-11-01  2.197094  0.908913 -0.648029 -1.325547"
      ]
     },
     "execution_count": 19,
     "metadata": {},
     "output_type": "execute_result"
    }
   ],
   "source": [
    "df.sort_index(ascending=False)\n",
    "### 降序，按照列进行降序，通过该索引列"
   ]
  },
  {
   "cell_type": "code",
   "execution_count": 20,
   "metadata": {},
   "outputs": [
    {
     "name": "stdout",
     "output_type": "stream",
     "text": [
      "                   A         B         C         D\n",
      "2018-11-02  0.354662 -1.224246 -0.501209 -1.490170\n",
      "2018-11-03 -0.245834 -1.049596  2.366225  0.637321\n",
      "2018-11-05 -0.548041 -0.841934  0.573128 -1.055175\n",
      "2018-11-07  0.467075  0.362407  2.319375 -0.721314\n",
      "2018-11-04 -0.689940  0.471282 -1.417401  0.268905\n",
      "2018-11-01  2.197094  0.908913 -0.648029 -1.325547\n",
      "2018-11-06 -0.691073  0.933016  1.857647  0.775526\n"
     ]
    },
    {
     "data": {
      "text/html": [
       "<div>\n",
       "<style scoped>\n",
       "    .dataframe tbody tr th:only-of-type {\n",
       "        vertical-align: middle;\n",
       "    }\n",
       "\n",
       "    .dataframe tbody tr th {\n",
       "        vertical-align: top;\n",
       "    }\n",
       "\n",
       "    .dataframe thead th {\n",
       "        text-align: right;\n",
       "    }\n",
       "</style>\n",
       "<table border=\"1\" class=\"dataframe\">\n",
       "  <thead>\n",
       "    <tr style=\"text-align: right;\">\n",
       "      <th></th>\n",
       "      <th>A</th>\n",
       "      <th>B</th>\n",
       "      <th>C</th>\n",
       "      <th>D</th>\n",
       "    </tr>\n",
       "  </thead>\n",
       "  <tbody>\n",
       "    <tr>\n",
       "      <th>2018-11-02</th>\n",
       "      <td>0.354662</td>\n",
       "      <td>-1.224246</td>\n",
       "      <td>-0.501209</td>\n",
       "      <td>-1.490170</td>\n",
       "    </tr>\n",
       "    <tr>\n",
       "      <th>2018-11-03</th>\n",
       "      <td>-0.245834</td>\n",
       "      <td>-1.049596</td>\n",
       "      <td>2.366225</td>\n",
       "      <td>0.637321</td>\n",
       "    </tr>\n",
       "    <tr>\n",
       "      <th>2018-11-05</th>\n",
       "      <td>-0.548041</td>\n",
       "      <td>-0.841934</td>\n",
       "      <td>0.573128</td>\n",
       "      <td>-1.055175</td>\n",
       "    </tr>\n",
       "    <tr>\n",
       "      <th>2018-11-07</th>\n",
       "      <td>0.467075</td>\n",
       "      <td>0.362407</td>\n",
       "      <td>2.319375</td>\n",
       "      <td>-0.721314</td>\n",
       "    </tr>\n",
       "    <tr>\n",
       "      <th>2018-11-04</th>\n",
       "      <td>-0.689940</td>\n",
       "      <td>0.471282</td>\n",
       "      <td>-1.417401</td>\n",
       "      <td>0.268905</td>\n",
       "    </tr>\n",
       "    <tr>\n",
       "      <th>2018-11-01</th>\n",
       "      <td>2.197094</td>\n",
       "      <td>0.908913</td>\n",
       "      <td>-0.648029</td>\n",
       "      <td>-1.325547</td>\n",
       "    </tr>\n",
       "    <tr>\n",
       "      <th>2018-11-06</th>\n",
       "      <td>-0.691073</td>\n",
       "      <td>0.933016</td>\n",
       "      <td>1.857647</td>\n",
       "      <td>0.775526</td>\n",
       "    </tr>\n",
       "  </tbody>\n",
       "</table>\n",
       "</div>"
      ],
      "text/plain": [
       "                   A         B         C         D\n",
       "2018-11-02  0.354662 -1.224246 -0.501209 -1.490170\n",
       "2018-11-03 -0.245834 -1.049596  2.366225  0.637321\n",
       "2018-11-05 -0.548041 -0.841934  0.573128 -1.055175\n",
       "2018-11-07  0.467075  0.362407  2.319375 -0.721314\n",
       "2018-11-04 -0.689940  0.471282 -1.417401  0.268905\n",
       "2018-11-01  2.197094  0.908913 -0.648029 -1.325547\n",
       "2018-11-06 -0.691073  0.933016  1.857647  0.775526"
      ]
     },
     "execution_count": 20,
     "metadata": {},
     "output_type": "execute_result"
    }
   ],
   "source": [
    "\n",
    "print(df.sort_values(by=['B','A']))\n",
    "#  默认是升序,可以选择多指排序，先照B，后排A，如果B中的数据一样，则按照A中的大小进行排序\n",
    "df.sort_values(by='B')"
   ]
  },
  {
   "cell_type": "markdown",
   "metadata": {
    "collapsed": true
   },
   "source": [
    "### 选择数据（类似于数据库中sql语句）"
   ]
  },
  {
   "cell_type": "code",
   "execution_count": 21,
   "metadata": {},
   "outputs": [
    {
     "data": {
      "text/plain": [
       "2018-11-01    2.197094\n",
       "2018-11-02    0.354662\n",
       "2018-11-03   -0.245834\n",
       "2018-11-04   -0.689940\n",
       "2018-11-05   -0.548041\n",
       "2018-11-06   -0.691073\n",
       "2018-11-07    0.467075\n",
       "Freq: D, Name: A, dtype: float64"
      ]
     },
     "execution_count": 21,
     "metadata": {},
     "output_type": "execute_result"
    }
   ],
   "source": [
    "df['A']\n",
    "# 取出单独的一列数据，等价于df.A"
   ]
  },
  {
   "cell_type": "code",
   "execution_count": 22,
   "metadata": {},
   "outputs": [
    {
     "data": {
      "text/html": [
       "<div>\n",
       "<style scoped>\n",
       "    .dataframe tbody tr th:only-of-type {\n",
       "        vertical-align: middle;\n",
       "    }\n",
       "\n",
       "    .dataframe tbody tr th {\n",
       "        vertical-align: top;\n",
       "    }\n",
       "\n",
       "    .dataframe thead th {\n",
       "        text-align: right;\n",
       "    }\n",
       "</style>\n",
       "<table border=\"1\" class=\"dataframe\">\n",
       "  <thead>\n",
       "    <tr style=\"text-align: right;\">\n",
       "      <th></th>\n",
       "      <th>A</th>\n",
       "      <th>B</th>\n",
       "      <th>C</th>\n",
       "      <th>D</th>\n",
       "    </tr>\n",
       "  </thead>\n",
       "  <tbody>\n",
       "    <tr>\n",
       "      <th>2018-11-01</th>\n",
       "      <td>2.197094</td>\n",
       "      <td>0.908913</td>\n",
       "      <td>-0.648029</td>\n",
       "      <td>-1.325547</td>\n",
       "    </tr>\n",
       "    <tr>\n",
       "      <th>2018-11-02</th>\n",
       "      <td>0.354662</td>\n",
       "      <td>-1.224246</td>\n",
       "      <td>-0.501209</td>\n",
       "      <td>-1.490170</td>\n",
       "    </tr>\n",
       "    <tr>\n",
       "      <th>2018-11-03</th>\n",
       "      <td>-0.245834</td>\n",
       "      <td>-1.049596</td>\n",
       "      <td>2.366225</td>\n",
       "      <td>0.637321</td>\n",
       "    </tr>\n",
       "  </tbody>\n",
       "</table>\n",
       "</div>"
      ],
      "text/plain": [
       "                   A         B         C         D\n",
       "2018-11-01  2.197094  0.908913 -0.648029 -1.325547\n",
       "2018-11-02  0.354662 -1.224246 -0.501209 -1.490170\n",
       "2018-11-03 -0.245834 -1.049596  2.366225  0.637321"
      ]
     },
     "execution_count": 22,
     "metadata": {},
     "output_type": "execute_result"
    }
   ],
   "source": [
    "# 通过[]进行行选择切片\n",
    "df[0:3]"
   ]
  },
  {
   "cell_type": "code",
   "execution_count": 23,
   "metadata": {},
   "outputs": [
    {
     "data": {
      "text/html": [
       "<div>\n",
       "<style scoped>\n",
       "    .dataframe tbody tr th:only-of-type {\n",
       "        vertical-align: middle;\n",
       "    }\n",
       "\n",
       "    .dataframe tbody tr th {\n",
       "        vertical-align: top;\n",
       "    }\n",
       "\n",
       "    .dataframe thead th {\n",
       "        text-align: right;\n",
       "    }\n",
       "</style>\n",
       "<table border=\"1\" class=\"dataframe\">\n",
       "  <thead>\n",
       "    <tr style=\"text-align: right;\">\n",
       "      <th></th>\n",
       "      <th>A</th>\n",
       "      <th>B</th>\n",
       "      <th>C</th>\n",
       "      <th>D</th>\n",
       "    </tr>\n",
       "  </thead>\n",
       "  <tbody>\n",
       "    <tr>\n",
       "      <th>2018-11-01</th>\n",
       "      <td>2.197094</td>\n",
       "      <td>0.908913</td>\n",
       "      <td>-0.648029</td>\n",
       "      <td>-1.325547</td>\n",
       "    </tr>\n",
       "    <tr>\n",
       "      <th>2018-11-02</th>\n",
       "      <td>0.354662</td>\n",
       "      <td>-1.224246</td>\n",
       "      <td>-0.501209</td>\n",
       "      <td>-1.490170</td>\n",
       "    </tr>\n",
       "    <tr>\n",
       "      <th>2018-11-03</th>\n",
       "      <td>-0.245834</td>\n",
       "      <td>-1.049596</td>\n",
       "      <td>2.366225</td>\n",
       "      <td>0.637321</td>\n",
       "    </tr>\n",
       "    <tr>\n",
       "      <th>2018-11-04</th>\n",
       "      <td>-0.689940</td>\n",
       "      <td>0.471282</td>\n",
       "      <td>-1.417401</td>\n",
       "      <td>0.268905</td>\n",
       "    </tr>\n",
       "  </tbody>\n",
       "</table>\n",
       "</div>"
      ],
      "text/plain": [
       "                   A         B         C         D\n",
       "2018-11-01  2.197094  0.908913 -0.648029 -1.325547\n",
       "2018-11-02  0.354662 -1.224246 -0.501209 -1.490170\n",
       "2018-11-03 -0.245834 -1.049596  2.366225  0.637321\n",
       "2018-11-04 -0.689940  0.471282 -1.417401  0.268905"
      ]
     },
     "execution_count": 23,
     "metadata": {},
     "output_type": "execute_result"
    }
   ],
   "source": [
    "# 同时对于时间索引而言，可以直接使用比如\n",
    "df['2018-11-01':'2018-11-04']"
   ]
  },
  {
   "cell_type": "markdown",
   "metadata": {},
   "source": [
    "#### 另外可以使用标签来选择"
   ]
  },
  {
   "cell_type": "code",
   "execution_count": 24,
   "metadata": {},
   "outputs": [
    {
     "data": {
      "text/plain": [
       "A    2.197094\n",
       "B    0.908913\n",
       "C   -0.648029\n",
       "D   -1.325547\n",
       "Name: 2018-11-01 00:00:00, dtype: float64"
      ]
     },
     "execution_count": 24,
     "metadata": {},
     "output_type": "execute_result"
    }
   ],
   "source": [
    "\n",
    "df.loc['2018-11-01']"
   ]
  },
  {
   "cell_type": "code",
   "execution_count": 25,
   "metadata": {},
   "outputs": [
    {
     "data": {
      "text/html": [
       "<div>\n",
       "<style scoped>\n",
       "    .dataframe tbody tr th:only-of-type {\n",
       "        vertical-align: middle;\n",
       "    }\n",
       "\n",
       "    .dataframe tbody tr th {\n",
       "        vertical-align: top;\n",
       "    }\n",
       "\n",
       "    .dataframe thead th {\n",
       "        text-align: right;\n",
       "    }\n",
       "</style>\n",
       "<table border=\"1\" class=\"dataframe\">\n",
       "  <thead>\n",
       "    <tr style=\"text-align: right;\">\n",
       "      <th></th>\n",
       "      <th>A</th>\n",
       "      <th>B</th>\n",
       "    </tr>\n",
       "  </thead>\n",
       "  <tbody>\n",
       "    <tr>\n",
       "      <th>2018-11-01</th>\n",
       "      <td>2.197094</td>\n",
       "      <td>0.908913</td>\n",
       "    </tr>\n",
       "    <tr>\n",
       "      <th>2018-11-02</th>\n",
       "      <td>0.354662</td>\n",
       "      <td>-1.224246</td>\n",
       "    </tr>\n",
       "    <tr>\n",
       "      <th>2018-11-03</th>\n",
       "      <td>-0.245834</td>\n",
       "      <td>-1.049596</td>\n",
       "    </tr>\n",
       "    <tr>\n",
       "      <th>2018-11-04</th>\n",
       "      <td>-0.689940</td>\n",
       "      <td>0.471282</td>\n",
       "    </tr>\n",
       "    <tr>\n",
       "      <th>2018-11-05</th>\n",
       "      <td>-0.548041</td>\n",
       "      <td>-0.841934</td>\n",
       "    </tr>\n",
       "    <tr>\n",
       "      <th>2018-11-06</th>\n",
       "      <td>-0.691073</td>\n",
       "      <td>0.933016</td>\n",
       "    </tr>\n",
       "    <tr>\n",
       "      <th>2018-11-07</th>\n",
       "      <td>0.467075</td>\n",
       "      <td>0.362407</td>\n",
       "    </tr>\n",
       "  </tbody>\n",
       "</table>\n",
       "</div>"
      ],
      "text/plain": [
       "                   A         B\n",
       "2018-11-01  2.197094  0.908913\n",
       "2018-11-02  0.354662 -1.224246\n",
       "2018-11-03 -0.245834 -1.049596\n",
       "2018-11-04 -0.689940  0.471282\n",
       "2018-11-05 -0.548041 -0.841934\n",
       "2018-11-06 -0.691073  0.933016\n",
       "2018-11-07  0.467075  0.362407"
      ]
     },
     "execution_count": 25,
     "metadata": {},
     "output_type": "execute_result"
    }
   ],
   "source": [
    "#### 通过标签来进行多个轴上的进行选择\n",
    "df.loc[:,[\"A\",\"B\"]] # 等价于df[[\"A\",\"B\"]]"
   ]
  },
  {
   "cell_type": "code",
   "execution_count": 26,
   "metadata": {},
   "outputs": [
    {
     "data": {
      "text/html": [
       "<div>\n",
       "<style scoped>\n",
       "    .dataframe tbody tr th:only-of-type {\n",
       "        vertical-align: middle;\n",
       "    }\n",
       "\n",
       "    .dataframe tbody tr th {\n",
       "        vertical-align: top;\n",
       "    }\n",
       "\n",
       "    .dataframe thead th {\n",
       "        text-align: right;\n",
       "    }\n",
       "</style>\n",
       "<table border=\"1\" class=\"dataframe\">\n",
       "  <thead>\n",
       "    <tr style=\"text-align: right;\">\n",
       "      <th></th>\n",
       "      <th>A</th>\n",
       "      <th>B</th>\n",
       "    </tr>\n",
       "  </thead>\n",
       "  <tbody>\n",
       "    <tr>\n",
       "      <th>2018-11-01</th>\n",
       "      <td>2.197094</td>\n",
       "      <td>0.908913</td>\n",
       "    </tr>\n",
       "    <tr>\n",
       "      <th>2018-11-02</th>\n",
       "      <td>0.354662</td>\n",
       "      <td>-1.224246</td>\n",
       "    </tr>\n",
       "    <tr>\n",
       "      <th>2018-11-03</th>\n",
       "      <td>-0.245834</td>\n",
       "      <td>-1.049596</td>\n",
       "    </tr>\n",
       "  </tbody>\n",
       "</table>\n",
       "</div>"
      ],
      "text/plain": [
       "                   A         B\n",
       "2018-11-01  2.197094  0.908913\n",
       "2018-11-02  0.354662 -1.224246\n",
       "2018-11-03 -0.245834 -1.049596"
      ]
     },
     "execution_count": 26,
     "metadata": {},
     "output_type": "execute_result"
    }
   ],
   "source": [
    "df.loc[\"2018-11-01\":\"2018-11-03\",[\"A\",\"B\"]]"
   ]
  },
  {
   "cell_type": "code",
   "execution_count": 27,
   "metadata": {},
   "outputs": [
    {
     "data": {
      "text/plain": [
       "2.1970938156943904"
      ]
     },
     "execution_count": 27,
     "metadata": {},
     "output_type": "execute_result"
    }
   ],
   "source": [
    "#### 获得一个标量数据\n",
    "df.loc['2018-11-01','A']"
   ]
  },
  {
   "cell_type": "markdown",
   "metadata": {},
   "source": [
    "#### 通过位置获取数据"
   ]
  },
  {
   "cell_type": "code",
   "execution_count": 28,
   "metadata": {},
   "outputs": [
    {
     "data": {
      "text/plain": [
       "A   -0.689940\n",
       "B    0.471282\n",
       "C   -1.417401\n",
       "D    0.268905\n",
       "Name: 2018-11-04 00:00:00, dtype: float64"
      ]
     },
     "execution_count": 28,
     "metadata": {},
     "output_type": "execute_result"
    }
   ],
   "source": [
    "df.iloc[3]  # 获得第四行的数据"
   ]
  },
  {
   "cell_type": "code",
   "execution_count": 29,
   "metadata": {},
   "outputs": [
    {
     "data": {
      "text/html": [
       "<div>\n",
       "<style scoped>\n",
       "    .dataframe tbody tr th:only-of-type {\n",
       "        vertical-align: middle;\n",
       "    }\n",
       "\n",
       "    .dataframe tbody tr th {\n",
       "        vertical-align: top;\n",
       "    }\n",
       "\n",
       "    .dataframe thead th {\n",
       "        text-align: right;\n",
       "    }\n",
       "</style>\n",
       "<table border=\"1\" class=\"dataframe\">\n",
       "  <thead>\n",
       "    <tr style=\"text-align: right;\">\n",
       "      <th></th>\n",
       "      <th>B</th>\n",
       "      <th>C</th>\n",
       "      <th>D</th>\n",
       "    </tr>\n",
       "  </thead>\n",
       "  <tbody>\n",
       "    <tr>\n",
       "      <th>2018-11-02</th>\n",
       "      <td>-1.224246</td>\n",
       "      <td>-0.501209</td>\n",
       "      <td>-1.490170</td>\n",
       "    </tr>\n",
       "    <tr>\n",
       "      <th>2018-11-03</th>\n",
       "      <td>-1.049596</td>\n",
       "      <td>2.366225</td>\n",
       "      <td>0.637321</td>\n",
       "    </tr>\n",
       "  </tbody>\n",
       "</table>\n",
       "</div>"
      ],
      "text/plain": [
       "                   B         C         D\n",
       "2018-11-02 -1.224246 -0.501209 -1.490170\n",
       "2018-11-03 -1.049596  2.366225  0.637321"
      ]
     },
     "execution_count": 29,
     "metadata": {},
     "output_type": "execute_result"
    }
   ],
   "source": [
    "df.iloc[1:3,1:4]  #  与numpy中的ndarray类似"
   ]
  },
  {
   "cell_type": "code",
   "execution_count": 30,
   "metadata": {},
   "outputs": [
    {
     "data": {
      "text/html": [
       "<div>\n",
       "<style scoped>\n",
       "    .dataframe tbody tr th:only-of-type {\n",
       "        vertical-align: middle;\n",
       "    }\n",
       "\n",
       "    .dataframe tbody tr th {\n",
       "        vertical-align: top;\n",
       "    }\n",
       "\n",
       "    .dataframe thead th {\n",
       "        text-align: right;\n",
       "    }\n",
       "</style>\n",
       "<table border=\"1\" class=\"dataframe\">\n",
       "  <thead>\n",
       "    <tr style=\"text-align: right;\">\n",
       "      <th></th>\n",
       "      <th>B</th>\n",
       "      <th>D</th>\n",
       "    </tr>\n",
       "  </thead>\n",
       "  <tbody>\n",
       "    <tr>\n",
       "      <th>2018-11-02</th>\n",
       "      <td>-1.224246</td>\n",
       "      <td>-1.490170</td>\n",
       "    </tr>\n",
       "    <tr>\n",
       "      <th>2018-11-04</th>\n",
       "      <td>0.471282</td>\n",
       "      <td>0.268905</td>\n",
       "    </tr>\n",
       "  </tbody>\n",
       "</table>\n",
       "</div>"
      ],
      "text/plain": [
       "                   B         D\n",
       "2018-11-02 -1.224246 -1.490170\n",
       "2018-11-04  0.471282  0.268905"
      ]
     },
     "execution_count": 30,
     "metadata": {},
     "output_type": "execute_result"
    }
   ],
   "source": [
    "# 可以选取不连续的行或者列进行取值\n",
    "df.iloc[[1,3],[1,3]]"
   ]
  },
  {
   "cell_type": "code",
   "execution_count": 31,
   "metadata": {},
   "outputs": [
    {
     "data": {
      "text/html": [
       "<div>\n",
       "<style scoped>\n",
       "    .dataframe tbody tr th:only-of-type {\n",
       "        vertical-align: middle;\n",
       "    }\n",
       "\n",
       "    .dataframe tbody tr th {\n",
       "        vertical-align: top;\n",
       "    }\n",
       "\n",
       "    .dataframe thead th {\n",
       "        text-align: right;\n",
       "    }\n",
       "</style>\n",
       "<table border=\"1\" class=\"dataframe\">\n",
       "  <thead>\n",
       "    <tr style=\"text-align: right;\">\n",
       "      <th></th>\n",
       "      <th>A</th>\n",
       "      <th>B</th>\n",
       "      <th>C</th>\n",
       "      <th>D</th>\n",
       "    </tr>\n",
       "  </thead>\n",
       "  <tbody>\n",
       "    <tr>\n",
       "      <th>2018-11-02</th>\n",
       "      <td>0.354662</td>\n",
       "      <td>-1.224246</td>\n",
       "      <td>-0.501209</td>\n",
       "      <td>-1.490170</td>\n",
       "    </tr>\n",
       "    <tr>\n",
       "      <th>2018-11-03</th>\n",
       "      <td>-0.245834</td>\n",
       "      <td>-1.049596</td>\n",
       "      <td>2.366225</td>\n",
       "      <td>0.637321</td>\n",
       "    </tr>\n",
       "  </tbody>\n",
       "</table>\n",
       "</div>"
      ],
      "text/plain": [
       "                   A         B         C         D\n",
       "2018-11-02  0.354662 -1.224246 -0.501209 -1.490170\n",
       "2018-11-03 -0.245834 -1.049596  2.366225  0.637321"
      ]
     },
     "execution_count": 31,
     "metadata": {},
     "output_type": "execute_result"
    }
   ],
   "source": [
    "#  对行进行切片处理\n",
    "df.iloc[1:3,:]"
   ]
  },
  {
   "cell_type": "code",
   "execution_count": 32,
   "metadata": {},
   "outputs": [
    {
     "data": {
      "text/html": [
       "<div>\n",
       "<style scoped>\n",
       "    .dataframe tbody tr th:only-of-type {\n",
       "        vertical-align: middle;\n",
       "    }\n",
       "\n",
       "    .dataframe tbody tr th {\n",
       "        vertical-align: top;\n",
       "    }\n",
       "\n",
       "    .dataframe thead th {\n",
       "        text-align: right;\n",
       "    }\n",
       "</style>\n",
       "<table border=\"1\" class=\"dataframe\">\n",
       "  <thead>\n",
       "    <tr style=\"text-align: right;\">\n",
       "      <th></th>\n",
       "      <th>B</th>\n",
       "      <th>C</th>\n",
       "      <th>D</th>\n",
       "    </tr>\n",
       "  </thead>\n",
       "  <tbody>\n",
       "    <tr>\n",
       "      <th>2018-11-01</th>\n",
       "      <td>0.908913</td>\n",
       "      <td>-0.648029</td>\n",
       "      <td>-1.325547</td>\n",
       "    </tr>\n",
       "    <tr>\n",
       "      <th>2018-11-02</th>\n",
       "      <td>-1.224246</td>\n",
       "      <td>-0.501209</td>\n",
       "      <td>-1.490170</td>\n",
       "    </tr>\n",
       "    <tr>\n",
       "      <th>2018-11-03</th>\n",
       "      <td>-1.049596</td>\n",
       "      <td>2.366225</td>\n",
       "      <td>0.637321</td>\n",
       "    </tr>\n",
       "    <tr>\n",
       "      <th>2018-11-04</th>\n",
       "      <td>0.471282</td>\n",
       "      <td>-1.417401</td>\n",
       "      <td>0.268905</td>\n",
       "    </tr>\n",
       "    <tr>\n",
       "      <th>2018-11-05</th>\n",
       "      <td>-0.841934</td>\n",
       "      <td>0.573128</td>\n",
       "      <td>-1.055175</td>\n",
       "    </tr>\n",
       "    <tr>\n",
       "      <th>2018-11-06</th>\n",
       "      <td>0.933016</td>\n",
       "      <td>1.857647</td>\n",
       "      <td>0.775526</td>\n",
       "    </tr>\n",
       "    <tr>\n",
       "      <th>2018-11-07</th>\n",
       "      <td>0.362407</td>\n",
       "      <td>2.319375</td>\n",
       "      <td>-0.721314</td>\n",
       "    </tr>\n",
       "  </tbody>\n",
       "</table>\n",
       "</div>"
      ],
      "text/plain": [
       "                   B         C         D\n",
       "2018-11-01  0.908913 -0.648029 -1.325547\n",
       "2018-11-02 -1.224246 -0.501209 -1.490170\n",
       "2018-11-03 -1.049596  2.366225  0.637321\n",
       "2018-11-04  0.471282 -1.417401  0.268905\n",
       "2018-11-05 -0.841934  0.573128 -1.055175\n",
       "2018-11-06  0.933016  1.857647  0.775526\n",
       "2018-11-07  0.362407  2.319375 -0.721314"
      ]
     },
     "execution_count": 32,
     "metadata": {},
     "output_type": "execute_result"
    }
   ],
   "source": [
    "# 对列进行切片\n",
    "df.iloc[:,1:4]"
   ]
  },
  {
   "cell_type": "code",
   "execution_count": 33,
   "metadata": {},
   "outputs": [
    {
     "data": {
      "text/plain": [
       "-1.4901702546027098"
      ]
     },
     "execution_count": 33,
     "metadata": {},
     "output_type": "execute_result"
    }
   ],
   "source": [
    "# 获取特定的值\n",
    "df.iloc[1,3]"
   ]
  },
  {
   "cell_type": "markdown",
   "metadata": {},
   "source": [
    "#### 布尔值索引"
   ]
  },
  {
   "cell_type": "code",
   "execution_count": 34,
   "metadata": {},
   "outputs": [
    {
     "data": {
      "text/html": [
       "<div>\n",
       "<style scoped>\n",
       "    .dataframe tbody tr th:only-of-type {\n",
       "        vertical-align: middle;\n",
       "    }\n",
       "\n",
       "    .dataframe tbody tr th {\n",
       "        vertical-align: top;\n",
       "    }\n",
       "\n",
       "    .dataframe thead th {\n",
       "        text-align: right;\n",
       "    }\n",
       "</style>\n",
       "<table border=\"1\" class=\"dataframe\">\n",
       "  <thead>\n",
       "    <tr style=\"text-align: right;\">\n",
       "      <th></th>\n",
       "      <th>A</th>\n",
       "      <th>B</th>\n",
       "      <th>C</th>\n",
       "      <th>D</th>\n",
       "    </tr>\n",
       "  </thead>\n",
       "  <tbody>\n",
       "    <tr>\n",
       "      <th>2018-11-01</th>\n",
       "      <td>2.197094</td>\n",
       "      <td>0.908913</td>\n",
       "      <td>-0.648029</td>\n",
       "      <td>-1.325547</td>\n",
       "    </tr>\n",
       "    <tr>\n",
       "      <th>2018-11-02</th>\n",
       "      <td>0.354662</td>\n",
       "      <td>-1.224246</td>\n",
       "      <td>-0.501209</td>\n",
       "      <td>-1.490170</td>\n",
       "    </tr>\n",
       "    <tr>\n",
       "      <th>2018-11-07</th>\n",
       "      <td>0.467075</td>\n",
       "      <td>0.362407</td>\n",
       "      <td>2.319375</td>\n",
       "      <td>-0.721314</td>\n",
       "    </tr>\n",
       "  </tbody>\n",
       "</table>\n",
       "</div>"
      ],
      "text/plain": [
       "                   A         B         C         D\n",
       "2018-11-01  2.197094  0.908913 -0.648029 -1.325547\n",
       "2018-11-02  0.354662 -1.224246 -0.501209 -1.490170\n",
       "2018-11-07  0.467075  0.362407  2.319375 -0.721314"
      ]
     },
     "execution_count": 34,
     "metadata": {},
     "output_type": "execute_result"
    }
   ],
   "source": [
    "# 使用单列的数据作为条件进行筛选\n",
    "df[df.A>0]"
   ]
  },
  {
   "cell_type": "code",
   "execution_count": 35,
   "metadata": {},
   "outputs": [
    {
     "data": {
      "text/html": [
       "<div>\n",
       "<style scoped>\n",
       "    .dataframe tbody tr th:only-of-type {\n",
       "        vertical-align: middle;\n",
       "    }\n",
       "\n",
       "    .dataframe tbody tr th {\n",
       "        vertical-align: top;\n",
       "    }\n",
       "\n",
       "    .dataframe thead th {\n",
       "        text-align: right;\n",
       "    }\n",
       "</style>\n",
       "<table border=\"1\" class=\"dataframe\">\n",
       "  <thead>\n",
       "    <tr style=\"text-align: right;\">\n",
       "      <th></th>\n",
       "      <th>A</th>\n",
       "      <th>B</th>\n",
       "      <th>C</th>\n",
       "      <th>D</th>\n",
       "    </tr>\n",
       "  </thead>\n",
       "  <tbody>\n",
       "    <tr>\n",
       "      <th>2018-11-01</th>\n",
       "      <td>2.197094</td>\n",
       "      <td>0.908913</td>\n",
       "      <td>NaN</td>\n",
       "      <td>NaN</td>\n",
       "    </tr>\n",
       "    <tr>\n",
       "      <th>2018-11-02</th>\n",
       "      <td>0.354662</td>\n",
       "      <td>NaN</td>\n",
       "      <td>NaN</td>\n",
       "      <td>NaN</td>\n",
       "    </tr>\n",
       "    <tr>\n",
       "      <th>2018-11-03</th>\n",
       "      <td>NaN</td>\n",
       "      <td>NaN</td>\n",
       "      <td>2.366225</td>\n",
       "      <td>0.637321</td>\n",
       "    </tr>\n",
       "    <tr>\n",
       "      <th>2018-11-04</th>\n",
       "      <td>NaN</td>\n",
       "      <td>0.471282</td>\n",
       "      <td>NaN</td>\n",
       "      <td>0.268905</td>\n",
       "    </tr>\n",
       "    <tr>\n",
       "      <th>2018-11-05</th>\n",
       "      <td>NaN</td>\n",
       "      <td>NaN</td>\n",
       "      <td>0.573128</td>\n",
       "      <td>NaN</td>\n",
       "    </tr>\n",
       "    <tr>\n",
       "      <th>2018-11-06</th>\n",
       "      <td>NaN</td>\n",
       "      <td>0.933016</td>\n",
       "      <td>1.857647</td>\n",
       "      <td>0.775526</td>\n",
       "    </tr>\n",
       "    <tr>\n",
       "      <th>2018-11-07</th>\n",
       "      <td>0.467075</td>\n",
       "      <td>0.362407</td>\n",
       "      <td>2.319375</td>\n",
       "      <td>NaN</td>\n",
       "    </tr>\n",
       "  </tbody>\n",
       "</table>\n",
       "</div>"
      ],
      "text/plain": [
       "                   A         B         C         D\n",
       "2018-11-01  2.197094  0.908913       NaN       NaN\n",
       "2018-11-02  0.354662       NaN       NaN       NaN\n",
       "2018-11-03       NaN       NaN  2.366225  0.637321\n",
       "2018-11-04       NaN  0.471282       NaN  0.268905\n",
       "2018-11-05       NaN       NaN  0.573128       NaN\n",
       "2018-11-06       NaN  0.933016  1.857647  0.775526\n",
       "2018-11-07  0.467075  0.362407  2.319375       NaN"
      ]
     },
     "execution_count": 35,
     "metadata": {},
     "output_type": "execute_result"
    }
   ],
   "source": [
    " #很少用到，很少使用这种大范围的条件进行筛选\n",
    "df[df>0] "
   ]
  },
  {
   "cell_type": "code",
   "execution_count": 36,
   "metadata": {},
   "outputs": [
    {
     "data": {
      "text/html": [
       "<div>\n",
       "<style scoped>\n",
       "    .dataframe tbody tr th:only-of-type {\n",
       "        vertical-align: middle;\n",
       "    }\n",
       "\n",
       "    .dataframe tbody tr th {\n",
       "        vertical-align: top;\n",
       "    }\n",
       "\n",
       "    .dataframe thead th {\n",
       "        text-align: right;\n",
       "    }\n",
       "</style>\n",
       "<table border=\"1\" class=\"dataframe\">\n",
       "  <thead>\n",
       "    <tr style=\"text-align: right;\">\n",
       "      <th></th>\n",
       "      <th>A</th>\n",
       "      <th>B</th>\n",
       "      <th>C</th>\n",
       "      <th>D</th>\n",
       "      <th>E</th>\n",
       "    </tr>\n",
       "  </thead>\n",
       "  <tbody>\n",
       "    <tr>\n",
       "      <th>0</th>\n",
       "      <td>1</td>\n",
       "      <td>20181101</td>\n",
       "      <td>3</td>\n",
       "      <td>test</td>\n",
       "      <td>1.5</td>\n",
       "    </tr>\n",
       "    <tr>\n",
       "      <th>1</th>\n",
       "      <td>1</td>\n",
       "      <td>20181101</td>\n",
       "      <td>3</td>\n",
       "      <td>train</td>\n",
       "      <td>1.5</td>\n",
       "    </tr>\n",
       "    <tr>\n",
       "      <th>2</th>\n",
       "      <td>1</td>\n",
       "      <td>20181101</td>\n",
       "      <td>3</td>\n",
       "      <td>test</td>\n",
       "      <td>1.5</td>\n",
       "    </tr>\n",
       "    <tr>\n",
       "      <th>3</th>\n",
       "      <td>1</td>\n",
       "      <td>20181101</td>\n",
       "      <td>3</td>\n",
       "      <td>train</td>\n",
       "      <td>1.5</td>\n",
       "    </tr>\n",
       "  </tbody>\n",
       "</table>\n",
       "</div>"
      ],
      "text/plain": [
       "   A         B  C      D    E\n",
       "0  1  20181101  3   test  1.5\n",
       "1  1  20181101  3  train  1.5\n",
       "2  1  20181101  3   test  1.5\n",
       "3  1  20181101  3  train  1.5"
      ]
     },
     "execution_count": 36,
     "metadata": {},
     "output_type": "execute_result"
    }
   ],
   "source": [
    "# 使用isin()方法过滤\n",
    "df2.head()"
   ]
  },
  {
   "cell_type": "code",
   "execution_count": 37,
   "metadata": {},
   "outputs": [
    {
     "data": {
      "text/html": [
       "<div>\n",
       "<style scoped>\n",
       "    .dataframe tbody tr th:only-of-type {\n",
       "        vertical-align: middle;\n",
       "    }\n",
       "\n",
       "    .dataframe tbody tr th {\n",
       "        vertical-align: top;\n",
       "    }\n",
       "\n",
       "    .dataframe thead th {\n",
       "        text-align: right;\n",
       "    }\n",
       "</style>\n",
       "<table border=\"1\" class=\"dataframe\">\n",
       "  <thead>\n",
       "    <tr style=\"text-align: right;\">\n",
       "      <th></th>\n",
       "      <th>A</th>\n",
       "      <th>B</th>\n",
       "      <th>C</th>\n",
       "      <th>D</th>\n",
       "      <th>E</th>\n",
       "    </tr>\n",
       "  </thead>\n",
       "  <tbody>\n",
       "    <tr>\n",
       "      <th>0</th>\n",
       "      <td>1</td>\n",
       "      <td>20181101</td>\n",
       "      <td>3</td>\n",
       "      <td>test</td>\n",
       "      <td>1.5</td>\n",
       "    </tr>\n",
       "    <tr>\n",
       "      <th>2</th>\n",
       "      <td>1</td>\n",
       "      <td>20181101</td>\n",
       "      <td>3</td>\n",
       "      <td>test</td>\n",
       "      <td>1.5</td>\n",
       "    </tr>\n",
       "  </tbody>\n",
       "</table>\n",
       "</div>"
      ],
      "text/plain": [
       "   A         B  C     D    E\n",
       "0  1  20181101  3  test  1.5\n",
       "2  1  20181101  3  test  1.5"
      ]
     },
     "execution_count": 37,
     "metadata": {},
     "output_type": "execute_result"
    }
   ],
   "source": [
    "df2[df2['D'].isin(['test'])]"
   ]
  },
  {
   "cell_type": "markdown",
   "metadata": {},
   "source": [
    "#### 设定数值（类似于sql update 或者add）"
   ]
  },
  {
   "cell_type": "markdown",
   "metadata": {},
   "source": [
    "- 设定一个新的列"
   ]
  },
  {
   "cell_type": "code",
   "execution_count": 38,
   "metadata": {},
   "outputs": [],
   "source": [
    "df['E'] = [1,2,3,4,5,6,7]"
   ]
  },
  {
   "cell_type": "code",
   "execution_count": 39,
   "metadata": {},
   "outputs": [
    {
     "data": {
      "text/html": [
       "<div>\n",
       "<style scoped>\n",
       "    .dataframe tbody tr th:only-of-type {\n",
       "        vertical-align: middle;\n",
       "    }\n",
       "\n",
       "    .dataframe tbody tr th {\n",
       "        vertical-align: top;\n",
       "    }\n",
       "\n",
       "    .dataframe thead th {\n",
       "        text-align: right;\n",
       "    }\n",
       "</style>\n",
       "<table border=\"1\" class=\"dataframe\">\n",
       "  <thead>\n",
       "    <tr style=\"text-align: right;\">\n",
       "      <th></th>\n",
       "      <th>A</th>\n",
       "      <th>B</th>\n",
       "      <th>C</th>\n",
       "      <th>D</th>\n",
       "      <th>E</th>\n",
       "    </tr>\n",
       "  </thead>\n",
       "  <tbody>\n",
       "    <tr>\n",
       "      <th>2018-11-01</th>\n",
       "      <td>2.197094</td>\n",
       "      <td>0.908913</td>\n",
       "      <td>-0.648029</td>\n",
       "      <td>-1.325547</td>\n",
       "      <td>1</td>\n",
       "    </tr>\n",
       "    <tr>\n",
       "      <th>2018-11-02</th>\n",
       "      <td>0.354662</td>\n",
       "      <td>-1.224246</td>\n",
       "      <td>-0.501209</td>\n",
       "      <td>-1.490170</td>\n",
       "      <td>2</td>\n",
       "    </tr>\n",
       "    <tr>\n",
       "      <th>2018-11-03</th>\n",
       "      <td>-0.245834</td>\n",
       "      <td>-1.049596</td>\n",
       "      <td>2.366225</td>\n",
       "      <td>0.637321</td>\n",
       "      <td>3</td>\n",
       "    </tr>\n",
       "    <tr>\n",
       "      <th>2018-11-04</th>\n",
       "      <td>-0.689940</td>\n",
       "      <td>0.471282</td>\n",
       "      <td>-1.417401</td>\n",
       "      <td>0.268905</td>\n",
       "      <td>4</td>\n",
       "    </tr>\n",
       "    <tr>\n",
       "      <th>2018-11-05</th>\n",
       "      <td>-0.548041</td>\n",
       "      <td>-0.841934</td>\n",
       "      <td>0.573128</td>\n",
       "      <td>-1.055175</td>\n",
       "      <td>5</td>\n",
       "    </tr>\n",
       "    <tr>\n",
       "      <th>2018-11-06</th>\n",
       "      <td>-0.691073</td>\n",
       "      <td>0.933016</td>\n",
       "      <td>1.857647</td>\n",
       "      <td>0.775526</td>\n",
       "      <td>6</td>\n",
       "    </tr>\n",
       "    <tr>\n",
       "      <th>2018-11-07</th>\n",
       "      <td>0.467075</td>\n",
       "      <td>0.362407</td>\n",
       "      <td>2.319375</td>\n",
       "      <td>-0.721314</td>\n",
       "      <td>7</td>\n",
       "    </tr>\n",
       "  </tbody>\n",
       "</table>\n",
       "</div>"
      ],
      "text/plain": [
       "                   A         B         C         D  E\n",
       "2018-11-01  2.197094  0.908913 -0.648029 -1.325547  1\n",
       "2018-11-02  0.354662 -1.224246 -0.501209 -1.490170  2\n",
       "2018-11-03 -0.245834 -1.049596  2.366225  0.637321  3\n",
       "2018-11-04 -0.689940  0.471282 -1.417401  0.268905  4\n",
       "2018-11-05 -0.548041 -0.841934  0.573128 -1.055175  5\n",
       "2018-11-06 -0.691073  0.933016  1.857647  0.775526  6\n",
       "2018-11-07  0.467075  0.362407  2.319375 -0.721314  7"
      ]
     },
     "execution_count": 39,
     "metadata": {},
     "output_type": "execute_result"
    }
   ],
   "source": [
    "df"
   ]
  },
  {
   "cell_type": "markdown",
   "metadata": {},
   "source": [
    "- 通过标签设定新的值"
   ]
  },
  {
   "cell_type": "code",
   "execution_count": 40,
   "metadata": {},
   "outputs": [],
   "source": [
    "df.loc['2018-11-01','E']= 10  # 第一行，E列的数据修改为10"
   ]
  },
  {
   "cell_type": "code",
   "execution_count": 41,
   "metadata": {},
   "outputs": [
    {
     "data": {
      "text/html": [
       "<div>\n",
       "<style scoped>\n",
       "    .dataframe tbody tr th:only-of-type {\n",
       "        vertical-align: middle;\n",
       "    }\n",
       "\n",
       "    .dataframe tbody tr th {\n",
       "        vertical-align: top;\n",
       "    }\n",
       "\n",
       "    .dataframe thead th {\n",
       "        text-align: right;\n",
       "    }\n",
       "</style>\n",
       "<table border=\"1\" class=\"dataframe\">\n",
       "  <thead>\n",
       "    <tr style=\"text-align: right;\">\n",
       "      <th></th>\n",
       "      <th>A</th>\n",
       "      <th>B</th>\n",
       "      <th>C</th>\n",
       "      <th>D</th>\n",
       "      <th>E</th>\n",
       "    </tr>\n",
       "  </thead>\n",
       "  <tbody>\n",
       "    <tr>\n",
       "      <th>2018-11-01</th>\n",
       "      <td>2.197094</td>\n",
       "      <td>0.908913</td>\n",
       "      <td>-0.648029</td>\n",
       "      <td>-1.325547</td>\n",
       "      <td>10</td>\n",
       "    </tr>\n",
       "    <tr>\n",
       "      <th>2018-11-02</th>\n",
       "      <td>0.354662</td>\n",
       "      <td>-1.224246</td>\n",
       "      <td>-0.501209</td>\n",
       "      <td>-1.490170</td>\n",
       "      <td>2</td>\n",
       "    </tr>\n",
       "    <tr>\n",
       "      <th>2018-11-03</th>\n",
       "      <td>-0.245834</td>\n",
       "      <td>-1.049596</td>\n",
       "      <td>2.366225</td>\n",
       "      <td>0.637321</td>\n",
       "      <td>3</td>\n",
       "    </tr>\n",
       "    <tr>\n",
       "      <th>2018-11-04</th>\n",
       "      <td>-0.689940</td>\n",
       "      <td>0.471282</td>\n",
       "      <td>-1.417401</td>\n",
       "      <td>0.268905</td>\n",
       "      <td>4</td>\n",
       "    </tr>\n",
       "    <tr>\n",
       "      <th>2018-11-05</th>\n",
       "      <td>-0.548041</td>\n",
       "      <td>-0.841934</td>\n",
       "      <td>0.573128</td>\n",
       "      <td>-1.055175</td>\n",
       "      <td>5</td>\n",
       "    </tr>\n",
       "    <tr>\n",
       "      <th>2018-11-06</th>\n",
       "      <td>-0.691073</td>\n",
       "      <td>0.933016</td>\n",
       "      <td>1.857647</td>\n",
       "      <td>0.775526</td>\n",
       "      <td>6</td>\n",
       "    </tr>\n",
       "    <tr>\n",
       "      <th>2018-11-07</th>\n",
       "      <td>0.467075</td>\n",
       "      <td>0.362407</td>\n",
       "      <td>2.319375</td>\n",
       "      <td>-0.721314</td>\n",
       "      <td>7</td>\n",
       "    </tr>\n",
       "  </tbody>\n",
       "</table>\n",
       "</div>"
      ],
      "text/plain": [
       "                   A         B         C         D   E\n",
       "2018-11-01  2.197094  0.908913 -0.648029 -1.325547  10\n",
       "2018-11-02  0.354662 -1.224246 -0.501209 -1.490170   2\n",
       "2018-11-03 -0.245834 -1.049596  2.366225  0.637321   3\n",
       "2018-11-04 -0.689940  0.471282 -1.417401  0.268905   4\n",
       "2018-11-05 -0.548041 -0.841934  0.573128 -1.055175   5\n",
       "2018-11-06 -0.691073  0.933016  1.857647  0.775526   6\n",
       "2018-11-07  0.467075  0.362407  2.319375 -0.721314   7"
      ]
     },
     "execution_count": 41,
     "metadata": {},
     "output_type": "execute_result"
    }
   ],
   "source": [
    "df"
   ]
  },
  {
   "cell_type": "code",
   "execution_count": 42,
   "metadata": {},
   "outputs": [],
   "source": [
    "df.iloc[1,4]=5000  # 第二行第五列数据修改为5000"
   ]
  },
  {
   "cell_type": "code",
   "execution_count": 43,
   "metadata": {},
   "outputs": [
    {
     "data": {
      "text/html": [
       "<div>\n",
       "<style scoped>\n",
       "    .dataframe tbody tr th:only-of-type {\n",
       "        vertical-align: middle;\n",
       "    }\n",
       "\n",
       "    .dataframe tbody tr th {\n",
       "        vertical-align: top;\n",
       "    }\n",
       "\n",
       "    .dataframe thead th {\n",
       "        text-align: right;\n",
       "    }\n",
       "</style>\n",
       "<table border=\"1\" class=\"dataframe\">\n",
       "  <thead>\n",
       "    <tr style=\"text-align: right;\">\n",
       "      <th></th>\n",
       "      <th>A</th>\n",
       "      <th>B</th>\n",
       "      <th>C</th>\n",
       "      <th>D</th>\n",
       "      <th>E</th>\n",
       "    </tr>\n",
       "  </thead>\n",
       "  <tbody>\n",
       "    <tr>\n",
       "      <th>2018-11-01</th>\n",
       "      <td>2.197094</td>\n",
       "      <td>0.908913</td>\n",
       "      <td>-0.648029</td>\n",
       "      <td>-1.325547</td>\n",
       "      <td>10</td>\n",
       "    </tr>\n",
       "    <tr>\n",
       "      <th>2018-11-02</th>\n",
       "      <td>0.354662</td>\n",
       "      <td>-1.224246</td>\n",
       "      <td>-0.501209</td>\n",
       "      <td>-1.490170</td>\n",
       "      <td>5000</td>\n",
       "    </tr>\n",
       "    <tr>\n",
       "      <th>2018-11-03</th>\n",
       "      <td>-0.245834</td>\n",
       "      <td>-1.049596</td>\n",
       "      <td>2.366225</td>\n",
       "      <td>0.637321</td>\n",
       "      <td>3</td>\n",
       "    </tr>\n",
       "    <tr>\n",
       "      <th>2018-11-04</th>\n",
       "      <td>-0.689940</td>\n",
       "      <td>0.471282</td>\n",
       "      <td>-1.417401</td>\n",
       "      <td>0.268905</td>\n",
       "      <td>4</td>\n",
       "    </tr>\n",
       "    <tr>\n",
       "      <th>2018-11-05</th>\n",
       "      <td>-0.548041</td>\n",
       "      <td>-0.841934</td>\n",
       "      <td>0.573128</td>\n",
       "      <td>-1.055175</td>\n",
       "      <td>5</td>\n",
       "    </tr>\n",
       "    <tr>\n",
       "      <th>2018-11-06</th>\n",
       "      <td>-0.691073</td>\n",
       "      <td>0.933016</td>\n",
       "      <td>1.857647</td>\n",
       "      <td>0.775526</td>\n",
       "      <td>6</td>\n",
       "    </tr>\n",
       "    <tr>\n",
       "      <th>2018-11-07</th>\n",
       "      <td>0.467075</td>\n",
       "      <td>0.362407</td>\n",
       "      <td>2.319375</td>\n",
       "      <td>-0.721314</td>\n",
       "      <td>7</td>\n",
       "    </tr>\n",
       "  </tbody>\n",
       "</table>\n",
       "</div>"
      ],
      "text/plain": [
       "                   A         B         C         D     E\n",
       "2018-11-01  2.197094  0.908913 -0.648029 -1.325547    10\n",
       "2018-11-02  0.354662 -1.224246 -0.501209 -1.490170  5000\n",
       "2018-11-03 -0.245834 -1.049596  2.366225  0.637321     3\n",
       "2018-11-04 -0.689940  0.471282 -1.417401  0.268905     4\n",
       "2018-11-05 -0.548041 -0.841934  0.573128 -1.055175     5\n",
       "2018-11-06 -0.691073  0.933016  1.857647  0.775526     6\n",
       "2018-11-07  0.467075  0.362407  2.319375 -0.721314     7"
      ]
     },
     "execution_count": 43,
     "metadata": {},
     "output_type": "execute_result"
    }
   ],
   "source": [
    "df"
   ]
  },
  {
   "cell_type": "code",
   "execution_count": 44,
   "metadata": {},
   "outputs": [
    {
     "data": {
      "text/html": [
       "<div>\n",
       "<style scoped>\n",
       "    .dataframe tbody tr th:only-of-type {\n",
       "        vertical-align: middle;\n",
       "    }\n",
       "\n",
       "    .dataframe tbody tr th {\n",
       "        vertical-align: top;\n",
       "    }\n",
       "\n",
       "    .dataframe thead th {\n",
       "        text-align: right;\n",
       "    }\n",
       "</style>\n",
       "<table border=\"1\" class=\"dataframe\">\n",
       "  <thead>\n",
       "    <tr style=\"text-align: right;\">\n",
       "      <th></th>\n",
       "      <th>A</th>\n",
       "      <th>B</th>\n",
       "      <th>C</th>\n",
       "      <th>D</th>\n",
       "      <th>E</th>\n",
       "    </tr>\n",
       "  </thead>\n",
       "  <tbody>\n",
       "    <tr>\n",
       "      <th>2018-11-01</th>\n",
       "      <td>2.197094</td>\n",
       "      <td>0.908913</td>\n",
       "      <td>0.648029</td>\n",
       "      <td>1.325547</td>\n",
       "      <td>10</td>\n",
       "    </tr>\n",
       "    <tr>\n",
       "      <th>2018-11-02</th>\n",
       "      <td>0.354662</td>\n",
       "      <td>1.224246</td>\n",
       "      <td>0.501209</td>\n",
       "      <td>1.490170</td>\n",
       "      <td>5000</td>\n",
       "    </tr>\n",
       "    <tr>\n",
       "      <th>2018-11-03</th>\n",
       "      <td>0.245834</td>\n",
       "      <td>1.049596</td>\n",
       "      <td>2.366225</td>\n",
       "      <td>0.637321</td>\n",
       "      <td>3</td>\n",
       "    </tr>\n",
       "    <tr>\n",
       "      <th>2018-11-04</th>\n",
       "      <td>0.689940</td>\n",
       "      <td>0.471282</td>\n",
       "      <td>1.417401</td>\n",
       "      <td>0.268905</td>\n",
       "      <td>4</td>\n",
       "    </tr>\n",
       "    <tr>\n",
       "      <th>2018-11-05</th>\n",
       "      <td>0.548041</td>\n",
       "      <td>0.841934</td>\n",
       "      <td>0.573128</td>\n",
       "      <td>1.055175</td>\n",
       "      <td>5</td>\n",
       "    </tr>\n",
       "    <tr>\n",
       "      <th>2018-11-06</th>\n",
       "      <td>0.691073</td>\n",
       "      <td>0.933016</td>\n",
       "      <td>1.857647</td>\n",
       "      <td>0.775526</td>\n",
       "      <td>6</td>\n",
       "    </tr>\n",
       "    <tr>\n",
       "      <th>2018-11-07</th>\n",
       "      <td>0.467075</td>\n",
       "      <td>0.362407</td>\n",
       "      <td>2.319375</td>\n",
       "      <td>0.721314</td>\n",
       "      <td>7</td>\n",
       "    </tr>\n",
       "  </tbody>\n",
       "</table>\n",
       "</div>"
      ],
      "text/plain": [
       "                   A         B         C         D     E\n",
       "2018-11-01  2.197094  0.908913  0.648029  1.325547    10\n",
       "2018-11-02  0.354662  1.224246  0.501209  1.490170  5000\n",
       "2018-11-03  0.245834  1.049596  2.366225  0.637321     3\n",
       "2018-11-04  0.689940  0.471282  1.417401  0.268905     4\n",
       "2018-11-05  0.548041  0.841934  0.573128  1.055175     5\n",
       "2018-11-06  0.691073  0.933016  1.857647  0.775526     6\n",
       "2018-11-07  0.467075  0.362407  2.319375  0.721314     7"
      ]
     },
     "execution_count": 44,
     "metadata": {},
     "output_type": "execute_result"
    }
   ],
   "source": [
    "df3 =df.copy()\n",
    "df3[df3<0]= -df3\n",
    "df3  # 都变成非负数"
   ]
  },
  {
   "cell_type": "markdown",
   "metadata": {
    "slideshow": {
     "slide_type": "slide"
    }
   },
   "source": [
    "#### 缺失值处理"
   ]
  },
  {
   "cell_type": "code",
   "execution_count": 45,
   "metadata": {},
   "outputs": [
    {
     "data": {
      "text/html": [
       "<div>\n",
       "<style scoped>\n",
       "    .dataframe tbody tr th:only-of-type {\n",
       "        vertical-align: middle;\n",
       "    }\n",
       "\n",
       "    .dataframe tbody tr th {\n",
       "        vertical-align: top;\n",
       "    }\n",
       "\n",
       "    .dataframe thead th {\n",
       "        text-align: right;\n",
       "    }\n",
       "</style>\n",
       "<table border=\"1\" class=\"dataframe\">\n",
       "  <thead>\n",
       "    <tr style=\"text-align: right;\">\n",
       "      <th></th>\n",
       "      <th>A</th>\n",
       "      <th>B</th>\n",
       "      <th>C</th>\n",
       "      <th>D</th>\n",
       "      <th>E</th>\n",
       "    </tr>\n",
       "  </thead>\n",
       "  <tbody>\n",
       "    <tr>\n",
       "      <th>2018-11-01</th>\n",
       "      <td>2.197094</td>\n",
       "      <td>0.908913</td>\n",
       "      <td>-0.648029</td>\n",
       "      <td>-1.325547</td>\n",
       "      <td>10</td>\n",
       "    </tr>\n",
       "    <tr>\n",
       "      <th>2018-11-02</th>\n",
       "      <td>0.354662</td>\n",
       "      <td>-1.224246</td>\n",
       "      <td>-0.501209</td>\n",
       "      <td>-1.490170</td>\n",
       "      <td>5000</td>\n",
       "    </tr>\n",
       "    <tr>\n",
       "      <th>2018-11-03</th>\n",
       "      <td>-0.245834</td>\n",
       "      <td>-1.049596</td>\n",
       "      <td>2.366225</td>\n",
       "      <td>0.637321</td>\n",
       "      <td>3</td>\n",
       "    </tr>\n",
       "    <tr>\n",
       "      <th>2018-11-04</th>\n",
       "      <td>-0.689940</td>\n",
       "      <td>0.471282</td>\n",
       "      <td>-1.417401</td>\n",
       "      <td>0.268905</td>\n",
       "      <td>4</td>\n",
       "    </tr>\n",
       "    <tr>\n",
       "      <th>2018-11-05</th>\n",
       "      <td>-0.548041</td>\n",
       "      <td>-0.841934</td>\n",
       "      <td>0.573128</td>\n",
       "      <td>-1.055175</td>\n",
       "      <td>5</td>\n",
       "    </tr>\n",
       "    <tr>\n",
       "      <th>2018-11-06</th>\n",
       "      <td>-0.691073</td>\n",
       "      <td>0.933016</td>\n",
       "      <td>1.857647</td>\n",
       "      <td>0.775526</td>\n",
       "      <td>6</td>\n",
       "    </tr>\n",
       "    <tr>\n",
       "      <th>2018-11-07</th>\n",
       "      <td>0.467075</td>\n",
       "      <td>0.362407</td>\n",
       "      <td>2.319375</td>\n",
       "      <td>-0.721314</td>\n",
       "      <td>7</td>\n",
       "    </tr>\n",
       "  </tbody>\n",
       "</table>\n",
       "</div>"
      ],
      "text/plain": [
       "                   A         B         C         D     E\n",
       "2018-11-01  2.197094  0.908913 -0.648029 -1.325547    10\n",
       "2018-11-02  0.354662 -1.224246 -0.501209 -1.490170  5000\n",
       "2018-11-03 -0.245834 -1.049596  2.366225  0.637321     3\n",
       "2018-11-04 -0.689940  0.471282 -1.417401  0.268905     4\n",
       "2018-11-05 -0.548041 -0.841934  0.573128 -1.055175     5\n",
       "2018-11-06 -0.691073  0.933016  1.857647  0.775526     6\n",
       "2018-11-07  0.467075  0.362407  2.319375 -0.721314     7"
      ]
     },
     "execution_count": 45,
     "metadata": {},
     "output_type": "execute_result"
    }
   ],
   "source": [
    "df"
   ]
  },
  {
   "cell_type": "code",
   "execution_count": 46,
   "metadata": {},
   "outputs": [],
   "source": [
    "df['E']=[1,np.nan,2,np.nan,4,np.nan,6]"
   ]
  },
  {
   "cell_type": "code",
   "execution_count": 47,
   "metadata": {},
   "outputs": [],
   "source": [
    "df.loc['2018-11-01':'2018-11-03','D']=np.nan"
   ]
  },
  {
   "cell_type": "code",
   "execution_count": 48,
   "metadata": {},
   "outputs": [
    {
     "data": {
      "text/html": [
       "<div>\n",
       "<style scoped>\n",
       "    .dataframe tbody tr th:only-of-type {\n",
       "        vertical-align: middle;\n",
       "    }\n",
       "\n",
       "    .dataframe tbody tr th {\n",
       "        vertical-align: top;\n",
       "    }\n",
       "\n",
       "    .dataframe thead th {\n",
       "        text-align: right;\n",
       "    }\n",
       "</style>\n",
       "<table border=\"1\" class=\"dataframe\">\n",
       "  <thead>\n",
       "    <tr style=\"text-align: right;\">\n",
       "      <th></th>\n",
       "      <th>A</th>\n",
       "      <th>B</th>\n",
       "      <th>C</th>\n",
       "      <th>D</th>\n",
       "      <th>E</th>\n",
       "    </tr>\n",
       "  </thead>\n",
       "  <tbody>\n",
       "    <tr>\n",
       "      <th>2018-11-01</th>\n",
       "      <td>2.197094</td>\n",
       "      <td>0.908913</td>\n",
       "      <td>-0.648029</td>\n",
       "      <td>NaN</td>\n",
       "      <td>1.0</td>\n",
       "    </tr>\n",
       "    <tr>\n",
       "      <th>2018-11-02</th>\n",
       "      <td>0.354662</td>\n",
       "      <td>-1.224246</td>\n",
       "      <td>-0.501209</td>\n",
       "      <td>NaN</td>\n",
       "      <td>NaN</td>\n",
       "    </tr>\n",
       "    <tr>\n",
       "      <th>2018-11-03</th>\n",
       "      <td>-0.245834</td>\n",
       "      <td>-1.049596</td>\n",
       "      <td>2.366225</td>\n",
       "      <td>NaN</td>\n",
       "      <td>2.0</td>\n",
       "    </tr>\n",
       "    <tr>\n",
       "      <th>2018-11-04</th>\n",
       "      <td>-0.689940</td>\n",
       "      <td>0.471282</td>\n",
       "      <td>-1.417401</td>\n",
       "      <td>0.268905</td>\n",
       "      <td>NaN</td>\n",
       "    </tr>\n",
       "    <tr>\n",
       "      <th>2018-11-05</th>\n",
       "      <td>-0.548041</td>\n",
       "      <td>-0.841934</td>\n",
       "      <td>0.573128</td>\n",
       "      <td>-1.055175</td>\n",
       "      <td>4.0</td>\n",
       "    </tr>\n",
       "    <tr>\n",
       "      <th>2018-11-06</th>\n",
       "      <td>-0.691073</td>\n",
       "      <td>0.933016</td>\n",
       "      <td>1.857647</td>\n",
       "      <td>0.775526</td>\n",
       "      <td>NaN</td>\n",
       "    </tr>\n",
       "    <tr>\n",
       "      <th>2018-11-07</th>\n",
       "      <td>0.467075</td>\n",
       "      <td>0.362407</td>\n",
       "      <td>2.319375</td>\n",
       "      <td>-0.721314</td>\n",
       "      <td>6.0</td>\n",
       "    </tr>\n",
       "  </tbody>\n",
       "</table>\n",
       "</div>"
      ],
      "text/plain": [
       "                   A         B         C         D    E\n",
       "2018-11-01  2.197094  0.908913 -0.648029       NaN  1.0\n",
       "2018-11-02  0.354662 -1.224246 -0.501209       NaN  NaN\n",
       "2018-11-03 -0.245834 -1.049596  2.366225       NaN  2.0\n",
       "2018-11-04 -0.689940  0.471282 -1.417401  0.268905  NaN\n",
       "2018-11-05 -0.548041 -0.841934  0.573128 -1.055175  4.0\n",
       "2018-11-06 -0.691073  0.933016  1.857647  0.775526  NaN\n",
       "2018-11-07  0.467075  0.362407  2.319375 -0.721314  6.0"
      ]
     },
     "execution_count": 48,
     "metadata": {},
     "output_type": "execute_result"
    }
   ],
   "source": [
    "df"
   ]
  },
  {
   "cell_type": "markdown",
   "metadata": {},
   "source": [
    "- 去掉缺失值的行"
   ]
  },
  {
   "cell_type": "code",
   "execution_count": 49,
   "metadata": {},
   "outputs": [],
   "source": [
    "df4 = df.copy()"
   ]
  },
  {
   "cell_type": "code",
   "execution_count": 50,
   "metadata": {},
   "outputs": [
    {
     "data": {
      "text/html": [
       "<div>\n",
       "<style scoped>\n",
       "    .dataframe tbody tr th:only-of-type {\n",
       "        vertical-align: middle;\n",
       "    }\n",
       "\n",
       "    .dataframe tbody tr th {\n",
       "        vertical-align: top;\n",
       "    }\n",
       "\n",
       "    .dataframe thead th {\n",
       "        text-align: right;\n",
       "    }\n",
       "</style>\n",
       "<table border=\"1\" class=\"dataframe\">\n",
       "  <thead>\n",
       "    <tr style=\"text-align: right;\">\n",
       "      <th></th>\n",
       "      <th>A</th>\n",
       "      <th>B</th>\n",
       "      <th>C</th>\n",
       "      <th>D</th>\n",
       "      <th>E</th>\n",
       "    </tr>\n",
       "  </thead>\n",
       "  <tbody>\n",
       "    <tr>\n",
       "      <th>2018-11-05</th>\n",
       "      <td>-0.548041</td>\n",
       "      <td>-0.841934</td>\n",
       "      <td>0.573128</td>\n",
       "      <td>-1.055175</td>\n",
       "      <td>4.0</td>\n",
       "    </tr>\n",
       "    <tr>\n",
       "      <th>2018-11-07</th>\n",
       "      <td>0.467075</td>\n",
       "      <td>0.362407</td>\n",
       "      <td>2.319375</td>\n",
       "      <td>-0.721314</td>\n",
       "      <td>6.0</td>\n",
       "    </tr>\n",
       "  </tbody>\n",
       "</table>\n",
       "</div>"
      ],
      "text/plain": [
       "                   A         B         C         D    E\n",
       "2018-11-05 -0.548041 -0.841934  0.573128 -1.055175  4.0\n",
       "2018-11-07  0.467075  0.362407  2.319375 -0.721314  6.0"
      ]
     },
     "execution_count": 50,
     "metadata": {},
     "output_type": "execute_result"
    }
   ],
   "source": [
    "df4.dropna(how='any')"
   ]
  },
  {
   "cell_type": "code",
   "execution_count": 51,
   "metadata": {},
   "outputs": [
    {
     "data": {
      "text/html": [
       "<div>\n",
       "<style scoped>\n",
       "    .dataframe tbody tr th:only-of-type {\n",
       "        vertical-align: middle;\n",
       "    }\n",
       "\n",
       "    .dataframe tbody tr th {\n",
       "        vertical-align: top;\n",
       "    }\n",
       "\n",
       "    .dataframe thead th {\n",
       "        text-align: right;\n",
       "    }\n",
       "</style>\n",
       "<table border=\"1\" class=\"dataframe\">\n",
       "  <thead>\n",
       "    <tr style=\"text-align: right;\">\n",
       "      <th></th>\n",
       "      <th>A</th>\n",
       "      <th>B</th>\n",
       "      <th>C</th>\n",
       "      <th>D</th>\n",
       "      <th>E</th>\n",
       "    </tr>\n",
       "  </thead>\n",
       "  <tbody>\n",
       "    <tr>\n",
       "      <th>2018-11-01</th>\n",
       "      <td>2.197094</td>\n",
       "      <td>0.908913</td>\n",
       "      <td>-0.648029</td>\n",
       "      <td>NaN</td>\n",
       "      <td>1.0</td>\n",
       "    </tr>\n",
       "    <tr>\n",
       "      <th>2018-11-02</th>\n",
       "      <td>0.354662</td>\n",
       "      <td>-1.224246</td>\n",
       "      <td>-0.501209</td>\n",
       "      <td>NaN</td>\n",
       "      <td>NaN</td>\n",
       "    </tr>\n",
       "    <tr>\n",
       "      <th>2018-11-03</th>\n",
       "      <td>-0.245834</td>\n",
       "      <td>-1.049596</td>\n",
       "      <td>2.366225</td>\n",
       "      <td>NaN</td>\n",
       "      <td>2.0</td>\n",
       "    </tr>\n",
       "    <tr>\n",
       "      <th>2018-11-04</th>\n",
       "      <td>-0.689940</td>\n",
       "      <td>0.471282</td>\n",
       "      <td>-1.417401</td>\n",
       "      <td>0.268905</td>\n",
       "      <td>NaN</td>\n",
       "    </tr>\n",
       "    <tr>\n",
       "      <th>2018-11-05</th>\n",
       "      <td>-0.548041</td>\n",
       "      <td>-0.841934</td>\n",
       "      <td>0.573128</td>\n",
       "      <td>-1.055175</td>\n",
       "      <td>4.0</td>\n",
       "    </tr>\n",
       "    <tr>\n",
       "      <th>2018-11-06</th>\n",
       "      <td>-0.691073</td>\n",
       "      <td>0.933016</td>\n",
       "      <td>1.857647</td>\n",
       "      <td>0.775526</td>\n",
       "      <td>NaN</td>\n",
       "    </tr>\n",
       "    <tr>\n",
       "      <th>2018-11-07</th>\n",
       "      <td>0.467075</td>\n",
       "      <td>0.362407</td>\n",
       "      <td>2.319375</td>\n",
       "      <td>-0.721314</td>\n",
       "      <td>6.0</td>\n",
       "    </tr>\n",
       "  </tbody>\n",
       "</table>\n",
       "</div>"
      ],
      "text/plain": [
       "                   A         B         C         D    E\n",
       "2018-11-01  2.197094  0.908913 -0.648029       NaN  1.0\n",
       "2018-11-02  0.354662 -1.224246 -0.501209       NaN  NaN\n",
       "2018-11-03 -0.245834 -1.049596  2.366225       NaN  2.0\n",
       "2018-11-04 -0.689940  0.471282 -1.417401  0.268905  NaN\n",
       "2018-11-05 -0.548041 -0.841934  0.573128 -1.055175  4.0\n",
       "2018-11-06 -0.691073  0.933016  1.857647  0.775526  NaN\n",
       "2018-11-07  0.467075  0.362407  2.319375 -0.721314  6.0"
      ]
     },
     "execution_count": 51,
     "metadata": {},
     "output_type": "execute_result"
    }
   ],
   "source": [
    "df4.dropna(how='all')\n",
    "# \"\"\"DataFrame.dropna(axis=0, how='any', thresh=None, subset=None, inplace=False)\"\"\" \n",
    "# aixs 轴0或者1 index或者columns\n",
    "# how 方式\n",
    "# thresh 超过阈值个数的缺失值\n",
    "# subset 那些字段的处理\n",
    "# inplace 是否直接在原数据框中的替换"
   ]
  },
  {
   "cell_type": "markdown",
   "metadata": {},
   "source": [
    "- 对缺失值就行填充"
   ]
  },
  {
   "cell_type": "code",
   "execution_count": 52,
   "metadata": {},
   "outputs": [
    {
     "data": {
      "text/html": [
       "<div>\n",
       "<style scoped>\n",
       "    .dataframe tbody tr th:only-of-type {\n",
       "        vertical-align: middle;\n",
       "    }\n",
       "\n",
       "    .dataframe tbody tr th {\n",
       "        vertical-align: top;\n",
       "    }\n",
       "\n",
       "    .dataframe thead th {\n",
       "        text-align: right;\n",
       "    }\n",
       "</style>\n",
       "<table border=\"1\" class=\"dataframe\">\n",
       "  <thead>\n",
       "    <tr style=\"text-align: right;\">\n",
       "      <th></th>\n",
       "      <th>A</th>\n",
       "      <th>B</th>\n",
       "      <th>C</th>\n",
       "      <th>D</th>\n",
       "      <th>E</th>\n",
       "    </tr>\n",
       "  </thead>\n",
       "  <tbody>\n",
       "    <tr>\n",
       "      <th>2018-11-01</th>\n",
       "      <td>2.197094</td>\n",
       "      <td>0.908913</td>\n",
       "      <td>-0.648029</td>\n",
       "      <td>1000.000000</td>\n",
       "      <td>1.0</td>\n",
       "    </tr>\n",
       "    <tr>\n",
       "      <th>2018-11-02</th>\n",
       "      <td>0.354662</td>\n",
       "      <td>-1.224246</td>\n",
       "      <td>-0.501209</td>\n",
       "      <td>1000.000000</td>\n",
       "      <td>1000.0</td>\n",
       "    </tr>\n",
       "    <tr>\n",
       "      <th>2018-11-03</th>\n",
       "      <td>-0.245834</td>\n",
       "      <td>-1.049596</td>\n",
       "      <td>2.366225</td>\n",
       "      <td>1000.000000</td>\n",
       "      <td>2.0</td>\n",
       "    </tr>\n",
       "    <tr>\n",
       "      <th>2018-11-04</th>\n",
       "      <td>-0.689940</td>\n",
       "      <td>0.471282</td>\n",
       "      <td>-1.417401</td>\n",
       "      <td>0.268905</td>\n",
       "      <td>1000.0</td>\n",
       "    </tr>\n",
       "    <tr>\n",
       "      <th>2018-11-05</th>\n",
       "      <td>-0.548041</td>\n",
       "      <td>-0.841934</td>\n",
       "      <td>0.573128</td>\n",
       "      <td>-1.055175</td>\n",
       "      <td>4.0</td>\n",
       "    </tr>\n",
       "    <tr>\n",
       "      <th>2018-11-06</th>\n",
       "      <td>-0.691073</td>\n",
       "      <td>0.933016</td>\n",
       "      <td>1.857647</td>\n",
       "      <td>0.775526</td>\n",
       "      <td>1000.0</td>\n",
       "    </tr>\n",
       "    <tr>\n",
       "      <th>2018-11-07</th>\n",
       "      <td>0.467075</td>\n",
       "      <td>0.362407</td>\n",
       "      <td>2.319375</td>\n",
       "      <td>-0.721314</td>\n",
       "      <td>6.0</td>\n",
       "    </tr>\n",
       "  </tbody>\n",
       "</table>\n",
       "</div>"
      ],
      "text/plain": [
       "                   A         B         C            D       E\n",
       "2018-11-01  2.197094  0.908913 -0.648029  1000.000000     1.0\n",
       "2018-11-02  0.354662 -1.224246 -0.501209  1000.000000  1000.0\n",
       "2018-11-03 -0.245834 -1.049596  2.366225  1000.000000     2.0\n",
       "2018-11-04 -0.689940  0.471282 -1.417401     0.268905  1000.0\n",
       "2018-11-05 -0.548041 -0.841934  0.573128    -1.055175     4.0\n",
       "2018-11-06 -0.691073  0.933016  1.857647     0.775526  1000.0\n",
       "2018-11-07  0.467075  0.362407  2.319375    -0.721314     6.0"
      ]
     },
     "execution_count": 52,
     "metadata": {},
     "output_type": "execute_result"
    }
   ],
   "source": [
    "df4.fillna(1000)"
   ]
  },
  {
   "cell_type": "markdown",
   "metadata": {},
   "source": [
    "- 对数据进行布尔值进行填充"
   ]
  },
  {
   "cell_type": "code",
   "execution_count": 53,
   "metadata": {},
   "outputs": [
    {
     "data": {
      "text/html": [
       "<div>\n",
       "<style scoped>\n",
       "    .dataframe tbody tr th:only-of-type {\n",
       "        vertical-align: middle;\n",
       "    }\n",
       "\n",
       "    .dataframe tbody tr th {\n",
       "        vertical-align: top;\n",
       "    }\n",
       "\n",
       "    .dataframe thead th {\n",
       "        text-align: right;\n",
       "    }\n",
       "</style>\n",
       "<table border=\"1\" class=\"dataframe\">\n",
       "  <thead>\n",
       "    <tr style=\"text-align: right;\">\n",
       "      <th></th>\n",
       "      <th>A</th>\n",
       "      <th>B</th>\n",
       "      <th>C</th>\n",
       "      <th>D</th>\n",
       "      <th>E</th>\n",
       "    </tr>\n",
       "  </thead>\n",
       "  <tbody>\n",
       "    <tr>\n",
       "      <th>2018-11-01</th>\n",
       "      <td>False</td>\n",
       "      <td>False</td>\n",
       "      <td>False</td>\n",
       "      <td>True</td>\n",
       "      <td>False</td>\n",
       "    </tr>\n",
       "    <tr>\n",
       "      <th>2018-11-02</th>\n",
       "      <td>False</td>\n",
       "      <td>False</td>\n",
       "      <td>False</td>\n",
       "      <td>True</td>\n",
       "      <td>True</td>\n",
       "    </tr>\n",
       "    <tr>\n",
       "      <th>2018-11-03</th>\n",
       "      <td>False</td>\n",
       "      <td>False</td>\n",
       "      <td>False</td>\n",
       "      <td>True</td>\n",
       "      <td>False</td>\n",
       "    </tr>\n",
       "    <tr>\n",
       "      <th>2018-11-04</th>\n",
       "      <td>False</td>\n",
       "      <td>False</td>\n",
       "      <td>False</td>\n",
       "      <td>False</td>\n",
       "      <td>True</td>\n",
       "    </tr>\n",
       "    <tr>\n",
       "      <th>2018-11-05</th>\n",
       "      <td>False</td>\n",
       "      <td>False</td>\n",
       "      <td>False</td>\n",
       "      <td>False</td>\n",
       "      <td>False</td>\n",
       "    </tr>\n",
       "    <tr>\n",
       "      <th>2018-11-06</th>\n",
       "      <td>False</td>\n",
       "      <td>False</td>\n",
       "      <td>False</td>\n",
       "      <td>False</td>\n",
       "      <td>True</td>\n",
       "    </tr>\n",
       "    <tr>\n",
       "      <th>2018-11-07</th>\n",
       "      <td>False</td>\n",
       "      <td>False</td>\n",
       "      <td>False</td>\n",
       "      <td>False</td>\n",
       "      <td>False</td>\n",
       "    </tr>\n",
       "  </tbody>\n",
       "</table>\n",
       "</div>"
      ],
      "text/plain": [
       "                A      B      C      D      E\n",
       "2018-11-01  False  False  False   True  False\n",
       "2018-11-02  False  False  False   True   True\n",
       "2018-11-03  False  False  False   True  False\n",
       "2018-11-04  False  False  False  False   True\n",
       "2018-11-05  False  False  False  False  False\n",
       "2018-11-06  False  False  False  False   True\n",
       "2018-11-07  False  False  False  False  False"
      ]
     },
     "execution_count": 53,
     "metadata": {},
     "output_type": "execute_result"
    }
   ],
   "source": [
    "pd.isnull(df4)"
   ]
  },
  {
   "cell_type": "markdown",
   "metadata": {},
   "source": [
    "#### 数据操作"
   ]
  },
  {
   "cell_type": "code",
   "execution_count": 54,
   "metadata": {},
   "outputs": [
    {
     "data": {
      "text/plain": [
       "A    0.120563\n",
       "B   -0.062880\n",
       "C    0.649962\n",
       "D   -0.183015\n",
       "E    3.250000\n",
       "dtype: float64"
      ]
     },
     "execution_count": 54,
     "metadata": {},
     "output_type": "execute_result"
    }
   ],
   "source": [
    "#统计的工作一般情况下都不包含缺失值，\n",
    "df4.mean() \n",
    "#  默认是对列进行求平均，沿着行方向也就是axis=0"
   ]
  },
  {
   "cell_type": "code",
   "execution_count": 55,
   "metadata": {},
   "outputs": [
    {
     "data": {
      "text/plain": [
       "2018-11-01    0.864494\n",
       "2018-11-02   -0.456931\n",
       "2018-11-03    0.767699\n",
       "2018-11-04   -0.341789\n",
       "2018-11-05    0.425596\n",
       "2018-11-06    0.718779\n",
       "2018-11-07    1.685509\n",
       "Freq: D, dtype: float64"
      ]
     },
     "execution_count": 55,
     "metadata": {},
     "output_type": "execute_result"
    }
   ],
   "source": [
    "df4.mean(axis=1)\n",
    "#  沿着列方向求每行的平均"
   ]
  },
  {
   "cell_type": "code",
   "execution_count": 56,
   "metadata": {},
   "outputs": [
    {
     "data": {
      "text/plain": [
       "2018-11-01    1.0\n",
       "2018-11-02    3.0\n",
       "2018-11-03    4.0\n",
       "2018-11-04    NaN\n",
       "2018-11-05    6.0\n",
       "2018-11-06    7.0\n",
       "2018-11-07    8.0\n",
       "Freq: D, dtype: float64"
      ]
     },
     "execution_count": 56,
     "metadata": {},
     "output_type": "execute_result"
    }
   ],
   "source": [
    " # 对于拥有不同维度，需要对齐的对象进行操作。Pandas会自动的沿着指定的维度进行广播：\n",
    "s = pd.Series([1,3,4,np.nan,6,7,8],index=dates)\n",
    "s"
   ]
  },
  {
   "cell_type": "code",
   "execution_count": 57,
   "metadata": {},
   "outputs": [
    {
     "data": {
      "text/html": [
       "<div>\n",
       "<style scoped>\n",
       "    .dataframe tbody tr th:only-of-type {\n",
       "        vertical-align: middle;\n",
       "    }\n",
       "\n",
       "    .dataframe tbody tr th {\n",
       "        vertical-align: top;\n",
       "    }\n",
       "\n",
       "    .dataframe thead th {\n",
       "        text-align: right;\n",
       "    }\n",
       "</style>\n",
       "<table border=\"1\" class=\"dataframe\">\n",
       "  <thead>\n",
       "    <tr style=\"text-align: right;\">\n",
       "      <th></th>\n",
       "      <th>A</th>\n",
       "      <th>B</th>\n",
       "      <th>C</th>\n",
       "      <th>D</th>\n",
       "      <th>E</th>\n",
       "    </tr>\n",
       "  </thead>\n",
       "  <tbody>\n",
       "    <tr>\n",
       "      <th>2018-11-01</th>\n",
       "      <td>1.197094</td>\n",
       "      <td>-0.091087</td>\n",
       "      <td>-1.648029</td>\n",
       "      <td>NaN</td>\n",
       "      <td>0.0</td>\n",
       "    </tr>\n",
       "    <tr>\n",
       "      <th>2018-11-02</th>\n",
       "      <td>-2.645338</td>\n",
       "      <td>-4.224246</td>\n",
       "      <td>-3.501209</td>\n",
       "      <td>NaN</td>\n",
       "      <td>NaN</td>\n",
       "    </tr>\n",
       "    <tr>\n",
       "      <th>2018-11-03</th>\n",
       "      <td>-4.245834</td>\n",
       "      <td>-5.049596</td>\n",
       "      <td>-1.633775</td>\n",
       "      <td>NaN</td>\n",
       "      <td>-2.0</td>\n",
       "    </tr>\n",
       "    <tr>\n",
       "      <th>2018-11-04</th>\n",
       "      <td>NaN</td>\n",
       "      <td>NaN</td>\n",
       "      <td>NaN</td>\n",
       "      <td>NaN</td>\n",
       "      <td>NaN</td>\n",
       "    </tr>\n",
       "    <tr>\n",
       "      <th>2018-11-05</th>\n",
       "      <td>-6.548041</td>\n",
       "      <td>-6.841934</td>\n",
       "      <td>-5.426872</td>\n",
       "      <td>-7.055175</td>\n",
       "      <td>-2.0</td>\n",
       "    </tr>\n",
       "    <tr>\n",
       "      <th>2018-11-06</th>\n",
       "      <td>-7.691073</td>\n",
       "      <td>-6.066984</td>\n",
       "      <td>-5.142353</td>\n",
       "      <td>-6.224474</td>\n",
       "      <td>NaN</td>\n",
       "    </tr>\n",
       "    <tr>\n",
       "      <th>2018-11-07</th>\n",
       "      <td>-7.532925</td>\n",
       "      <td>-7.637593</td>\n",
       "      <td>-5.680625</td>\n",
       "      <td>-8.721314</td>\n",
       "      <td>-2.0</td>\n",
       "    </tr>\n",
       "  </tbody>\n",
       "</table>\n",
       "</div>"
      ],
      "text/plain": [
       "                   A         B         C         D    E\n",
       "2018-11-01  1.197094 -0.091087 -1.648029       NaN  0.0\n",
       "2018-11-02 -2.645338 -4.224246 -3.501209       NaN  NaN\n",
       "2018-11-03 -4.245834 -5.049596 -1.633775       NaN -2.0\n",
       "2018-11-04       NaN       NaN       NaN       NaN  NaN\n",
       "2018-11-05 -6.548041 -6.841934 -5.426872 -7.055175 -2.0\n",
       "2018-11-06 -7.691073 -6.066984 -5.142353 -6.224474  NaN\n",
       "2018-11-07 -7.532925 -7.637593 -5.680625 -8.721314 -2.0"
      ]
     },
     "execution_count": 57,
     "metadata": {},
     "output_type": "execute_result"
    }
   ],
   "source": [
    "df4.sub(s,axis='index')"
   ]
  },
  {
   "cell_type": "code",
   "execution_count": 58,
   "metadata": {},
   "outputs": [
    {
     "data": {
      "text/html": [
       "<div>\n",
       "<style scoped>\n",
       "    .dataframe tbody tr th:only-of-type {\n",
       "        vertical-align: middle;\n",
       "    }\n",
       "\n",
       "    .dataframe tbody tr th {\n",
       "        vertical-align: top;\n",
       "    }\n",
       "\n",
       "    .dataframe thead th {\n",
       "        text-align: right;\n",
       "    }\n",
       "</style>\n",
       "<table border=\"1\" class=\"dataframe\">\n",
       "  <thead>\n",
       "    <tr style=\"text-align: right;\">\n",
       "      <th></th>\n",
       "      <th>A</th>\n",
       "      <th>B</th>\n",
       "      <th>C</th>\n",
       "      <th>D</th>\n",
       "      <th>E</th>\n",
       "    </tr>\n",
       "  </thead>\n",
       "  <tbody>\n",
       "    <tr>\n",
       "      <th>2018-11-01</th>\n",
       "      <td>2.197094</td>\n",
       "      <td>0.908913</td>\n",
       "      <td>-0.648029</td>\n",
       "      <td>NaN</td>\n",
       "      <td>1.0</td>\n",
       "    </tr>\n",
       "    <tr>\n",
       "      <th>2018-11-02</th>\n",
       "      <td>0.354662</td>\n",
       "      <td>-1.224246</td>\n",
       "      <td>-0.501209</td>\n",
       "      <td>NaN</td>\n",
       "      <td>NaN</td>\n",
       "    </tr>\n",
       "    <tr>\n",
       "      <th>2018-11-03</th>\n",
       "      <td>-0.245834</td>\n",
       "      <td>-1.049596</td>\n",
       "      <td>2.366225</td>\n",
       "      <td>NaN</td>\n",
       "      <td>2.0</td>\n",
       "    </tr>\n",
       "    <tr>\n",
       "      <th>2018-11-04</th>\n",
       "      <td>-0.689940</td>\n",
       "      <td>0.471282</td>\n",
       "      <td>-1.417401</td>\n",
       "      <td>0.268905</td>\n",
       "      <td>NaN</td>\n",
       "    </tr>\n",
       "    <tr>\n",
       "      <th>2018-11-05</th>\n",
       "      <td>-0.548041</td>\n",
       "      <td>-0.841934</td>\n",
       "      <td>0.573128</td>\n",
       "      <td>-1.055175</td>\n",
       "      <td>4.0</td>\n",
       "    </tr>\n",
       "    <tr>\n",
       "      <th>2018-11-06</th>\n",
       "      <td>-0.691073</td>\n",
       "      <td>0.933016</td>\n",
       "      <td>1.857647</td>\n",
       "      <td>0.775526</td>\n",
       "      <td>NaN</td>\n",
       "    </tr>\n",
       "    <tr>\n",
       "      <th>2018-11-07</th>\n",
       "      <td>0.467075</td>\n",
       "      <td>0.362407</td>\n",
       "      <td>2.319375</td>\n",
       "      <td>-0.721314</td>\n",
       "      <td>6.0</td>\n",
       "    </tr>\n",
       "  </tbody>\n",
       "</table>\n",
       "</div>"
      ],
      "text/plain": [
       "                   A         B         C         D    E\n",
       "2018-11-01  2.197094  0.908913 -0.648029       NaN  1.0\n",
       "2018-11-02  0.354662 -1.224246 -0.501209       NaN  NaN\n",
       "2018-11-03 -0.245834 -1.049596  2.366225       NaN  2.0\n",
       "2018-11-04 -0.689940  0.471282 -1.417401  0.268905  NaN\n",
       "2018-11-05 -0.548041 -0.841934  0.573128 -1.055175  4.0\n",
       "2018-11-06 -0.691073  0.933016  1.857647  0.775526  NaN\n",
       "2018-11-07  0.467075  0.362407  2.319375 -0.721314  6.0"
      ]
     },
     "execution_count": 58,
     "metadata": {},
     "output_type": "execute_result"
    }
   ],
   "source": [
    "df4"
   ]
  },
  {
   "cell_type": "code",
   "execution_count": 59,
   "metadata": {},
   "outputs": [
    {
     "data": {
      "text/html": [
       "<div>\n",
       "<style scoped>\n",
       "    .dataframe tbody tr th:only-of-type {\n",
       "        vertical-align: middle;\n",
       "    }\n",
       "\n",
       "    .dataframe tbody tr th {\n",
       "        vertical-align: top;\n",
       "    }\n",
       "\n",
       "    .dataframe thead th {\n",
       "        text-align: right;\n",
       "    }\n",
       "</style>\n",
       "<table border=\"1\" class=\"dataframe\">\n",
       "  <thead>\n",
       "    <tr style=\"text-align: right;\">\n",
       "      <th></th>\n",
       "      <th>A</th>\n",
       "      <th>B</th>\n",
       "      <th>C</th>\n",
       "      <th>D</th>\n",
       "      <th>E</th>\n",
       "    </tr>\n",
       "  </thead>\n",
       "  <tbody>\n",
       "    <tr>\n",
       "      <th>2018-11-01</th>\n",
       "      <td>2.197094</td>\n",
       "      <td>0.908913</td>\n",
       "      <td>-0.648029</td>\n",
       "      <td>NaN</td>\n",
       "      <td>1.0</td>\n",
       "    </tr>\n",
       "    <tr>\n",
       "      <th>2018-11-02</th>\n",
       "      <td>2.551755</td>\n",
       "      <td>-0.315333</td>\n",
       "      <td>-1.149238</td>\n",
       "      <td>NaN</td>\n",
       "      <td>NaN</td>\n",
       "    </tr>\n",
       "    <tr>\n",
       "      <th>2018-11-03</th>\n",
       "      <td>2.305922</td>\n",
       "      <td>-1.364929</td>\n",
       "      <td>1.216987</td>\n",
       "      <td>NaN</td>\n",
       "      <td>3.0</td>\n",
       "    </tr>\n",
       "    <tr>\n",
       "      <th>2018-11-04</th>\n",
       "      <td>1.615982</td>\n",
       "      <td>-0.893647</td>\n",
       "      <td>-0.200415</td>\n",
       "      <td>0.268905</td>\n",
       "      <td>NaN</td>\n",
       "    </tr>\n",
       "    <tr>\n",
       "      <th>2018-11-05</th>\n",
       "      <td>1.067942</td>\n",
       "      <td>-1.735581</td>\n",
       "      <td>0.372713</td>\n",
       "      <td>-0.786270</td>\n",
       "      <td>7.0</td>\n",
       "    </tr>\n",
       "    <tr>\n",
       "      <th>2018-11-06</th>\n",
       "      <td>0.376869</td>\n",
       "      <td>-0.802565</td>\n",
       "      <td>2.230360</td>\n",
       "      <td>-0.010745</td>\n",
       "      <td>NaN</td>\n",
       "    </tr>\n",
       "    <tr>\n",
       "      <th>2018-11-07</th>\n",
       "      <td>0.843944</td>\n",
       "      <td>-0.440158</td>\n",
       "      <td>4.549735</td>\n",
       "      <td>-0.732059</td>\n",
       "      <td>13.0</td>\n",
       "    </tr>\n",
       "  </tbody>\n",
       "</table>\n",
       "</div>"
      ],
      "text/plain": [
       "                   A         B         C         D     E\n",
       "2018-11-01  2.197094  0.908913 -0.648029       NaN   1.0\n",
       "2018-11-02  2.551755 -0.315333 -1.149238       NaN   NaN\n",
       "2018-11-03  2.305922 -1.364929  1.216987       NaN   3.0\n",
       "2018-11-04  1.615982 -0.893647 -0.200415  0.268905   NaN\n",
       "2018-11-05  1.067942 -1.735581  0.372713 -0.786270   7.0\n",
       "2018-11-06  0.376869 -0.802565  2.230360 -0.010745   NaN\n",
       "2018-11-07  0.843944 -0.440158  4.549735 -0.732059  13.0"
      ]
     },
     "execution_count": 59,
     "metadata": {},
     "output_type": "execute_result"
    }
   ],
   "source": [
    "df4.apply(np.cumsum)"
   ]
  },
  {
   "cell_type": "code",
   "execution_count": 60,
   "metadata": {},
   "outputs": [
    {
     "data": {
      "text/plain": [
       "A    2.888166\n",
       "B    2.157262\n",
       "C    3.783626\n",
       "D    1.830700\n",
       "E    5.000000\n",
       "dtype: float64"
      ]
     },
     "execution_count": 60,
     "metadata": {},
     "output_type": "execute_result"
    }
   ],
   "source": [
    "df4.apply(lambda x: x.max()-x.min())"
   ]
  },
  {
   "cell_type": "markdown",
   "metadata": {},
   "source": [
    "#### 统计个数与离散化"
   ]
  },
  {
   "cell_type": "code",
   "execution_count": 62,
   "metadata": {},
   "outputs": [
    {
     "data": {
      "text/plain": [
       "0     1\n",
       "1     6\n",
       "2     3\n",
       "3     1\n",
       "4     1\n",
       "5     0\n",
       "6     4\n",
       "7     1\n",
       "8     3\n",
       "9     4\n",
       "10    6\n",
       "11    1\n",
       "12    4\n",
       "13    3\n",
       "14    5\n",
       "dtype: int32"
      ]
     },
     "execution_count": 62,
     "metadata": {},
     "output_type": "execute_result"
    }
   ],
   "source": [
    "s = pd.Series(np.random.randint(0,7,size=15))\n",
    "s"
   ]
  },
  {
   "cell_type": "code",
   "execution_count": 63,
   "metadata": {},
   "outputs": [
    {
     "data": {
      "text/plain": [
       "1    5\n",
       "4    3\n",
       "3    3\n",
       "6    2\n",
       "5    1\n",
       "0    1\n",
       "dtype: int64"
      ]
     },
     "execution_count": 63,
     "metadata": {},
     "output_type": "execute_result"
    }
   ],
   "source": [
    "s.value_counts()\n",
    "# 统计元素的个数，并按照元素统计量进行排序，未出现的元素不会显示出来"
   ]
  },
  {
   "cell_type": "code",
   "execution_count": 64,
   "metadata": {},
   "outputs": [
    {
     "data": {
      "text/plain": [
       "0    1\n",
       "1    6\n",
       "2    3\n",
       "3    1\n",
       "4    1\n",
       "5    0\n",
       "6    4\n",
       "dtype: int32"
      ]
     },
     "execution_count": 64,
     "metadata": {},
     "output_type": "execute_result"
    }
   ],
   "source": [
    "s.reindex(range(0,7))\n",
    "# 按照固定的顺序输出元素的个数统计"
   ]
  },
  {
   "cell_type": "code",
   "execution_count": 69,
   "metadata": {},
   "outputs": [
    {
     "data": {
      "text/plain": [
       "0    1\n",
       "dtype: int32"
      ]
     },
     "execution_count": 69,
     "metadata": {},
     "output_type": "execute_result"
    }
   ],
   "source": [
    "s.mode()\n",
    "#  众数 "
   ]
  },
  {
   "cell_type": "markdown",
   "metadata": {},
   "source": [
    "- 离散化"
   ]
  },
  {
   "cell_type": "code",
   "execution_count": 78,
   "metadata": {},
   "outputs": [
    {
     "data": {
      "text/plain": [
       "array([ 3, 14, 10,  2,  2,  0, 17, 13,  7,  0, 15, 14,  4, 19,  9])"
      ]
     },
     "execution_count": 78,
     "metadata": {},
     "output_type": "execute_result"
    }
   ],
   "source": [
    "# 连续值转化为离散值，可以使用cut函数进行操作（bins based on vlaues） qcut （bins based on sample\n",
    "# quantiles） 函数\n",
    "arr = np.random.randint(0,20,size=15)  # 正态分布\n",
    "arr"
   ]
  },
  {
   "cell_type": "code",
   "execution_count": 80,
   "metadata": {},
   "outputs": [
    {
     "data": {
      "text/plain": [
       "[(-0.019, 6.333], (12.667, 19.0], (6.333, 12.667], (-0.019, 6.333], (-0.019, 6.333], ..., (12.667, 19.0], (12.667, 19.0], (-0.019, 6.333], (12.667, 19.0], (6.333, 12.667]]\n",
       "Length: 15\n",
       "Categories (3, interval[float64]): [(-0.019, 6.333] < (6.333, 12.667] < (12.667, 19.0]]"
      ]
     },
     "execution_count": 80,
     "metadata": {},
     "output_type": "execute_result"
    }
   ],
   "source": [
    "factor = pd.cut(arr,3)\n",
    "factor"
   ]
  },
  {
   "cell_type": "code",
   "execution_count": 81,
   "metadata": {},
   "outputs": [
    {
     "data": {
      "text/plain": [
       "(12.667, 19.0]     6\n",
       "(-0.019, 6.333]    6\n",
       "(6.333, 12.667]    3\n",
       "dtype: int64"
      ]
     },
     "execution_count": 81,
     "metadata": {},
     "output_type": "execute_result"
    }
   ],
   "source": [
    "pd.value_counts(factor)"
   ]
  },
  {
   "cell_type": "code",
   "execution_count": 91,
   "metadata": {},
   "outputs": [],
   "source": [
    "factor1 = pd.cut(arr,[-1,5,10,15,20])"
   ]
  },
  {
   "cell_type": "code",
   "execution_count": 92,
   "metadata": {},
   "outputs": [
    {
     "data": {
      "text/plain": [
       "(-1, 5]     6\n",
       "(10, 15]    4\n",
       "(5, 10]     3\n",
       "(15, 20]    2\n",
       "dtype: int64"
      ]
     },
     "execution_count": 92,
     "metadata": {},
     "output_type": "execute_result"
    }
   ],
   "source": [
    "pd.value_counts(factor1)"
   ]
  },
  {
   "cell_type": "code",
   "execution_count": 94,
   "metadata": {},
   "outputs": [],
   "source": [
    "factor2 = pd.qcut(arr,[0,0.25,0.5,0.75,1])"
   ]
  },
  {
   "cell_type": "code",
   "execution_count": 96,
   "metadata": {},
   "outputs": [
    {
     "data": {
      "text/plain": [
       "(9.0, 14.0]      4\n",
       "(2.5, 9.0]       4\n",
       "(-0.001, 2.5]    4\n",
       "(14.0, 19.0]     3\n",
       "dtype: int64"
      ]
     },
     "execution_count": 96,
     "metadata": {},
     "output_type": "execute_result"
    }
   ],
   "source": [
    "pd.value_counts(factor2)"
   ]
  },
  {
   "cell_type": "code",
   "execution_count": null,
   "metadata": {},
   "outputs": [],
   "source": []
  }
 ],
 "metadata": {
  "kernelspec": {
   "display_name": "Python 3",
   "language": "python",
   "name": "python3"
  },
  "language_info": {
   "codemirror_mode": {
    "name": "ipython",
    "version": 3
   },
   "file_extension": ".py",
   "mimetype": "text/x-python",
   "name": "python",
   "nbconvert_exporter": "python",
   "pygments_lexer": "ipython3",
   "version": "3.6.2"
  },
  "toc": {
   "base_numbering": 1,
   "nav_menu": {},
   "number_sections": true,
   "sideBar": true,
   "skip_h1_title": false,
   "title_cell": "Table of Contents",
   "title_sidebar": "Contents",
   "toc_cell": false,
   "toc_position": {
    "height": "calc(100% - 180px)",
    "left": "10px",
    "top": "150px",
    "width": "203.797px"
   },
   "toc_section_display": true,
   "toc_window_display": true
  }
 },
 "nbformat": 4,
 "nbformat_minor": 2
}
