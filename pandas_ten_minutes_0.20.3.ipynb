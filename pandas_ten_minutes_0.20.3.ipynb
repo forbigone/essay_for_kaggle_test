{
 "cells": [
  {
   "cell_type": "code",
   "execution_count": 1,
   "metadata": {
    "collapsed": true
   },
   "outputs": [],
   "source": [
    "import pandas as pd\n",
    "import numpy as np"
   ]
  },
  {
   "cell_type": "code",
   "execution_count": 2,
   "metadata": {
    "collapsed": true
   },
   "outputs": [],
   "source": [
    "import matplotlib.pyplot as plt"
   ]
  },
  {
   "cell_type": "markdown",
   "metadata": {},
   "source": [
    "### 创建一个Series ，同时让pandas自动生成索引列"
   ]
  },
  {
   "cell_type": "code",
   "execution_count": 3,
   "metadata": {
    "collapsed": true
   },
   "outputs": [],
   "source": [
    "s = pd.Series([1,3,5,np.nan,6,8])"
   ]
  },
  {
   "cell_type": "code",
   "execution_count": 4,
   "metadata": {
    "collapsed": false
   },
   "outputs": [
    {
     "data": {
      "text/plain": [
       "0    1.0\n",
       "1    3.0\n",
       "2    5.0\n",
       "3    NaN\n",
       "4    6.0\n",
       "5    8.0\n",
       "dtype: float64"
      ]
     },
     "execution_count": 4,
     "metadata": {},
     "output_type": "execute_result"
    }
   ],
   "source": [
    "# 查看s\n",
    "s"
   ]
  },
  {
   "cell_type": "markdown",
   "metadata": {},
   "source": [
    "### 创建一个DataFrame数据框"
   ]
  },
  {
   "cell_type": "code",
   "execution_count": 5,
   "metadata": {
    "collapsed": true
   },
   "outputs": [],
   "source": [
    "### 创建一个DataFrame ，可以传入一个numpy array 可以自己构建索引以及列标\n",
    "dates = pd.date_range('2018-11-01',periods=7)\n",
    "#### 比如说生成一个时间序列，以20181101 为起始位置的，7个日期组成的时间序列，数据的类型为datetime64[ns]"
   ]
  },
  {
   "cell_type": "code",
   "execution_count": 6,
   "metadata": {
    "collapsed": false
   },
   "outputs": [
    {
     "data": {
      "text/plain": [
       "DatetimeIndex(['2018-11-01', '2018-11-02', '2018-11-03', '2018-11-04',\n",
       "               '2018-11-05', '2018-11-06', '2018-11-07'],\n",
       "              dtype='datetime64[ns]', freq='D')"
      ]
     },
     "execution_count": 6,
     "metadata": {},
     "output_type": "execute_result"
    }
   ],
   "source": [
    "dates"
   ]
  },
  {
   "cell_type": "code",
   "execution_count": 7,
   "metadata": {
    "collapsed": false
   },
   "outputs": [
    {
     "data": {
      "text/html": [
       "<div>\n",
       "<style>\n",
       "    .dataframe thead tr:only-child th {\n",
       "        text-align: right;\n",
       "    }\n",
       "\n",
       "    .dataframe thead th {\n",
       "        text-align: left;\n",
       "    }\n",
       "\n",
       "    .dataframe tbody tr th {\n",
       "        vertical-align: top;\n",
       "    }\n",
       "</style>\n",
       "<table border=\"1\" class=\"dataframe\">\n",
       "  <thead>\n",
       "    <tr style=\"text-align: right;\">\n",
       "      <th></th>\n",
       "      <th>A</th>\n",
       "      <th>B</th>\n",
       "      <th>C</th>\n",
       "      <th>D</th>\n",
       "    </tr>\n",
       "  </thead>\n",
       "  <tbody>\n",
       "    <tr>\n",
       "      <th>2018-11-01</th>\n",
       "      <td>1.048139</td>\n",
       "      <td>-1.458569</td>\n",
       "      <td>0.338401</td>\n",
       "      <td>-0.456363</td>\n",
       "    </tr>\n",
       "    <tr>\n",
       "      <th>2018-11-02</th>\n",
       "      <td>0.561564</td>\n",
       "      <td>-0.746231</td>\n",
       "      <td>-0.202332</td>\n",
       "      <td>-0.563104</td>\n",
       "    </tr>\n",
       "    <tr>\n",
       "      <th>2018-11-03</th>\n",
       "      <td>0.038716</td>\n",
       "      <td>1.018482</td>\n",
       "      <td>-0.083829</td>\n",
       "      <td>-0.193916</td>\n",
       "    </tr>\n",
       "    <tr>\n",
       "      <th>2018-11-04</th>\n",
       "      <td>-1.920659</td>\n",
       "      <td>0.227513</td>\n",
       "      <td>-1.238505</td>\n",
       "      <td>-0.356947</td>\n",
       "    </tr>\n",
       "    <tr>\n",
       "      <th>2018-11-05</th>\n",
       "      <td>-0.482242</td>\n",
       "      <td>1.297202</td>\n",
       "      <td>-0.309765</td>\n",
       "      <td>-0.864293</td>\n",
       "    </tr>\n",
       "    <tr>\n",
       "      <th>2018-11-06</th>\n",
       "      <td>-1.857481</td>\n",
       "      <td>-0.769062</td>\n",
       "      <td>1.194004</td>\n",
       "      <td>-0.042794</td>\n",
       "    </tr>\n",
       "    <tr>\n",
       "      <th>2018-11-07</th>\n",
       "      <td>-0.469397</td>\n",
       "      <td>0.002246</td>\n",
       "      <td>0.003750</td>\n",
       "      <td>1.602875</td>\n",
       "    </tr>\n",
       "  </tbody>\n",
       "</table>\n",
       "</div>"
      ],
      "text/plain": [
       "                   A         B         C         D\n",
       "2018-11-01  1.048139 -1.458569  0.338401 -0.456363\n",
       "2018-11-02  0.561564 -0.746231 -0.202332 -0.563104\n",
       "2018-11-03  0.038716  1.018482 -0.083829 -0.193916\n",
       "2018-11-04 -1.920659  0.227513 -1.238505 -0.356947\n",
       "2018-11-05 -0.482242  1.297202 -0.309765 -0.864293\n",
       "2018-11-06 -1.857481 -0.769062  1.194004 -0.042794\n",
       "2018-11-07 -0.469397  0.002246  0.003750  1.602875"
      ]
     },
     "execution_count": 7,
     "metadata": {},
     "output_type": "execute_result"
    }
   ],
   "source": [
    "df = pd.DataFrame(np.random.randn(7,4),index= dates,columns=list('ABCD'))\n",
    "df\n",
    "# 产生随机正态分布的数据，7行4列，分别对应的index的长度以及column的长度"
   ]
  },
  {
   "cell_type": "code",
   "execution_count": 8,
   "metadata": {
    "collapsed": false
   },
   "outputs": [
    {
     "data": {
      "text/html": [
       "<div>\n",
       "<style>\n",
       "    .dataframe thead tr:only-child th {\n",
       "        text-align: right;\n",
       "    }\n",
       "\n",
       "    .dataframe thead th {\n",
       "        text-align: left;\n",
       "    }\n",
       "\n",
       "    .dataframe tbody tr th {\n",
       "        vertical-align: top;\n",
       "    }\n",
       "</style>\n",
       "<table border=\"1\" class=\"dataframe\">\n",
       "  <thead>\n",
       "    <tr style=\"text-align: right;\">\n",
       "      <th></th>\n",
       "      <th>A</th>\n",
       "      <th>B</th>\n",
       "      <th>C</th>\n",
       "      <th>D</th>\n",
       "      <th>E</th>\n",
       "    </tr>\n",
       "  </thead>\n",
       "  <tbody>\n",
       "    <tr>\n",
       "      <th>0</th>\n",
       "      <td>1</td>\n",
       "      <td>20181101</td>\n",
       "      <td>3</td>\n",
       "      <td>test</td>\n",
       "      <td>1.5</td>\n",
       "    </tr>\n",
       "    <tr>\n",
       "      <th>1</th>\n",
       "      <td>1</td>\n",
       "      <td>20181101</td>\n",
       "      <td>3</td>\n",
       "      <td>train</td>\n",
       "      <td>1.5</td>\n",
       "    </tr>\n",
       "    <tr>\n",
       "      <th>2</th>\n",
       "      <td>1</td>\n",
       "      <td>20181101</td>\n",
       "      <td>3</td>\n",
       "      <td>test</td>\n",
       "      <td>1.5</td>\n",
       "    </tr>\n",
       "    <tr>\n",
       "      <th>3</th>\n",
       "      <td>1</td>\n",
       "      <td>20181101</td>\n",
       "      <td>3</td>\n",
       "      <td>train</td>\n",
       "      <td>1.5</td>\n",
       "    </tr>\n",
       "  </tbody>\n",
       "</table>\n",
       "</div>"
      ],
      "text/plain": [
       "   A         B  C      D    E\n",
       "0  1  20181101  3   test  1.5\n",
       "1  1  20181101  3  train  1.5\n",
       "2  1  20181101  3   test  1.5\n",
       "3  1  20181101  3  train  1.5"
      ]
     },
     "execution_count": 8,
     "metadata": {},
     "output_type": "execute_result"
    }
   ],
   "source": [
    "### 同时用可以使用dict的实行创建DataFrame\n",
    "df2 = pd.DataFrame({\"A\":1,\n",
    "                   \"B\":\"20181101\",\n",
    "                   'C':np.array([3]*4,dtype='int32'),\n",
    "                   'D':pd.Categorical(['test','train','test','train']),\n",
    "                   \"E\":1.5},\n",
    "                  )\n",
    "df2"
   ]
  },
  {
   "cell_type": "code",
   "execution_count": 9,
   "metadata": {
    "collapsed": false
   },
   "outputs": [
    {
     "data": {
      "text/plain": [
       "A       int64\n",
       "B      object\n",
       "C       int32\n",
       "D    category\n",
       "E     float64\n",
       "dtype: object"
      ]
     },
     "execution_count": 9,
     "metadata": {},
     "output_type": "execute_result"
    }
   ],
   "source": [
    "df2.dtypes\n",
    "### 查看数据框中的数据类型,常见的数据类型还有时间类型以及float类型"
   ]
  },
  {
   "cell_type": "markdown",
   "metadata": {},
   "source": [
    "### 查看数据"
   ]
  },
  {
   "cell_type": "code",
   "execution_count": 10,
   "metadata": {
    "collapsed": false
   },
   "outputs": [
    {
     "data": {
      "text/html": [
       "<div>\n",
       "<style>\n",
       "    .dataframe thead tr:only-child th {\n",
       "        text-align: right;\n",
       "    }\n",
       "\n",
       "    .dataframe thead th {\n",
       "        text-align: left;\n",
       "    }\n",
       "\n",
       "    .dataframe tbody tr th {\n",
       "        vertical-align: top;\n",
       "    }\n",
       "</style>\n",
       "<table border=\"1\" class=\"dataframe\">\n",
       "  <thead>\n",
       "    <tr style=\"text-align: right;\">\n",
       "      <th></th>\n",
       "      <th>A</th>\n",
       "      <th>B</th>\n",
       "      <th>C</th>\n",
       "      <th>D</th>\n",
       "    </tr>\n",
       "  </thead>\n",
       "  <tbody>\n",
       "    <tr>\n",
       "      <th>2018-11-01</th>\n",
       "      <td>1.048139</td>\n",
       "      <td>-1.458569</td>\n",
       "      <td>0.338401</td>\n",
       "      <td>-0.456363</td>\n",
       "    </tr>\n",
       "    <tr>\n",
       "      <th>2018-11-02</th>\n",
       "      <td>0.561564</td>\n",
       "      <td>-0.746231</td>\n",
       "      <td>-0.202332</td>\n",
       "      <td>-0.563104</td>\n",
       "    </tr>\n",
       "    <tr>\n",
       "      <th>2018-11-03</th>\n",
       "      <td>0.038716</td>\n",
       "      <td>1.018482</td>\n",
       "      <td>-0.083829</td>\n",
       "      <td>-0.193916</td>\n",
       "    </tr>\n",
       "    <tr>\n",
       "      <th>2018-11-04</th>\n",
       "      <td>-1.920659</td>\n",
       "      <td>0.227513</td>\n",
       "      <td>-1.238505</td>\n",
       "      <td>-0.356947</td>\n",
       "    </tr>\n",
       "    <tr>\n",
       "      <th>2018-11-05</th>\n",
       "      <td>-0.482242</td>\n",
       "      <td>1.297202</td>\n",
       "      <td>-0.309765</td>\n",
       "      <td>-0.864293</td>\n",
       "    </tr>\n",
       "  </tbody>\n",
       "</table>\n",
       "</div>"
      ],
      "text/plain": [
       "                   A         B         C         D\n",
       "2018-11-01  1.048139 -1.458569  0.338401 -0.456363\n",
       "2018-11-02  0.561564 -0.746231 -0.202332 -0.563104\n",
       "2018-11-03  0.038716  1.018482 -0.083829 -0.193916\n",
       "2018-11-04 -1.920659  0.227513 -1.238505 -0.356947\n",
       "2018-11-05 -0.482242  1.297202 -0.309765 -0.864293"
      ]
     },
     "execution_count": 10,
     "metadata": {},
     "output_type": "execute_result"
    }
   ],
   "source": [
    "\n",
    "# 比如说看前5行\n",
    "df.head()"
   ]
  },
  {
   "cell_type": "code",
   "execution_count": 11,
   "metadata": {
    "collapsed": false
   },
   "outputs": [
    {
     "data": {
      "text/html": [
       "<div>\n",
       "<style>\n",
       "    .dataframe thead tr:only-child th {\n",
       "        text-align: right;\n",
       "    }\n",
       "\n",
       "    .dataframe thead th {\n",
       "        text-align: left;\n",
       "    }\n",
       "\n",
       "    .dataframe tbody tr th {\n",
       "        vertical-align: top;\n",
       "    }\n",
       "</style>\n",
       "<table border=\"1\" class=\"dataframe\">\n",
       "  <thead>\n",
       "    <tr style=\"text-align: right;\">\n",
       "      <th></th>\n",
       "      <th>A</th>\n",
       "      <th>B</th>\n",
       "      <th>C</th>\n",
       "      <th>D</th>\n",
       "    </tr>\n",
       "  </thead>\n",
       "  <tbody>\n",
       "    <tr>\n",
       "      <th>2018-11-04</th>\n",
       "      <td>-1.920659</td>\n",
       "      <td>0.227513</td>\n",
       "      <td>-1.238505</td>\n",
       "      <td>-0.356947</td>\n",
       "    </tr>\n",
       "    <tr>\n",
       "      <th>2018-11-05</th>\n",
       "      <td>-0.482242</td>\n",
       "      <td>1.297202</td>\n",
       "      <td>-0.309765</td>\n",
       "      <td>-0.864293</td>\n",
       "    </tr>\n",
       "    <tr>\n",
       "      <th>2018-11-06</th>\n",
       "      <td>-1.857481</td>\n",
       "      <td>-0.769062</td>\n",
       "      <td>1.194004</td>\n",
       "      <td>-0.042794</td>\n",
       "    </tr>\n",
       "    <tr>\n",
       "      <th>2018-11-07</th>\n",
       "      <td>-0.469397</td>\n",
       "      <td>0.002246</td>\n",
       "      <td>0.003750</td>\n",
       "      <td>1.602875</td>\n",
       "    </tr>\n",
       "  </tbody>\n",
       "</table>\n",
       "</div>"
      ],
      "text/plain": [
       "                   A         B         C         D\n",
       "2018-11-04 -1.920659  0.227513 -1.238505 -0.356947\n",
       "2018-11-05 -0.482242  1.297202 -0.309765 -0.864293\n",
       "2018-11-06 -1.857481 -0.769062  1.194004 -0.042794\n",
       "2018-11-07 -0.469397  0.002246  0.003750  1.602875"
      ]
     },
     "execution_count": 11,
     "metadata": {},
     "output_type": "execute_result"
    }
   ],
   "source": [
    "# 后4行\n",
    "df.tail(4)"
   ]
  },
  {
   "cell_type": "code",
   "execution_count": 12,
   "metadata": {
    "collapsed": false
   },
   "outputs": [
    {
     "data": {
      "text/plain": [
       "DatetimeIndex(['2018-11-01', '2018-11-02', '2018-11-03', '2018-11-04',\n",
       "               '2018-11-05', '2018-11-06', '2018-11-07'],\n",
       "              dtype='datetime64[ns]', freq='D')"
      ]
     },
     "execution_count": 12,
     "metadata": {},
     "output_type": "execute_result"
    }
   ],
   "source": [
    "# 查看DataFrame的索引\n",
    "df.index"
   ]
  },
  {
   "cell_type": "code",
   "execution_count": 13,
   "metadata": {
    "collapsed": false
   },
   "outputs": [
    {
     "data": {
      "text/plain": [
       "Index(['A', 'B', 'C', 'D'], dtype='object')"
      ]
     },
     "execution_count": 13,
     "metadata": {},
     "output_type": "execute_result"
    }
   ],
   "source": [
    "# 查看DataFrame的列索引\n",
    "df.columns\n"
   ]
  },
  {
   "cell_type": "code",
   "execution_count": 14,
   "metadata": {
    "collapsed": false
   },
   "outputs": [
    {
     "data": {
      "text/plain": [
       "array([[ 1.04813927, -1.45856944,  0.33840097, -0.45636304],\n",
       "       [ 0.5615638 , -0.74623086, -0.20233207, -0.56310425],\n",
       "       [ 0.03871598,  1.01848186, -0.08382853, -0.19391632],\n",
       "       [-1.92065886,  0.22751262, -1.23850509, -0.35694711],\n",
       "       [-0.482242  ,  1.29720226, -0.30976464, -0.86429258],\n",
       "       [-1.85748082, -0.76906174,  1.19400435, -0.04279447],\n",
       "       [-0.46939741,  0.00224576,  0.00375016,  1.60287521]])"
      ]
     },
     "execution_count": 14,
     "metadata": {},
     "output_type": "execute_result"
    }
   ],
   "source": [
    "# 查看DataFrame的数据,将DataFrame转化为numpy array 的数据形式\n",
    "df.values"
   ]
  },
  {
   "cell_type": "markdown",
   "metadata": {},
   "source": [
    "### 数据的简单统计"
   ]
  },
  {
   "cell_type": "code",
   "execution_count": 15,
   "metadata": {
    "collapsed": false
   },
   "outputs": [
    {
     "data": {
      "text/html": [
       "<div>\n",
       "<style>\n",
       "    .dataframe thead tr:only-child th {\n",
       "        text-align: right;\n",
       "    }\n",
       "\n",
       "    .dataframe thead th {\n",
       "        text-align: left;\n",
       "    }\n",
       "\n",
       "    .dataframe tbody tr th {\n",
       "        vertical-align: top;\n",
       "    }\n",
       "</style>\n",
       "<table border=\"1\" class=\"dataframe\">\n",
       "  <thead>\n",
       "    <tr style=\"text-align: right;\">\n",
       "      <th></th>\n",
       "      <th>A</th>\n",
       "      <th>B</th>\n",
       "      <th>C</th>\n",
       "      <th>D</th>\n",
       "    </tr>\n",
       "  </thead>\n",
       "  <tbody>\n",
       "    <tr>\n",
       "      <th>count</th>\n",
       "      <td>7.000000</td>\n",
       "      <td>7.000000</td>\n",
       "      <td>7.000000</td>\n",
       "      <td>7.000000</td>\n",
       "    </tr>\n",
       "    <tr>\n",
       "      <th>mean</th>\n",
       "      <td>-0.440194</td>\n",
       "      <td>-0.061203</td>\n",
       "      <td>-0.042611</td>\n",
       "      <td>-0.124935</td>\n",
       "    </tr>\n",
       "    <tr>\n",
       "      <th>std</th>\n",
       "      <td>1.129241</td>\n",
       "      <td>1.001776</td>\n",
       "      <td>0.730899</td>\n",
       "      <td>0.806138</td>\n",
       "    </tr>\n",
       "    <tr>\n",
       "      <th>min</th>\n",
       "      <td>-1.920659</td>\n",
       "      <td>-1.458569</td>\n",
       "      <td>-1.238505</td>\n",
       "      <td>-0.864293</td>\n",
       "    </tr>\n",
       "    <tr>\n",
       "      <th>25%</th>\n",
       "      <td>-1.169861</td>\n",
       "      <td>-0.757646</td>\n",
       "      <td>-0.256048</td>\n",
       "      <td>-0.509734</td>\n",
       "    </tr>\n",
       "    <tr>\n",
       "      <th>50%</th>\n",
       "      <td>-0.469397</td>\n",
       "      <td>0.002246</td>\n",
       "      <td>-0.083829</td>\n",
       "      <td>-0.356947</td>\n",
       "    </tr>\n",
       "    <tr>\n",
       "      <th>75%</th>\n",
       "      <td>0.300140</td>\n",
       "      <td>0.622997</td>\n",
       "      <td>0.171076</td>\n",
       "      <td>-0.118355</td>\n",
       "    </tr>\n",
       "    <tr>\n",
       "      <th>max</th>\n",
       "      <td>1.048139</td>\n",
       "      <td>1.297202</td>\n",
       "      <td>1.194004</td>\n",
       "      <td>1.602875</td>\n",
       "    </tr>\n",
       "  </tbody>\n",
       "</table>\n",
       "</div>"
      ],
      "text/plain": [
       "              A         B         C         D\n",
       "count  7.000000  7.000000  7.000000  7.000000\n",
       "mean  -0.440194 -0.061203 -0.042611 -0.124935\n",
       "std    1.129241  1.001776  0.730899  0.806138\n",
       "min   -1.920659 -1.458569 -1.238505 -0.864293\n",
       "25%   -1.169861 -0.757646 -0.256048 -0.509734\n",
       "50%   -0.469397  0.002246 -0.083829 -0.356947\n",
       "75%    0.300140  0.622997  0.171076 -0.118355\n",
       "max    1.048139  1.297202  1.194004  1.602875"
      ]
     },
     "execution_count": 15,
     "metadata": {},
     "output_type": "execute_result"
    }
   ],
   "source": [
    "# 可以使用describe函数对DataFrame中的数值型数据进行统计\n",
    "df.describe()"
   ]
  },
  {
   "cell_type": "code",
   "execution_count": 16,
   "metadata": {
    "collapsed": false
   },
   "outputs": [
    {
     "data": {
      "text/html": [
       "<div>\n",
       "<style>\n",
       "    .dataframe thead tr:only-child th {\n",
       "        text-align: right;\n",
       "    }\n",
       "\n",
       "    .dataframe thead th {\n",
       "        text-align: left;\n",
       "    }\n",
       "\n",
       "    .dataframe tbody tr th {\n",
       "        vertical-align: top;\n",
       "    }\n",
       "</style>\n",
       "<table border=\"1\" class=\"dataframe\">\n",
       "  <thead>\n",
       "    <tr style=\"text-align: right;\">\n",
       "      <th></th>\n",
       "      <th>A</th>\n",
       "      <th>C</th>\n",
       "      <th>E</th>\n",
       "    </tr>\n",
       "  </thead>\n",
       "  <tbody>\n",
       "    <tr>\n",
       "      <th>count</th>\n",
       "      <td>4.0</td>\n",
       "      <td>4.0</td>\n",
       "      <td>4.0</td>\n",
       "    </tr>\n",
       "    <tr>\n",
       "      <th>mean</th>\n",
       "      <td>1.0</td>\n",
       "      <td>3.0</td>\n",
       "      <td>1.5</td>\n",
       "    </tr>\n",
       "    <tr>\n",
       "      <th>std</th>\n",
       "      <td>0.0</td>\n",
       "      <td>0.0</td>\n",
       "      <td>0.0</td>\n",
       "    </tr>\n",
       "    <tr>\n",
       "      <th>min</th>\n",
       "      <td>1.0</td>\n",
       "      <td>3.0</td>\n",
       "      <td>1.5</td>\n",
       "    </tr>\n",
       "    <tr>\n",
       "      <th>25%</th>\n",
       "      <td>1.0</td>\n",
       "      <td>3.0</td>\n",
       "      <td>1.5</td>\n",
       "    </tr>\n",
       "    <tr>\n",
       "      <th>50%</th>\n",
       "      <td>1.0</td>\n",
       "      <td>3.0</td>\n",
       "      <td>1.5</td>\n",
       "    </tr>\n",
       "    <tr>\n",
       "      <th>75%</th>\n",
       "      <td>1.0</td>\n",
       "      <td>3.0</td>\n",
       "      <td>1.5</td>\n",
       "    </tr>\n",
       "    <tr>\n",
       "      <th>max</th>\n",
       "      <td>1.0</td>\n",
       "      <td>3.0</td>\n",
       "      <td>1.5</td>\n",
       "    </tr>\n",
       "  </tbody>\n",
       "</table>\n",
       "</div>"
      ],
      "text/plain": [
       "         A    C    E\n",
       "count  4.0  4.0  4.0\n",
       "mean   1.0  3.0  1.5\n",
       "std    0.0  0.0  0.0\n",
       "min    1.0  3.0  1.5\n",
       "25%    1.0  3.0  1.5\n",
       "50%    1.0  3.0  1.5\n",
       "75%    1.0  3.0  1.5\n",
       "max    1.0  3.0  1.5"
      ]
     },
     "execution_count": 16,
     "metadata": {},
     "output_type": "execute_result"
    }
   ],
   "source": [
    "df2.describe()\n",
    "### 对于其他的数据类型的数据describe函数会自动过滤掉"
   ]
  },
  {
   "cell_type": "code",
   "execution_count": 17,
   "metadata": {
    "collapsed": false
   },
   "outputs": [
    {
     "data": {
      "text/html": [
       "<div>\n",
       "<style>\n",
       "    .dataframe thead tr:only-child th {\n",
       "        text-align: right;\n",
       "    }\n",
       "\n",
       "    .dataframe thead th {\n",
       "        text-align: left;\n",
       "    }\n",
       "\n",
       "    .dataframe tbody tr th {\n",
       "        vertical-align: top;\n",
       "    }\n",
       "</style>\n",
       "<table border=\"1\" class=\"dataframe\">\n",
       "  <thead>\n",
       "    <tr style=\"text-align: right;\">\n",
       "      <th></th>\n",
       "      <th>2018-11-01 00:00:00</th>\n",
       "      <th>2018-11-02 00:00:00</th>\n",
       "      <th>2018-11-03 00:00:00</th>\n",
       "      <th>2018-11-04 00:00:00</th>\n",
       "      <th>2018-11-05 00:00:00</th>\n",
       "      <th>2018-11-06 00:00:00</th>\n",
       "      <th>2018-11-07 00:00:00</th>\n",
       "    </tr>\n",
       "  </thead>\n",
       "  <tbody>\n",
       "    <tr>\n",
       "      <th>A</th>\n",
       "      <td>1.048139</td>\n",
       "      <td>0.561564</td>\n",
       "      <td>0.038716</td>\n",
       "      <td>-1.920659</td>\n",
       "      <td>-0.482242</td>\n",
       "      <td>-1.857481</td>\n",
       "      <td>-0.469397</td>\n",
       "    </tr>\n",
       "    <tr>\n",
       "      <th>B</th>\n",
       "      <td>-1.458569</td>\n",
       "      <td>-0.746231</td>\n",
       "      <td>1.018482</td>\n",
       "      <td>0.227513</td>\n",
       "      <td>1.297202</td>\n",
       "      <td>-0.769062</td>\n",
       "      <td>0.002246</td>\n",
       "    </tr>\n",
       "    <tr>\n",
       "      <th>C</th>\n",
       "      <td>0.338401</td>\n",
       "      <td>-0.202332</td>\n",
       "      <td>-0.083829</td>\n",
       "      <td>-1.238505</td>\n",
       "      <td>-0.309765</td>\n",
       "      <td>1.194004</td>\n",
       "      <td>0.003750</td>\n",
       "    </tr>\n",
       "    <tr>\n",
       "      <th>D</th>\n",
       "      <td>-0.456363</td>\n",
       "      <td>-0.563104</td>\n",
       "      <td>-0.193916</td>\n",
       "      <td>-0.356947</td>\n",
       "      <td>-0.864293</td>\n",
       "      <td>-0.042794</td>\n",
       "      <td>1.602875</td>\n",
       "    </tr>\n",
       "  </tbody>\n",
       "</table>\n",
       "</div>"
      ],
      "text/plain": [
       "   2018-11-01  2018-11-02  2018-11-03  2018-11-04  2018-11-05  2018-11-06  \\\n",
       "A    1.048139    0.561564    0.038716   -1.920659   -0.482242   -1.857481   \n",
       "B   -1.458569   -0.746231    1.018482    0.227513    1.297202   -0.769062   \n",
       "C    0.338401   -0.202332   -0.083829   -1.238505   -0.309765    1.194004   \n",
       "D   -0.456363   -0.563104   -0.193916   -0.356947   -0.864293   -0.042794   \n",
       "\n",
       "   2018-11-07  \n",
       "A   -0.469397  \n",
       "B    0.002246  \n",
       "C    0.003750  \n",
       "D    1.602875  "
      ]
     },
     "execution_count": 17,
     "metadata": {},
     "output_type": "execute_result"
    }
   ],
   "source": [
    "### DataFrame 的转置，将列索引与行索引进行调换，行数据与列数进行调换\n",
    "df.T"
   ]
  },
  {
   "cell_type": "code",
   "execution_count": 18,
   "metadata": {
    "collapsed": false
   },
   "outputs": [
    {
     "data": {
      "text/html": [
       "<div>\n",
       "<style>\n",
       "    .dataframe thead tr:only-child th {\n",
       "        text-align: right;\n",
       "    }\n",
       "\n",
       "    .dataframe thead th {\n",
       "        text-align: left;\n",
       "    }\n",
       "\n",
       "    .dataframe tbody tr th {\n",
       "        vertical-align: top;\n",
       "    }\n",
       "</style>\n",
       "<table border=\"1\" class=\"dataframe\">\n",
       "  <thead>\n",
       "    <tr style=\"text-align: right;\">\n",
       "      <th></th>\n",
       "      <th>A</th>\n",
       "      <th>B</th>\n",
       "      <th>C</th>\n",
       "      <th>D</th>\n",
       "    </tr>\n",
       "  </thead>\n",
       "  <tbody>\n",
       "    <tr>\n",
       "      <th>2018-11-01</th>\n",
       "      <td>1.048139</td>\n",
       "      <td>-1.458569</td>\n",
       "      <td>0.338401</td>\n",
       "      <td>-0.456363</td>\n",
       "    </tr>\n",
       "    <tr>\n",
       "      <th>2018-11-02</th>\n",
       "      <td>0.561564</td>\n",
       "      <td>-0.746231</td>\n",
       "      <td>-0.202332</td>\n",
       "      <td>-0.563104</td>\n",
       "    </tr>\n",
       "    <tr>\n",
       "      <th>2018-11-03</th>\n",
       "      <td>0.038716</td>\n",
       "      <td>1.018482</td>\n",
       "      <td>-0.083829</td>\n",
       "      <td>-0.193916</td>\n",
       "    </tr>\n",
       "    <tr>\n",
       "      <th>2018-11-04</th>\n",
       "      <td>-1.920659</td>\n",
       "      <td>0.227513</td>\n",
       "      <td>-1.238505</td>\n",
       "      <td>-0.356947</td>\n",
       "    </tr>\n",
       "    <tr>\n",
       "      <th>2018-11-05</th>\n",
       "      <td>-0.482242</td>\n",
       "      <td>1.297202</td>\n",
       "      <td>-0.309765</td>\n",
       "      <td>-0.864293</td>\n",
       "    </tr>\n",
       "    <tr>\n",
       "      <th>2018-11-06</th>\n",
       "      <td>-1.857481</td>\n",
       "      <td>-0.769062</td>\n",
       "      <td>1.194004</td>\n",
       "      <td>-0.042794</td>\n",
       "    </tr>\n",
       "    <tr>\n",
       "      <th>2018-11-07</th>\n",
       "      <td>-0.469397</td>\n",
       "      <td>0.002246</td>\n",
       "      <td>0.003750</td>\n",
       "      <td>1.602875</td>\n",
       "    </tr>\n",
       "  </tbody>\n",
       "</table>\n",
       "</div>"
      ],
      "text/plain": [
       "                   A         B         C         D\n",
       "2018-11-01  1.048139 -1.458569  0.338401 -0.456363\n",
       "2018-11-02  0.561564 -0.746231 -0.202332 -0.563104\n",
       "2018-11-03  0.038716  1.018482 -0.083829 -0.193916\n",
       "2018-11-04 -1.920659  0.227513 -1.238505 -0.356947\n",
       "2018-11-05 -0.482242  1.297202 -0.309765 -0.864293\n",
       "2018-11-06 -1.857481 -0.769062  1.194004 -0.042794\n",
       "2018-11-07 -0.469397  0.002246  0.003750  1.602875"
      ]
     },
     "execution_count": 18,
     "metadata": {},
     "output_type": "execute_result"
    }
   ],
   "source": [
    "df"
   ]
  },
  {
   "cell_type": "markdown",
   "metadata": {},
   "source": [
    "### 数据的排序"
   ]
  },
  {
   "cell_type": "code",
   "execution_count": 19,
   "metadata": {
    "collapsed": false
   },
   "outputs": [
    {
     "data": {
      "text/html": [
       "<div>\n",
       "<style>\n",
       "    .dataframe thead tr:only-child th {\n",
       "        text-align: right;\n",
       "    }\n",
       "\n",
       "    .dataframe thead th {\n",
       "        text-align: left;\n",
       "    }\n",
       "\n",
       "    .dataframe tbody tr th {\n",
       "        vertical-align: top;\n",
       "    }\n",
       "</style>\n",
       "<table border=\"1\" class=\"dataframe\">\n",
       "  <thead>\n",
       "    <tr style=\"text-align: right;\">\n",
       "      <th></th>\n",
       "      <th>A</th>\n",
       "      <th>B</th>\n",
       "      <th>C</th>\n",
       "      <th>D</th>\n",
       "    </tr>\n",
       "  </thead>\n",
       "  <tbody>\n",
       "    <tr>\n",
       "      <th>2018-11-07</th>\n",
       "      <td>-0.469397</td>\n",
       "      <td>0.002246</td>\n",
       "      <td>0.003750</td>\n",
       "      <td>1.602875</td>\n",
       "    </tr>\n",
       "    <tr>\n",
       "      <th>2018-11-06</th>\n",
       "      <td>-1.857481</td>\n",
       "      <td>-0.769062</td>\n",
       "      <td>1.194004</td>\n",
       "      <td>-0.042794</td>\n",
       "    </tr>\n",
       "    <tr>\n",
       "      <th>2018-11-05</th>\n",
       "      <td>-0.482242</td>\n",
       "      <td>1.297202</td>\n",
       "      <td>-0.309765</td>\n",
       "      <td>-0.864293</td>\n",
       "    </tr>\n",
       "    <tr>\n",
       "      <th>2018-11-04</th>\n",
       "      <td>-1.920659</td>\n",
       "      <td>0.227513</td>\n",
       "      <td>-1.238505</td>\n",
       "      <td>-0.356947</td>\n",
       "    </tr>\n",
       "    <tr>\n",
       "      <th>2018-11-03</th>\n",
       "      <td>0.038716</td>\n",
       "      <td>1.018482</td>\n",
       "      <td>-0.083829</td>\n",
       "      <td>-0.193916</td>\n",
       "    </tr>\n",
       "    <tr>\n",
       "      <th>2018-11-02</th>\n",
       "      <td>0.561564</td>\n",
       "      <td>-0.746231</td>\n",
       "      <td>-0.202332</td>\n",
       "      <td>-0.563104</td>\n",
       "    </tr>\n",
       "    <tr>\n",
       "      <th>2018-11-01</th>\n",
       "      <td>1.048139</td>\n",
       "      <td>-1.458569</td>\n",
       "      <td>0.338401</td>\n",
       "      <td>-0.456363</td>\n",
       "    </tr>\n",
       "  </tbody>\n",
       "</table>\n",
       "</div>"
      ],
      "text/plain": [
       "                   A         B         C         D\n",
       "2018-11-07 -0.469397  0.002246  0.003750  1.602875\n",
       "2018-11-06 -1.857481 -0.769062  1.194004 -0.042794\n",
       "2018-11-05 -0.482242  1.297202 -0.309765 -0.864293\n",
       "2018-11-04 -1.920659  0.227513 -1.238505 -0.356947\n",
       "2018-11-03  0.038716  1.018482 -0.083829 -0.193916\n",
       "2018-11-02  0.561564 -0.746231 -0.202332 -0.563104\n",
       "2018-11-01  1.048139 -1.458569  0.338401 -0.456363"
      ]
     },
     "execution_count": 19,
     "metadata": {},
     "output_type": "execute_result"
    }
   ],
   "source": [
    "df.sort_index(ascending=False)\n",
    "### 降序，按照列进行降序，通过该索引列"
   ]
  },
  {
   "cell_type": "code",
   "execution_count": 20,
   "metadata": {
    "collapsed": false
   },
   "outputs": [
    {
     "name": "stdout",
     "output_type": "stream",
     "text": [
      "                   A         B         C         D\n",
      "2018-11-01  1.048139 -1.458569  0.338401 -0.456363\n",
      "2018-11-06 -1.857481 -0.769062  1.194004 -0.042794\n",
      "2018-11-02  0.561564 -0.746231 -0.202332 -0.563104\n",
      "2018-11-07 -0.469397  0.002246  0.003750  1.602875\n",
      "2018-11-04 -1.920659  0.227513 -1.238505 -0.356947\n",
      "2018-11-03  0.038716  1.018482 -0.083829 -0.193916\n",
      "2018-11-05 -0.482242  1.297202 -0.309765 -0.864293\n"
     ]
    },
    {
     "data": {
      "text/html": [
       "<div>\n",
       "<style>\n",
       "    .dataframe thead tr:only-child th {\n",
       "        text-align: right;\n",
       "    }\n",
       "\n",
       "    .dataframe thead th {\n",
       "        text-align: left;\n",
       "    }\n",
       "\n",
       "    .dataframe tbody tr th {\n",
       "        vertical-align: top;\n",
       "    }\n",
       "</style>\n",
       "<table border=\"1\" class=\"dataframe\">\n",
       "  <thead>\n",
       "    <tr style=\"text-align: right;\">\n",
       "      <th></th>\n",
       "      <th>A</th>\n",
       "      <th>B</th>\n",
       "      <th>C</th>\n",
       "      <th>D</th>\n",
       "    </tr>\n",
       "  </thead>\n",
       "  <tbody>\n",
       "    <tr>\n",
       "      <th>2018-11-01</th>\n",
       "      <td>1.048139</td>\n",
       "      <td>-1.458569</td>\n",
       "      <td>0.338401</td>\n",
       "      <td>-0.456363</td>\n",
       "    </tr>\n",
       "    <tr>\n",
       "      <th>2018-11-06</th>\n",
       "      <td>-1.857481</td>\n",
       "      <td>-0.769062</td>\n",
       "      <td>1.194004</td>\n",
       "      <td>-0.042794</td>\n",
       "    </tr>\n",
       "    <tr>\n",
       "      <th>2018-11-02</th>\n",
       "      <td>0.561564</td>\n",
       "      <td>-0.746231</td>\n",
       "      <td>-0.202332</td>\n",
       "      <td>-0.563104</td>\n",
       "    </tr>\n",
       "    <tr>\n",
       "      <th>2018-11-07</th>\n",
       "      <td>-0.469397</td>\n",
       "      <td>0.002246</td>\n",
       "      <td>0.003750</td>\n",
       "      <td>1.602875</td>\n",
       "    </tr>\n",
       "    <tr>\n",
       "      <th>2018-11-04</th>\n",
       "      <td>-1.920659</td>\n",
       "      <td>0.227513</td>\n",
       "      <td>-1.238505</td>\n",
       "      <td>-0.356947</td>\n",
       "    </tr>\n",
       "    <tr>\n",
       "      <th>2018-11-03</th>\n",
       "      <td>0.038716</td>\n",
       "      <td>1.018482</td>\n",
       "      <td>-0.083829</td>\n",
       "      <td>-0.193916</td>\n",
       "    </tr>\n",
       "    <tr>\n",
       "      <th>2018-11-05</th>\n",
       "      <td>-0.482242</td>\n",
       "      <td>1.297202</td>\n",
       "      <td>-0.309765</td>\n",
       "      <td>-0.864293</td>\n",
       "    </tr>\n",
       "  </tbody>\n",
       "</table>\n",
       "</div>"
      ],
      "text/plain": [
       "                   A         B         C         D\n",
       "2018-11-01  1.048139 -1.458569  0.338401 -0.456363\n",
       "2018-11-06 -1.857481 -0.769062  1.194004 -0.042794\n",
       "2018-11-02  0.561564 -0.746231 -0.202332 -0.563104\n",
       "2018-11-07 -0.469397  0.002246  0.003750  1.602875\n",
       "2018-11-04 -1.920659  0.227513 -1.238505 -0.356947\n",
       "2018-11-03  0.038716  1.018482 -0.083829 -0.193916\n",
       "2018-11-05 -0.482242  1.297202 -0.309765 -0.864293"
      ]
     },
     "execution_count": 20,
     "metadata": {},
     "output_type": "execute_result"
    }
   ],
   "source": [
    "\n",
    "print(df.sort_values(by=['B','A']))\n",
    "#  默认是升序,可以选择多指排序，先照B，后排A，如果B中的数据一样，则按照A中的大小进行排序\n",
    "df.sort_values(by='B')"
   ]
  },
  {
   "cell_type": "markdown",
   "metadata": {
    "collapsed": true
   },
   "source": [
    "### 选择数据（类似于数据库中sql语句）"
   ]
  },
  {
   "cell_type": "code",
   "execution_count": 21,
   "metadata": {
    "collapsed": false
   },
   "outputs": [
    {
     "data": {
      "text/plain": [
       "2018-11-01    1.048139\n",
       "2018-11-02    0.561564\n",
       "2018-11-03    0.038716\n",
       "2018-11-04   -1.920659\n",
       "2018-11-05   -0.482242\n",
       "2018-11-06   -1.857481\n",
       "2018-11-07   -0.469397\n",
       "Freq: D, Name: A, dtype: float64"
      ]
     },
     "execution_count": 21,
     "metadata": {},
     "output_type": "execute_result"
    }
   ],
   "source": [
    "df['A']\n",
    "# 取出单独的一列数据，等价于df.A"
   ]
  },
  {
   "cell_type": "code",
   "execution_count": 22,
   "metadata": {
    "collapsed": false
   },
   "outputs": [
    {
     "data": {
      "text/html": [
       "<div>\n",
       "<style>\n",
       "    .dataframe thead tr:only-child th {\n",
       "        text-align: right;\n",
       "    }\n",
       "\n",
       "    .dataframe thead th {\n",
       "        text-align: left;\n",
       "    }\n",
       "\n",
       "    .dataframe tbody tr th {\n",
       "        vertical-align: top;\n",
       "    }\n",
       "</style>\n",
       "<table border=\"1\" class=\"dataframe\">\n",
       "  <thead>\n",
       "    <tr style=\"text-align: right;\">\n",
       "      <th></th>\n",
       "      <th>A</th>\n",
       "      <th>B</th>\n",
       "      <th>C</th>\n",
       "      <th>D</th>\n",
       "    </tr>\n",
       "  </thead>\n",
       "  <tbody>\n",
       "    <tr>\n",
       "      <th>2018-11-01</th>\n",
       "      <td>1.048139</td>\n",
       "      <td>-1.458569</td>\n",
       "      <td>0.338401</td>\n",
       "      <td>-0.456363</td>\n",
       "    </tr>\n",
       "    <tr>\n",
       "      <th>2018-11-02</th>\n",
       "      <td>0.561564</td>\n",
       "      <td>-0.746231</td>\n",
       "      <td>-0.202332</td>\n",
       "      <td>-0.563104</td>\n",
       "    </tr>\n",
       "    <tr>\n",
       "      <th>2018-11-03</th>\n",
       "      <td>0.038716</td>\n",
       "      <td>1.018482</td>\n",
       "      <td>-0.083829</td>\n",
       "      <td>-0.193916</td>\n",
       "    </tr>\n",
       "  </tbody>\n",
       "</table>\n",
       "</div>"
      ],
      "text/plain": [
       "                   A         B         C         D\n",
       "2018-11-01  1.048139 -1.458569  0.338401 -0.456363\n",
       "2018-11-02  0.561564 -0.746231 -0.202332 -0.563104\n",
       "2018-11-03  0.038716  1.018482 -0.083829 -0.193916"
      ]
     },
     "execution_count": 22,
     "metadata": {},
     "output_type": "execute_result"
    }
   ],
   "source": [
    "# 通过[]进行行选择切片\n",
    "df[0:3]"
   ]
  },
  {
   "cell_type": "code",
   "execution_count": 23,
   "metadata": {
    "collapsed": false
   },
   "outputs": [
    {
     "data": {
      "text/html": [
       "<div>\n",
       "<style>\n",
       "    .dataframe thead tr:only-child th {\n",
       "        text-align: right;\n",
       "    }\n",
       "\n",
       "    .dataframe thead th {\n",
       "        text-align: left;\n",
       "    }\n",
       "\n",
       "    .dataframe tbody tr th {\n",
       "        vertical-align: top;\n",
       "    }\n",
       "</style>\n",
       "<table border=\"1\" class=\"dataframe\">\n",
       "  <thead>\n",
       "    <tr style=\"text-align: right;\">\n",
       "      <th></th>\n",
       "      <th>A</th>\n",
       "      <th>B</th>\n",
       "      <th>C</th>\n",
       "      <th>D</th>\n",
       "    </tr>\n",
       "  </thead>\n",
       "  <tbody>\n",
       "    <tr>\n",
       "      <th>2018-11-01</th>\n",
       "      <td>1.048139</td>\n",
       "      <td>-1.458569</td>\n",
       "      <td>0.338401</td>\n",
       "      <td>-0.456363</td>\n",
       "    </tr>\n",
       "    <tr>\n",
       "      <th>2018-11-02</th>\n",
       "      <td>0.561564</td>\n",
       "      <td>-0.746231</td>\n",
       "      <td>-0.202332</td>\n",
       "      <td>-0.563104</td>\n",
       "    </tr>\n",
       "    <tr>\n",
       "      <th>2018-11-03</th>\n",
       "      <td>0.038716</td>\n",
       "      <td>1.018482</td>\n",
       "      <td>-0.083829</td>\n",
       "      <td>-0.193916</td>\n",
       "    </tr>\n",
       "    <tr>\n",
       "      <th>2018-11-04</th>\n",
       "      <td>-1.920659</td>\n",
       "      <td>0.227513</td>\n",
       "      <td>-1.238505</td>\n",
       "      <td>-0.356947</td>\n",
       "    </tr>\n",
       "  </tbody>\n",
       "</table>\n",
       "</div>"
      ],
      "text/plain": [
       "                   A         B         C         D\n",
       "2018-11-01  1.048139 -1.458569  0.338401 -0.456363\n",
       "2018-11-02  0.561564 -0.746231 -0.202332 -0.563104\n",
       "2018-11-03  0.038716  1.018482 -0.083829 -0.193916\n",
       "2018-11-04 -1.920659  0.227513 -1.238505 -0.356947"
      ]
     },
     "execution_count": 23,
     "metadata": {},
     "output_type": "execute_result"
    }
   ],
   "source": [
    "# 同时对于时间索引而言，可以直接使用比如\n",
    "df['2018-11-01':'2018-11-04']"
   ]
  },
  {
   "cell_type": "markdown",
   "metadata": {},
   "source": [
    "#### 另外可以使用标签来选择"
   ]
  },
  {
   "cell_type": "code",
   "execution_count": 25,
   "metadata": {
    "collapsed": false
   },
   "outputs": [
    {
     "data": {
      "text/plain": [
       "A    1.048139\n",
       "B   -1.458569\n",
       "C    0.338401\n",
       "D   -0.456363\n",
       "Name: 2018-11-01 00:00:00, dtype: float64"
      ]
     },
     "execution_count": 25,
     "metadata": {},
     "output_type": "execute_result"
    }
   ],
   "source": [
    "\n",
    "df.loc['2018-11-01']"
   ]
  },
  {
   "cell_type": "code",
   "execution_count": 26,
   "metadata": {
    "collapsed": false
   },
   "outputs": [
    {
     "data": {
      "text/html": [
       "<div>\n",
       "<style>\n",
       "    .dataframe thead tr:only-child th {\n",
       "        text-align: right;\n",
       "    }\n",
       "\n",
       "    .dataframe thead th {\n",
       "        text-align: left;\n",
       "    }\n",
       "\n",
       "    .dataframe tbody tr th {\n",
       "        vertical-align: top;\n",
       "    }\n",
       "</style>\n",
       "<table border=\"1\" class=\"dataframe\">\n",
       "  <thead>\n",
       "    <tr style=\"text-align: right;\">\n",
       "      <th></th>\n",
       "      <th>A</th>\n",
       "      <th>B</th>\n",
       "    </tr>\n",
       "  </thead>\n",
       "  <tbody>\n",
       "    <tr>\n",
       "      <th>2018-11-01</th>\n",
       "      <td>1.048139</td>\n",
       "      <td>-1.458569</td>\n",
       "    </tr>\n",
       "    <tr>\n",
       "      <th>2018-11-02</th>\n",
       "      <td>0.561564</td>\n",
       "      <td>-0.746231</td>\n",
       "    </tr>\n",
       "    <tr>\n",
       "      <th>2018-11-03</th>\n",
       "      <td>0.038716</td>\n",
       "      <td>1.018482</td>\n",
       "    </tr>\n",
       "    <tr>\n",
       "      <th>2018-11-04</th>\n",
       "      <td>-1.920659</td>\n",
       "      <td>0.227513</td>\n",
       "    </tr>\n",
       "    <tr>\n",
       "      <th>2018-11-05</th>\n",
       "      <td>-0.482242</td>\n",
       "      <td>1.297202</td>\n",
       "    </tr>\n",
       "    <tr>\n",
       "      <th>2018-11-06</th>\n",
       "      <td>-1.857481</td>\n",
       "      <td>-0.769062</td>\n",
       "    </tr>\n",
       "    <tr>\n",
       "      <th>2018-11-07</th>\n",
       "      <td>-0.469397</td>\n",
       "      <td>0.002246</td>\n",
       "    </tr>\n",
       "  </tbody>\n",
       "</table>\n",
       "</div>"
      ],
      "text/plain": [
       "                   A         B\n",
       "2018-11-01  1.048139 -1.458569\n",
       "2018-11-02  0.561564 -0.746231\n",
       "2018-11-03  0.038716  1.018482\n",
       "2018-11-04 -1.920659  0.227513\n",
       "2018-11-05 -0.482242  1.297202\n",
       "2018-11-06 -1.857481 -0.769062\n",
       "2018-11-07 -0.469397  0.002246"
      ]
     },
     "execution_count": 26,
     "metadata": {},
     "output_type": "execute_result"
    }
   ],
   "source": [
    "#### 通过标签来进行多个轴上的进行选择\n",
    "df.loc[:,[\"A\",\"B\"]] # 等价于df[[\"A\",\"B\"]]"
   ]
  },
  {
   "cell_type": "code",
   "execution_count": 28,
   "metadata": {
    "collapsed": false
   },
   "outputs": [
    {
     "data": {
      "text/html": [
       "<div>\n",
       "<style>\n",
       "    .dataframe thead tr:only-child th {\n",
       "        text-align: right;\n",
       "    }\n",
       "\n",
       "    .dataframe thead th {\n",
       "        text-align: left;\n",
       "    }\n",
       "\n",
       "    .dataframe tbody tr th {\n",
       "        vertical-align: top;\n",
       "    }\n",
       "</style>\n",
       "<table border=\"1\" class=\"dataframe\">\n",
       "  <thead>\n",
       "    <tr style=\"text-align: right;\">\n",
       "      <th></th>\n",
       "      <th>A</th>\n",
       "      <th>B</th>\n",
       "    </tr>\n",
       "  </thead>\n",
       "  <tbody>\n",
       "    <tr>\n",
       "      <th>2018-11-01</th>\n",
       "      <td>1.048139</td>\n",
       "      <td>-1.458569</td>\n",
       "    </tr>\n",
       "    <tr>\n",
       "      <th>2018-11-02</th>\n",
       "      <td>0.561564</td>\n",
       "      <td>-0.746231</td>\n",
       "    </tr>\n",
       "    <tr>\n",
       "      <th>2018-11-03</th>\n",
       "      <td>0.038716</td>\n",
       "      <td>1.018482</td>\n",
       "    </tr>\n",
       "  </tbody>\n",
       "</table>\n",
       "</div>"
      ],
      "text/plain": [
       "                   A         B\n",
       "2018-11-01  1.048139 -1.458569\n",
       "2018-11-02  0.561564 -0.746231\n",
       "2018-11-03  0.038716  1.018482"
      ]
     },
     "execution_count": 28,
     "metadata": {},
     "output_type": "execute_result"
    }
   ],
   "source": [
    "df.loc[\"2018-11-01\":\"2018-11-03\",[\"A\",\"B\"]]"
   ]
  },
  {
   "cell_type": "code",
   "execution_count": 29,
   "metadata": {
    "collapsed": false
   },
   "outputs": [
    {
     "data": {
      "text/plain": [
       "1.0481392655596899"
      ]
     },
     "execution_count": 29,
     "metadata": {},
     "output_type": "execute_result"
    }
   ],
   "source": [
    "#### 获得一个标量数据\n",
    "df.loc['2018-11-01','A']"
   ]
  },
  {
   "cell_type": "markdown",
   "metadata": {},
   "source": [
    "#### 通过位置获取数据"
   ]
  },
  {
   "cell_type": "code",
   "execution_count": 30,
   "metadata": {
    "collapsed": false
   },
   "outputs": [
    {
     "data": {
      "text/plain": [
       "A   -1.920659\n",
       "B    0.227513\n",
       "C   -1.238505\n",
       "D   -0.356947\n",
       "Name: 2018-11-04 00:00:00, dtype: float64"
      ]
     },
     "execution_count": 30,
     "metadata": {},
     "output_type": "execute_result"
    }
   ],
   "source": [
    "df.iloc[3]  # 获得第四行的数据"
   ]
  },
  {
   "cell_type": "code",
   "execution_count": 35,
   "metadata": {
    "collapsed": false
   },
   "outputs": [
    {
     "data": {
      "text/html": [
       "<div>\n",
       "<style>\n",
       "    .dataframe thead tr:only-child th {\n",
       "        text-align: right;\n",
       "    }\n",
       "\n",
       "    .dataframe thead th {\n",
       "        text-align: left;\n",
       "    }\n",
       "\n",
       "    .dataframe tbody tr th {\n",
       "        vertical-align: top;\n",
       "    }\n",
       "</style>\n",
       "<table border=\"1\" class=\"dataframe\">\n",
       "  <thead>\n",
       "    <tr style=\"text-align: right;\">\n",
       "      <th></th>\n",
       "      <th>B</th>\n",
       "      <th>C</th>\n",
       "      <th>D</th>\n",
       "    </tr>\n",
       "  </thead>\n",
       "  <tbody>\n",
       "    <tr>\n",
       "      <th>2018-11-02</th>\n",
       "      <td>-0.746231</td>\n",
       "      <td>-0.202332</td>\n",
       "      <td>-0.563104</td>\n",
       "    </tr>\n",
       "    <tr>\n",
       "      <th>2018-11-03</th>\n",
       "      <td>1.018482</td>\n",
       "      <td>-0.083829</td>\n",
       "      <td>-0.193916</td>\n",
       "    </tr>\n",
       "  </tbody>\n",
       "</table>\n",
       "</div>"
      ],
      "text/plain": [
       "                   B         C         D\n",
       "2018-11-02 -0.746231 -0.202332 -0.563104\n",
       "2018-11-03  1.018482 -0.083829 -0.193916"
      ]
     },
     "execution_count": 35,
     "metadata": {},
     "output_type": "execute_result"
    }
   ],
   "source": [
    "df.iloc[1:3,1:4]  #  与numpy中的ndarray类似"
   ]
  },
  {
   "cell_type": "code",
   "execution_count": 36,
   "metadata": {
    "collapsed": false
   },
   "outputs": [
    {
     "data": {
      "text/html": [
       "<div>\n",
       "<style>\n",
       "    .dataframe thead tr:only-child th {\n",
       "        text-align: right;\n",
       "    }\n",
       "\n",
       "    .dataframe thead th {\n",
       "        text-align: left;\n",
       "    }\n",
       "\n",
       "    .dataframe tbody tr th {\n",
       "        vertical-align: top;\n",
       "    }\n",
       "</style>\n",
       "<table border=\"1\" class=\"dataframe\">\n",
       "  <thead>\n",
       "    <tr style=\"text-align: right;\">\n",
       "      <th></th>\n",
       "      <th>B</th>\n",
       "      <th>D</th>\n",
       "    </tr>\n",
       "  </thead>\n",
       "  <tbody>\n",
       "    <tr>\n",
       "      <th>2018-11-02</th>\n",
       "      <td>-0.746231</td>\n",
       "      <td>-0.563104</td>\n",
       "    </tr>\n",
       "    <tr>\n",
       "      <th>2018-11-04</th>\n",
       "      <td>0.227513</td>\n",
       "      <td>-0.356947</td>\n",
       "    </tr>\n",
       "  </tbody>\n",
       "</table>\n",
       "</div>"
      ],
      "text/plain": [
       "                   B         D\n",
       "2018-11-02 -0.746231 -0.563104\n",
       "2018-11-04  0.227513 -0.356947"
      ]
     },
     "execution_count": 36,
     "metadata": {},
     "output_type": "execute_result"
    }
   ],
   "source": [
    "# 可以选取不连续的行或者列进行取值\n",
    "df.iloc[[1,3],[1,3]]"
   ]
  },
  {
   "cell_type": "code",
   "execution_count": 38,
   "metadata": {
    "collapsed": false
   },
   "outputs": [
    {
     "data": {
      "text/html": [
       "<div>\n",
       "<style>\n",
       "    .dataframe thead tr:only-child th {\n",
       "        text-align: right;\n",
       "    }\n",
       "\n",
       "    .dataframe thead th {\n",
       "        text-align: left;\n",
       "    }\n",
       "\n",
       "    .dataframe tbody tr th {\n",
       "        vertical-align: top;\n",
       "    }\n",
       "</style>\n",
       "<table border=\"1\" class=\"dataframe\">\n",
       "  <thead>\n",
       "    <tr style=\"text-align: right;\">\n",
       "      <th></th>\n",
       "      <th>A</th>\n",
       "      <th>B</th>\n",
       "      <th>C</th>\n",
       "      <th>D</th>\n",
       "    </tr>\n",
       "  </thead>\n",
       "  <tbody>\n",
       "    <tr>\n",
       "      <th>2018-11-02</th>\n",
       "      <td>0.561564</td>\n",
       "      <td>-0.746231</td>\n",
       "      <td>-0.202332</td>\n",
       "      <td>-0.563104</td>\n",
       "    </tr>\n",
       "    <tr>\n",
       "      <th>2018-11-03</th>\n",
       "      <td>0.038716</td>\n",
       "      <td>1.018482</td>\n",
       "      <td>-0.083829</td>\n",
       "      <td>-0.193916</td>\n",
       "    </tr>\n",
       "  </tbody>\n",
       "</table>\n",
       "</div>"
      ],
      "text/plain": [
       "                   A         B         C         D\n",
       "2018-11-02  0.561564 -0.746231 -0.202332 -0.563104\n",
       "2018-11-03  0.038716  1.018482 -0.083829 -0.193916"
      ]
     },
     "execution_count": 38,
     "metadata": {},
     "output_type": "execute_result"
    }
   ],
   "source": [
    "#  对行进行切片处理\n",
    "df.iloc[1:3,:]"
   ]
  },
  {
   "cell_type": "code",
   "execution_count": 39,
   "metadata": {
    "collapsed": false
   },
   "outputs": [
    {
     "data": {
      "text/html": [
       "<div>\n",
       "<style>\n",
       "    .dataframe thead tr:only-child th {\n",
       "        text-align: right;\n",
       "    }\n",
       "\n",
       "    .dataframe thead th {\n",
       "        text-align: left;\n",
       "    }\n",
       "\n",
       "    .dataframe tbody tr th {\n",
       "        vertical-align: top;\n",
       "    }\n",
       "</style>\n",
       "<table border=\"1\" class=\"dataframe\">\n",
       "  <thead>\n",
       "    <tr style=\"text-align: right;\">\n",
       "      <th></th>\n",
       "      <th>B</th>\n",
       "      <th>C</th>\n",
       "      <th>D</th>\n",
       "    </tr>\n",
       "  </thead>\n",
       "  <tbody>\n",
       "    <tr>\n",
       "      <th>2018-11-01</th>\n",
       "      <td>-1.458569</td>\n",
       "      <td>0.338401</td>\n",
       "      <td>-0.456363</td>\n",
       "    </tr>\n",
       "    <tr>\n",
       "      <th>2018-11-02</th>\n",
       "      <td>-0.746231</td>\n",
       "      <td>-0.202332</td>\n",
       "      <td>-0.563104</td>\n",
       "    </tr>\n",
       "    <tr>\n",
       "      <th>2018-11-03</th>\n",
       "      <td>1.018482</td>\n",
       "      <td>-0.083829</td>\n",
       "      <td>-0.193916</td>\n",
       "    </tr>\n",
       "    <tr>\n",
       "      <th>2018-11-04</th>\n",
       "      <td>0.227513</td>\n",
       "      <td>-1.238505</td>\n",
       "      <td>-0.356947</td>\n",
       "    </tr>\n",
       "    <tr>\n",
       "      <th>2018-11-05</th>\n",
       "      <td>1.297202</td>\n",
       "      <td>-0.309765</td>\n",
       "      <td>-0.864293</td>\n",
       "    </tr>\n",
       "    <tr>\n",
       "      <th>2018-11-06</th>\n",
       "      <td>-0.769062</td>\n",
       "      <td>1.194004</td>\n",
       "      <td>-0.042794</td>\n",
       "    </tr>\n",
       "    <tr>\n",
       "      <th>2018-11-07</th>\n",
       "      <td>0.002246</td>\n",
       "      <td>0.003750</td>\n",
       "      <td>1.602875</td>\n",
       "    </tr>\n",
       "  </tbody>\n",
       "</table>\n",
       "</div>"
      ],
      "text/plain": [
       "                   B         C         D\n",
       "2018-11-01 -1.458569  0.338401 -0.456363\n",
       "2018-11-02 -0.746231 -0.202332 -0.563104\n",
       "2018-11-03  1.018482 -0.083829 -0.193916\n",
       "2018-11-04  0.227513 -1.238505 -0.356947\n",
       "2018-11-05  1.297202 -0.309765 -0.864293\n",
       "2018-11-06 -0.769062  1.194004 -0.042794\n",
       "2018-11-07  0.002246  0.003750  1.602875"
      ]
     },
     "execution_count": 39,
     "metadata": {},
     "output_type": "execute_result"
    }
   ],
   "source": [
    "# 对列进行切片\n",
    "df.iloc[:,1:4]"
   ]
  },
  {
   "cell_type": "code",
   "execution_count": 40,
   "metadata": {
    "collapsed": false
   },
   "outputs": [
    {
     "data": {
      "text/plain": [
       "-0.56310424641870838"
      ]
     },
     "execution_count": 40,
     "metadata": {},
     "output_type": "execute_result"
    }
   ],
   "source": [
    "# 获取特定的值\n",
    "df.iloc[1,3]"
   ]
  },
  {
   "cell_type": "markdown",
   "metadata": {},
   "source": [
    "#### 布尔值索引"
   ]
  },
  {
   "cell_type": "code",
   "execution_count": 41,
   "metadata": {
    "collapsed": false
   },
   "outputs": [
    {
     "data": {
      "text/html": [
       "<div>\n",
       "<style>\n",
       "    .dataframe thead tr:only-child th {\n",
       "        text-align: right;\n",
       "    }\n",
       "\n",
       "    .dataframe thead th {\n",
       "        text-align: left;\n",
       "    }\n",
       "\n",
       "    .dataframe tbody tr th {\n",
       "        vertical-align: top;\n",
       "    }\n",
       "</style>\n",
       "<table border=\"1\" class=\"dataframe\">\n",
       "  <thead>\n",
       "    <tr style=\"text-align: right;\">\n",
       "      <th></th>\n",
       "      <th>A</th>\n",
       "      <th>B</th>\n",
       "      <th>C</th>\n",
       "      <th>D</th>\n",
       "    </tr>\n",
       "  </thead>\n",
       "  <tbody>\n",
       "    <tr>\n",
       "      <th>2018-11-01</th>\n",
       "      <td>1.048139</td>\n",
       "      <td>-1.458569</td>\n",
       "      <td>0.338401</td>\n",
       "      <td>-0.456363</td>\n",
       "    </tr>\n",
       "    <tr>\n",
       "      <th>2018-11-02</th>\n",
       "      <td>0.561564</td>\n",
       "      <td>-0.746231</td>\n",
       "      <td>-0.202332</td>\n",
       "      <td>-0.563104</td>\n",
       "    </tr>\n",
       "    <tr>\n",
       "      <th>2018-11-03</th>\n",
       "      <td>0.038716</td>\n",
       "      <td>1.018482</td>\n",
       "      <td>-0.083829</td>\n",
       "      <td>-0.193916</td>\n",
       "    </tr>\n",
       "  </tbody>\n",
       "</table>\n",
       "</div>"
      ],
      "text/plain": [
       "                   A         B         C         D\n",
       "2018-11-01  1.048139 -1.458569  0.338401 -0.456363\n",
       "2018-11-02  0.561564 -0.746231 -0.202332 -0.563104\n",
       "2018-11-03  0.038716  1.018482 -0.083829 -0.193916"
      ]
     },
     "execution_count": 41,
     "metadata": {},
     "output_type": "execute_result"
    }
   ],
   "source": [
    "# 使用单列的数据作为条件进行筛选\n",
    "df[df.A>0]"
   ]
  },
  {
   "cell_type": "code",
   "execution_count": 42,
   "metadata": {
    "collapsed": false
   },
   "outputs": [
    {
     "data": {
      "text/html": [
       "<div>\n",
       "<style>\n",
       "    .dataframe thead tr:only-child th {\n",
       "        text-align: right;\n",
       "    }\n",
       "\n",
       "    .dataframe thead th {\n",
       "        text-align: left;\n",
       "    }\n",
       "\n",
       "    .dataframe tbody tr th {\n",
       "        vertical-align: top;\n",
       "    }\n",
       "</style>\n",
       "<table border=\"1\" class=\"dataframe\">\n",
       "  <thead>\n",
       "    <tr style=\"text-align: right;\">\n",
       "      <th></th>\n",
       "      <th>A</th>\n",
       "      <th>B</th>\n",
       "      <th>C</th>\n",
       "      <th>D</th>\n",
       "    </tr>\n",
       "  </thead>\n",
       "  <tbody>\n",
       "    <tr>\n",
       "      <th>2018-11-01</th>\n",
       "      <td>1.048139</td>\n",
       "      <td>NaN</td>\n",
       "      <td>0.338401</td>\n",
       "      <td>NaN</td>\n",
       "    </tr>\n",
       "    <tr>\n",
       "      <th>2018-11-02</th>\n",
       "      <td>0.561564</td>\n",
       "      <td>NaN</td>\n",
       "      <td>NaN</td>\n",
       "      <td>NaN</td>\n",
       "    </tr>\n",
       "    <tr>\n",
       "      <th>2018-11-03</th>\n",
       "      <td>0.038716</td>\n",
       "      <td>1.018482</td>\n",
       "      <td>NaN</td>\n",
       "      <td>NaN</td>\n",
       "    </tr>\n",
       "    <tr>\n",
       "      <th>2018-11-04</th>\n",
       "      <td>NaN</td>\n",
       "      <td>0.227513</td>\n",
       "      <td>NaN</td>\n",
       "      <td>NaN</td>\n",
       "    </tr>\n",
       "    <tr>\n",
       "      <th>2018-11-05</th>\n",
       "      <td>NaN</td>\n",
       "      <td>1.297202</td>\n",
       "      <td>NaN</td>\n",
       "      <td>NaN</td>\n",
       "    </tr>\n",
       "    <tr>\n",
       "      <th>2018-11-06</th>\n",
       "      <td>NaN</td>\n",
       "      <td>NaN</td>\n",
       "      <td>1.194004</td>\n",
       "      <td>NaN</td>\n",
       "    </tr>\n",
       "    <tr>\n",
       "      <th>2018-11-07</th>\n",
       "      <td>NaN</td>\n",
       "      <td>0.002246</td>\n",
       "      <td>0.003750</td>\n",
       "      <td>1.602875</td>\n",
       "    </tr>\n",
       "  </tbody>\n",
       "</table>\n",
       "</div>"
      ],
      "text/plain": [
       "                   A         B         C         D\n",
       "2018-11-01  1.048139       NaN  0.338401       NaN\n",
       "2018-11-02  0.561564       NaN       NaN       NaN\n",
       "2018-11-03  0.038716  1.018482       NaN       NaN\n",
       "2018-11-04       NaN  0.227513       NaN       NaN\n",
       "2018-11-05       NaN  1.297202       NaN       NaN\n",
       "2018-11-06       NaN       NaN  1.194004       NaN\n",
       "2018-11-07       NaN  0.002246  0.003750  1.602875"
      ]
     },
     "execution_count": 42,
     "metadata": {},
     "output_type": "execute_result"
    }
   ],
   "source": [
    " #很少用到，很少使用这种大范围的条件进行筛选\n",
    "df[df>0] "
   ]
  },
  {
   "cell_type": "code",
   "execution_count": 46,
   "metadata": {
    "collapsed": false
   },
   "outputs": [
    {
     "data": {
      "text/html": [
       "<div>\n",
       "<style>\n",
       "    .dataframe thead tr:only-child th {\n",
       "        text-align: right;\n",
       "    }\n",
       "\n",
       "    .dataframe thead th {\n",
       "        text-align: left;\n",
       "    }\n",
       "\n",
       "    .dataframe tbody tr th {\n",
       "        vertical-align: top;\n",
       "    }\n",
       "</style>\n",
       "<table border=\"1\" class=\"dataframe\">\n",
       "  <thead>\n",
       "    <tr style=\"text-align: right;\">\n",
       "      <th></th>\n",
       "      <th>A</th>\n",
       "      <th>B</th>\n",
       "      <th>C</th>\n",
       "      <th>D</th>\n",
       "      <th>E</th>\n",
       "    </tr>\n",
       "  </thead>\n",
       "  <tbody>\n",
       "    <tr>\n",
       "      <th>0</th>\n",
       "      <td>1</td>\n",
       "      <td>20181101</td>\n",
       "      <td>3</td>\n",
       "      <td>test</td>\n",
       "      <td>1.5</td>\n",
       "    </tr>\n",
       "    <tr>\n",
       "      <th>1</th>\n",
       "      <td>1</td>\n",
       "      <td>20181101</td>\n",
       "      <td>3</td>\n",
       "      <td>train</td>\n",
       "      <td>1.5</td>\n",
       "    </tr>\n",
       "    <tr>\n",
       "      <th>2</th>\n",
       "      <td>1</td>\n",
       "      <td>20181101</td>\n",
       "      <td>3</td>\n",
       "      <td>test</td>\n",
       "      <td>1.5</td>\n",
       "    </tr>\n",
       "    <tr>\n",
       "      <th>3</th>\n",
       "      <td>1</td>\n",
       "      <td>20181101</td>\n",
       "      <td>3</td>\n",
       "      <td>train</td>\n",
       "      <td>1.5</td>\n",
       "    </tr>\n",
       "  </tbody>\n",
       "</table>\n",
       "</div>"
      ],
      "text/plain": [
       "   A         B  C      D    E\n",
       "0  1  20181101  3   test  1.5\n",
       "1  1  20181101  3  train  1.5\n",
       "2  1  20181101  3   test  1.5\n",
       "3  1  20181101  3  train  1.5"
      ]
     },
     "execution_count": 46,
     "metadata": {},
     "output_type": "execute_result"
    }
   ],
   "source": [
    "# 使用isin()方法过滤\n",
    "df2.head()"
   ]
  },
  {
   "cell_type": "code",
   "execution_count": 49,
   "metadata": {
    "collapsed": false
   },
   "outputs": [
    {
     "data": {
      "text/html": [
       "<div>\n",
       "<style>\n",
       "    .dataframe thead tr:only-child th {\n",
       "        text-align: right;\n",
       "    }\n",
       "\n",
       "    .dataframe thead th {\n",
       "        text-align: left;\n",
       "    }\n",
       "\n",
       "    .dataframe tbody tr th {\n",
       "        vertical-align: top;\n",
       "    }\n",
       "</style>\n",
       "<table border=\"1\" class=\"dataframe\">\n",
       "  <thead>\n",
       "    <tr style=\"text-align: right;\">\n",
       "      <th></th>\n",
       "      <th>A</th>\n",
       "      <th>B</th>\n",
       "      <th>C</th>\n",
       "      <th>D</th>\n",
       "      <th>E</th>\n",
       "    </tr>\n",
       "  </thead>\n",
       "  <tbody>\n",
       "    <tr>\n",
       "      <th>0</th>\n",
       "      <td>1</td>\n",
       "      <td>20181101</td>\n",
       "      <td>3</td>\n",
       "      <td>test</td>\n",
       "      <td>1.5</td>\n",
       "    </tr>\n",
       "    <tr>\n",
       "      <th>2</th>\n",
       "      <td>1</td>\n",
       "      <td>20181101</td>\n",
       "      <td>3</td>\n",
       "      <td>test</td>\n",
       "      <td>1.5</td>\n",
       "    </tr>\n",
       "  </tbody>\n",
       "</table>\n",
       "</div>"
      ],
      "text/plain": [
       "   A         B  C     D    E\n",
       "0  1  20181101  3  test  1.5\n",
       "2  1  20181101  3  test  1.5"
      ]
     },
     "execution_count": 49,
     "metadata": {},
     "output_type": "execute_result"
    }
   ],
   "source": [
    "df2[df2['D'].isin(['test'])]"
   ]
  },
  {
   "cell_type": "markdown",
   "metadata": {},
   "source": [
    "#### 设定数值（类似于sql update 或者add）"
   ]
  },
  {
   "cell_type": "markdown",
   "metadata": {},
   "source": [
    "- 设定一个新的列"
   ]
  },
  {
   "cell_type": "code",
   "execution_count": 57,
   "metadata": {
    "collapsed": false
   },
   "outputs": [],
   "source": [
    "df['E'] = [1,2,3,4,5,6,7]"
   ]
  },
  {
   "cell_type": "code",
   "execution_count": 58,
   "metadata": {
    "collapsed": false
   },
   "outputs": [
    {
     "data": {
      "text/html": [
       "<div>\n",
       "<style>\n",
       "    .dataframe thead tr:only-child th {\n",
       "        text-align: right;\n",
       "    }\n",
       "\n",
       "    .dataframe thead th {\n",
       "        text-align: left;\n",
       "    }\n",
       "\n",
       "    .dataframe tbody tr th {\n",
       "        vertical-align: top;\n",
       "    }\n",
       "</style>\n",
       "<table border=\"1\" class=\"dataframe\">\n",
       "  <thead>\n",
       "    <tr style=\"text-align: right;\">\n",
       "      <th></th>\n",
       "      <th>A</th>\n",
       "      <th>B</th>\n",
       "      <th>C</th>\n",
       "      <th>D</th>\n",
       "      <th>E</th>\n",
       "    </tr>\n",
       "  </thead>\n",
       "  <tbody>\n",
       "    <tr>\n",
       "      <th>2018-11-01</th>\n",
       "      <td>1.048139</td>\n",
       "      <td>-1.458569</td>\n",
       "      <td>0.338401</td>\n",
       "      <td>-0.456363</td>\n",
       "      <td>1</td>\n",
       "    </tr>\n",
       "    <tr>\n",
       "      <th>2018-11-02</th>\n",
       "      <td>0.561564</td>\n",
       "      <td>-0.746231</td>\n",
       "      <td>-0.202332</td>\n",
       "      <td>-0.563104</td>\n",
       "      <td>2</td>\n",
       "    </tr>\n",
       "    <tr>\n",
       "      <th>2018-11-03</th>\n",
       "      <td>0.038716</td>\n",
       "      <td>1.018482</td>\n",
       "      <td>-0.083829</td>\n",
       "      <td>-0.193916</td>\n",
       "      <td>3</td>\n",
       "    </tr>\n",
       "    <tr>\n",
       "      <th>2018-11-04</th>\n",
       "      <td>-1.920659</td>\n",
       "      <td>0.227513</td>\n",
       "      <td>-1.238505</td>\n",
       "      <td>-0.356947</td>\n",
       "      <td>4</td>\n",
       "    </tr>\n",
       "    <tr>\n",
       "      <th>2018-11-05</th>\n",
       "      <td>-0.482242</td>\n",
       "      <td>1.297202</td>\n",
       "      <td>-0.309765</td>\n",
       "      <td>-0.864293</td>\n",
       "      <td>5</td>\n",
       "    </tr>\n",
       "    <tr>\n",
       "      <th>2018-11-06</th>\n",
       "      <td>-1.857481</td>\n",
       "      <td>-0.769062</td>\n",
       "      <td>1.194004</td>\n",
       "      <td>-0.042794</td>\n",
       "      <td>6</td>\n",
       "    </tr>\n",
       "    <tr>\n",
       "      <th>2018-11-07</th>\n",
       "      <td>-0.469397</td>\n",
       "      <td>0.002246</td>\n",
       "      <td>0.003750</td>\n",
       "      <td>1.602875</td>\n",
       "      <td>7</td>\n",
       "    </tr>\n",
       "  </tbody>\n",
       "</table>\n",
       "</div>"
      ],
      "text/plain": [
       "                   A         B         C         D  E\n",
       "2018-11-01  1.048139 -1.458569  0.338401 -0.456363  1\n",
       "2018-11-02  0.561564 -0.746231 -0.202332 -0.563104  2\n",
       "2018-11-03  0.038716  1.018482 -0.083829 -0.193916  3\n",
       "2018-11-04 -1.920659  0.227513 -1.238505 -0.356947  4\n",
       "2018-11-05 -0.482242  1.297202 -0.309765 -0.864293  5\n",
       "2018-11-06 -1.857481 -0.769062  1.194004 -0.042794  6\n",
       "2018-11-07 -0.469397  0.002246  0.003750  1.602875  7"
      ]
     },
     "execution_count": 58,
     "metadata": {},
     "output_type": "execute_result"
    }
   ],
   "source": [
    "df"
   ]
  },
  {
   "cell_type": "markdown",
   "metadata": {},
   "source": [
    "- 通过标签设定新的值"
   ]
  },
  {
   "cell_type": "code",
   "execution_count": 59,
   "metadata": {
    "collapsed": true
   },
   "outputs": [],
   "source": [
    "df.loc['2018-11-01','E']= 10  # 第一行，E列的数据修改为10"
   ]
  },
  {
   "cell_type": "code",
   "execution_count": 60,
   "metadata": {
    "collapsed": false
   },
   "outputs": [
    {
     "data": {
      "text/html": [
       "<div>\n",
       "<style>\n",
       "    .dataframe thead tr:only-child th {\n",
       "        text-align: right;\n",
       "    }\n",
       "\n",
       "    .dataframe thead th {\n",
       "        text-align: left;\n",
       "    }\n",
       "\n",
       "    .dataframe tbody tr th {\n",
       "        vertical-align: top;\n",
       "    }\n",
       "</style>\n",
       "<table border=\"1\" class=\"dataframe\">\n",
       "  <thead>\n",
       "    <tr style=\"text-align: right;\">\n",
       "      <th></th>\n",
       "      <th>A</th>\n",
       "      <th>B</th>\n",
       "      <th>C</th>\n",
       "      <th>D</th>\n",
       "      <th>E</th>\n",
       "    </tr>\n",
       "  </thead>\n",
       "  <tbody>\n",
       "    <tr>\n",
       "      <th>2018-11-01</th>\n",
       "      <td>1.048139</td>\n",
       "      <td>-1.458569</td>\n",
       "      <td>0.338401</td>\n",
       "      <td>-0.456363</td>\n",
       "      <td>10</td>\n",
       "    </tr>\n",
       "    <tr>\n",
       "      <th>2018-11-02</th>\n",
       "      <td>0.561564</td>\n",
       "      <td>-0.746231</td>\n",
       "      <td>-0.202332</td>\n",
       "      <td>-0.563104</td>\n",
       "      <td>2</td>\n",
       "    </tr>\n",
       "    <tr>\n",
       "      <th>2018-11-03</th>\n",
       "      <td>0.038716</td>\n",
       "      <td>1.018482</td>\n",
       "      <td>-0.083829</td>\n",
       "      <td>-0.193916</td>\n",
       "      <td>3</td>\n",
       "    </tr>\n",
       "    <tr>\n",
       "      <th>2018-11-04</th>\n",
       "      <td>-1.920659</td>\n",
       "      <td>0.227513</td>\n",
       "      <td>-1.238505</td>\n",
       "      <td>-0.356947</td>\n",
       "      <td>4</td>\n",
       "    </tr>\n",
       "    <tr>\n",
       "      <th>2018-11-05</th>\n",
       "      <td>-0.482242</td>\n",
       "      <td>1.297202</td>\n",
       "      <td>-0.309765</td>\n",
       "      <td>-0.864293</td>\n",
       "      <td>5</td>\n",
       "    </tr>\n",
       "    <tr>\n",
       "      <th>2018-11-06</th>\n",
       "      <td>-1.857481</td>\n",
       "      <td>-0.769062</td>\n",
       "      <td>1.194004</td>\n",
       "      <td>-0.042794</td>\n",
       "      <td>6</td>\n",
       "    </tr>\n",
       "    <tr>\n",
       "      <th>2018-11-07</th>\n",
       "      <td>-0.469397</td>\n",
       "      <td>0.002246</td>\n",
       "      <td>0.003750</td>\n",
       "      <td>1.602875</td>\n",
       "      <td>7</td>\n",
       "    </tr>\n",
       "  </tbody>\n",
       "</table>\n",
       "</div>"
      ],
      "text/plain": [
       "                   A         B         C         D   E\n",
       "2018-11-01  1.048139 -1.458569  0.338401 -0.456363  10\n",
       "2018-11-02  0.561564 -0.746231 -0.202332 -0.563104   2\n",
       "2018-11-03  0.038716  1.018482 -0.083829 -0.193916   3\n",
       "2018-11-04 -1.920659  0.227513 -1.238505 -0.356947   4\n",
       "2018-11-05 -0.482242  1.297202 -0.309765 -0.864293   5\n",
       "2018-11-06 -1.857481 -0.769062  1.194004 -0.042794   6\n",
       "2018-11-07 -0.469397  0.002246  0.003750  1.602875   7"
      ]
     },
     "execution_count": 60,
     "metadata": {},
     "output_type": "execute_result"
    }
   ],
   "source": [
    "df"
   ]
  },
  {
   "cell_type": "code",
   "execution_count": 61,
   "metadata": {
    "collapsed": true
   },
   "outputs": [],
   "source": [
    "df.iloc[1,4]=5000  # 第二行第五列数据修改为5000"
   ]
  },
  {
   "cell_type": "code",
   "execution_count": 62,
   "metadata": {
    "collapsed": false
   },
   "outputs": [
    {
     "data": {
      "text/html": [
       "<div>\n",
       "<style>\n",
       "    .dataframe thead tr:only-child th {\n",
       "        text-align: right;\n",
       "    }\n",
       "\n",
       "    .dataframe thead th {\n",
       "        text-align: left;\n",
       "    }\n",
       "\n",
       "    .dataframe tbody tr th {\n",
       "        vertical-align: top;\n",
       "    }\n",
       "</style>\n",
       "<table border=\"1\" class=\"dataframe\">\n",
       "  <thead>\n",
       "    <tr style=\"text-align: right;\">\n",
       "      <th></th>\n",
       "      <th>A</th>\n",
       "      <th>B</th>\n",
       "      <th>C</th>\n",
       "      <th>D</th>\n",
       "      <th>E</th>\n",
       "    </tr>\n",
       "  </thead>\n",
       "  <tbody>\n",
       "    <tr>\n",
       "      <th>2018-11-01</th>\n",
       "      <td>1.048139</td>\n",
       "      <td>-1.458569</td>\n",
       "      <td>0.338401</td>\n",
       "      <td>-0.456363</td>\n",
       "      <td>10</td>\n",
       "    </tr>\n",
       "    <tr>\n",
       "      <th>2018-11-02</th>\n",
       "      <td>0.561564</td>\n",
       "      <td>-0.746231</td>\n",
       "      <td>-0.202332</td>\n",
       "      <td>-0.563104</td>\n",
       "      <td>5000</td>\n",
       "    </tr>\n",
       "    <tr>\n",
       "      <th>2018-11-03</th>\n",
       "      <td>0.038716</td>\n",
       "      <td>1.018482</td>\n",
       "      <td>-0.083829</td>\n",
       "      <td>-0.193916</td>\n",
       "      <td>3</td>\n",
       "    </tr>\n",
       "    <tr>\n",
       "      <th>2018-11-04</th>\n",
       "      <td>-1.920659</td>\n",
       "      <td>0.227513</td>\n",
       "      <td>-1.238505</td>\n",
       "      <td>-0.356947</td>\n",
       "      <td>4</td>\n",
       "    </tr>\n",
       "    <tr>\n",
       "      <th>2018-11-05</th>\n",
       "      <td>-0.482242</td>\n",
       "      <td>1.297202</td>\n",
       "      <td>-0.309765</td>\n",
       "      <td>-0.864293</td>\n",
       "      <td>5</td>\n",
       "    </tr>\n",
       "    <tr>\n",
       "      <th>2018-11-06</th>\n",
       "      <td>-1.857481</td>\n",
       "      <td>-0.769062</td>\n",
       "      <td>1.194004</td>\n",
       "      <td>-0.042794</td>\n",
       "      <td>6</td>\n",
       "    </tr>\n",
       "    <tr>\n",
       "      <th>2018-11-07</th>\n",
       "      <td>-0.469397</td>\n",
       "      <td>0.002246</td>\n",
       "      <td>0.003750</td>\n",
       "      <td>1.602875</td>\n",
       "      <td>7</td>\n",
       "    </tr>\n",
       "  </tbody>\n",
       "</table>\n",
       "</div>"
      ],
      "text/plain": [
       "                   A         B         C         D     E\n",
       "2018-11-01  1.048139 -1.458569  0.338401 -0.456363    10\n",
       "2018-11-02  0.561564 -0.746231 -0.202332 -0.563104  5000\n",
       "2018-11-03  0.038716  1.018482 -0.083829 -0.193916     3\n",
       "2018-11-04 -1.920659  0.227513 -1.238505 -0.356947     4\n",
       "2018-11-05 -0.482242  1.297202 -0.309765 -0.864293     5\n",
       "2018-11-06 -1.857481 -0.769062  1.194004 -0.042794     6\n",
       "2018-11-07 -0.469397  0.002246  0.003750  1.602875     7"
      ]
     },
     "execution_count": 62,
     "metadata": {},
     "output_type": "execute_result"
    }
   ],
   "source": [
    "df"
   ]
  },
  {
   "cell_type": "code",
   "execution_count": 63,
   "metadata": {
    "collapsed": false
   },
   "outputs": [
    {
     "data": {
      "text/html": [
       "<div>\n",
       "<style>\n",
       "    .dataframe thead tr:only-child th {\n",
       "        text-align: right;\n",
       "    }\n",
       "\n",
       "    .dataframe thead th {\n",
       "        text-align: left;\n",
       "    }\n",
       "\n",
       "    .dataframe tbody tr th {\n",
       "        vertical-align: top;\n",
       "    }\n",
       "</style>\n",
       "<table border=\"1\" class=\"dataframe\">\n",
       "  <thead>\n",
       "    <tr style=\"text-align: right;\">\n",
       "      <th></th>\n",
       "      <th>A</th>\n",
       "      <th>B</th>\n",
       "      <th>C</th>\n",
       "      <th>D</th>\n",
       "      <th>E</th>\n",
       "    </tr>\n",
       "  </thead>\n",
       "  <tbody>\n",
       "    <tr>\n",
       "      <th>2018-11-01</th>\n",
       "      <td>1.048139</td>\n",
       "      <td>1.458569</td>\n",
       "      <td>0.338401</td>\n",
       "      <td>0.456363</td>\n",
       "      <td>10</td>\n",
       "    </tr>\n",
       "    <tr>\n",
       "      <th>2018-11-02</th>\n",
       "      <td>0.561564</td>\n",
       "      <td>0.746231</td>\n",
       "      <td>0.202332</td>\n",
       "      <td>0.563104</td>\n",
       "      <td>5000</td>\n",
       "    </tr>\n",
       "    <tr>\n",
       "      <th>2018-11-03</th>\n",
       "      <td>0.038716</td>\n",
       "      <td>1.018482</td>\n",
       "      <td>0.083829</td>\n",
       "      <td>0.193916</td>\n",
       "      <td>3</td>\n",
       "    </tr>\n",
       "    <tr>\n",
       "      <th>2018-11-04</th>\n",
       "      <td>1.920659</td>\n",
       "      <td>0.227513</td>\n",
       "      <td>1.238505</td>\n",
       "      <td>0.356947</td>\n",
       "      <td>4</td>\n",
       "    </tr>\n",
       "    <tr>\n",
       "      <th>2018-11-05</th>\n",
       "      <td>0.482242</td>\n",
       "      <td>1.297202</td>\n",
       "      <td>0.309765</td>\n",
       "      <td>0.864293</td>\n",
       "      <td>5</td>\n",
       "    </tr>\n",
       "    <tr>\n",
       "      <th>2018-11-06</th>\n",
       "      <td>1.857481</td>\n",
       "      <td>0.769062</td>\n",
       "      <td>1.194004</td>\n",
       "      <td>0.042794</td>\n",
       "      <td>6</td>\n",
       "    </tr>\n",
       "    <tr>\n",
       "      <th>2018-11-07</th>\n",
       "      <td>0.469397</td>\n",
       "      <td>0.002246</td>\n",
       "      <td>0.003750</td>\n",
       "      <td>1.602875</td>\n",
       "      <td>7</td>\n",
       "    </tr>\n",
       "  </tbody>\n",
       "</table>\n",
       "</div>"
      ],
      "text/plain": [
       "                   A         B         C         D     E\n",
       "2018-11-01  1.048139  1.458569  0.338401  0.456363    10\n",
       "2018-11-02  0.561564  0.746231  0.202332  0.563104  5000\n",
       "2018-11-03  0.038716  1.018482  0.083829  0.193916     3\n",
       "2018-11-04  1.920659  0.227513  1.238505  0.356947     4\n",
       "2018-11-05  0.482242  1.297202  0.309765  0.864293     5\n",
       "2018-11-06  1.857481  0.769062  1.194004  0.042794     6\n",
       "2018-11-07  0.469397  0.002246  0.003750  1.602875     7"
      ]
     },
     "execution_count": 63,
     "metadata": {},
     "output_type": "execute_result"
    }
   ],
   "source": [
    "df3 =df.copy()\n",
    "df3[df3<0]= -df3\n",
    "df3  # 都变成非负数"
   ]
  },
  {
   "cell_type": "markdown",
   "metadata": {
    "slideshow": {
     "slide_type": "slide"
    }
   },
   "source": [
    "#### 四. 缺失值处理"
   ]
  },
  {
   "cell_type": "code",
   "execution_count": 64,
   "metadata": {
    "collapsed": false
   },
   "outputs": [
    {
     "data": {
      "text/html": [
       "<div>\n",
       "<style>\n",
       "    .dataframe thead tr:only-child th {\n",
       "        text-align: right;\n",
       "    }\n",
       "\n",
       "    .dataframe thead th {\n",
       "        text-align: left;\n",
       "    }\n",
       "\n",
       "    .dataframe tbody tr th {\n",
       "        vertical-align: top;\n",
       "    }\n",
       "</style>\n",
       "<table border=\"1\" class=\"dataframe\">\n",
       "  <thead>\n",
       "    <tr style=\"text-align: right;\">\n",
       "      <th></th>\n",
       "      <th>A</th>\n",
       "      <th>B</th>\n",
       "      <th>C</th>\n",
       "      <th>D</th>\n",
       "      <th>E</th>\n",
       "    </tr>\n",
       "  </thead>\n",
       "  <tbody>\n",
       "    <tr>\n",
       "      <th>2018-11-01</th>\n",
       "      <td>1.048139</td>\n",
       "      <td>-1.458569</td>\n",
       "      <td>0.338401</td>\n",
       "      <td>-0.456363</td>\n",
       "      <td>10</td>\n",
       "    </tr>\n",
       "    <tr>\n",
       "      <th>2018-11-02</th>\n",
       "      <td>0.561564</td>\n",
       "      <td>-0.746231</td>\n",
       "      <td>-0.202332</td>\n",
       "      <td>-0.563104</td>\n",
       "      <td>5000</td>\n",
       "    </tr>\n",
       "    <tr>\n",
       "      <th>2018-11-03</th>\n",
       "      <td>0.038716</td>\n",
       "      <td>1.018482</td>\n",
       "      <td>-0.083829</td>\n",
       "      <td>-0.193916</td>\n",
       "      <td>3</td>\n",
       "    </tr>\n",
       "    <tr>\n",
       "      <th>2018-11-04</th>\n",
       "      <td>-1.920659</td>\n",
       "      <td>0.227513</td>\n",
       "      <td>-1.238505</td>\n",
       "      <td>-0.356947</td>\n",
       "      <td>4</td>\n",
       "    </tr>\n",
       "    <tr>\n",
       "      <th>2018-11-05</th>\n",
       "      <td>-0.482242</td>\n",
       "      <td>1.297202</td>\n",
       "      <td>-0.309765</td>\n",
       "      <td>-0.864293</td>\n",
       "      <td>5</td>\n",
       "    </tr>\n",
       "    <tr>\n",
       "      <th>2018-11-06</th>\n",
       "      <td>-1.857481</td>\n",
       "      <td>-0.769062</td>\n",
       "      <td>1.194004</td>\n",
       "      <td>-0.042794</td>\n",
       "      <td>6</td>\n",
       "    </tr>\n",
       "    <tr>\n",
       "      <th>2018-11-07</th>\n",
       "      <td>-0.469397</td>\n",
       "      <td>0.002246</td>\n",
       "      <td>0.003750</td>\n",
       "      <td>1.602875</td>\n",
       "      <td>7</td>\n",
       "    </tr>\n",
       "  </tbody>\n",
       "</table>\n",
       "</div>"
      ],
      "text/plain": [
       "                   A         B         C         D     E\n",
       "2018-11-01  1.048139 -1.458569  0.338401 -0.456363    10\n",
       "2018-11-02  0.561564 -0.746231 -0.202332 -0.563104  5000\n",
       "2018-11-03  0.038716  1.018482 -0.083829 -0.193916     3\n",
       "2018-11-04 -1.920659  0.227513 -1.238505 -0.356947     4\n",
       "2018-11-05 -0.482242  1.297202 -0.309765 -0.864293     5\n",
       "2018-11-06 -1.857481 -0.769062  1.194004 -0.042794     6\n",
       "2018-11-07 -0.469397  0.002246  0.003750  1.602875     7"
      ]
     },
     "execution_count": 64,
     "metadata": {},
     "output_type": "execute_result"
    }
   ],
   "source": [
    "df"
   ]
  },
  {
   "cell_type": "code",
   "execution_count": 80,
   "metadata": {
    "collapsed": false
   },
   "outputs": [],
   "source": [
    "df['E']=[1,np.nan,2,np.nan,4,np.nan,6]"
   ]
  },
  {
   "cell_type": "code",
   "execution_count": 82,
   "metadata": {
    "collapsed": false
   },
   "outputs": [],
   "source": [
    "df.loc['2018-11-01':'2018-11-03','D']=np.nan"
   ]
  },
  {
   "cell_type": "code",
   "execution_count": 84,
   "metadata": {
    "collapsed": false
   },
   "outputs": [
    {
     "data": {
      "text/html": [
       "<div>\n",
       "<style>\n",
       "    .dataframe thead tr:only-child th {\n",
       "        text-align: right;\n",
       "    }\n",
       "\n",
       "    .dataframe thead th {\n",
       "        text-align: left;\n",
       "    }\n",
       "\n",
       "    .dataframe tbody tr th {\n",
       "        vertical-align: top;\n",
       "    }\n",
       "</style>\n",
       "<table border=\"1\" class=\"dataframe\">\n",
       "  <thead>\n",
       "    <tr style=\"text-align: right;\">\n",
       "      <th></th>\n",
       "      <th>A</th>\n",
       "      <th>B</th>\n",
       "      <th>C</th>\n",
       "      <th>D</th>\n",
       "      <th>E</th>\n",
       "    </tr>\n",
       "  </thead>\n",
       "  <tbody>\n",
       "    <tr>\n",
       "      <th>2018-11-01</th>\n",
       "      <td>1.048139</td>\n",
       "      <td>-1.458569</td>\n",
       "      <td>0.338401</td>\n",
       "      <td>NaN</td>\n",
       "      <td>1.0</td>\n",
       "    </tr>\n",
       "    <tr>\n",
       "      <th>2018-11-02</th>\n",
       "      <td>0.561564</td>\n",
       "      <td>-0.746231</td>\n",
       "      <td>-0.202332</td>\n",
       "      <td>NaN</td>\n",
       "      <td>NaN</td>\n",
       "    </tr>\n",
       "    <tr>\n",
       "      <th>2018-11-03</th>\n",
       "      <td>0.038716</td>\n",
       "      <td>1.018482</td>\n",
       "      <td>-0.083829</td>\n",
       "      <td>NaN</td>\n",
       "      <td>2.0</td>\n",
       "    </tr>\n",
       "    <tr>\n",
       "      <th>2018-11-04</th>\n",
       "      <td>-1.920659</td>\n",
       "      <td>0.227513</td>\n",
       "      <td>-1.238505</td>\n",
       "      <td>4.0</td>\n",
       "      <td>NaN</td>\n",
       "    </tr>\n",
       "    <tr>\n",
       "      <th>2018-11-05</th>\n",
       "      <td>-0.482242</td>\n",
       "      <td>1.297202</td>\n",
       "      <td>-0.309765</td>\n",
       "      <td>5.0</td>\n",
       "      <td>4.0</td>\n",
       "    </tr>\n",
       "    <tr>\n",
       "      <th>2018-11-06</th>\n",
       "      <td>-1.857481</td>\n",
       "      <td>-0.769062</td>\n",
       "      <td>1.194004</td>\n",
       "      <td>6.0</td>\n",
       "      <td>NaN</td>\n",
       "    </tr>\n",
       "    <tr>\n",
       "      <th>2018-11-07</th>\n",
       "      <td>-0.469397</td>\n",
       "      <td>0.002246</td>\n",
       "      <td>0.003750</td>\n",
       "      <td>7.0</td>\n",
       "      <td>6.0</td>\n",
       "    </tr>\n",
       "  </tbody>\n",
       "</table>\n",
       "</div>"
      ],
      "text/plain": [
       "                   A         B         C    D    E\n",
       "2018-11-01  1.048139 -1.458569  0.338401  NaN  1.0\n",
       "2018-11-02  0.561564 -0.746231 -0.202332  NaN  NaN\n",
       "2018-11-03  0.038716  1.018482 -0.083829  NaN  2.0\n",
       "2018-11-04 -1.920659  0.227513 -1.238505  4.0  NaN\n",
       "2018-11-05 -0.482242  1.297202 -0.309765  5.0  4.0\n",
       "2018-11-06 -1.857481 -0.769062  1.194004  6.0  NaN\n",
       "2018-11-07 -0.469397  0.002246  0.003750  7.0  6.0"
      ]
     },
     "execution_count": 84,
     "metadata": {},
     "output_type": "execute_result"
    }
   ],
   "source": [
    "df"
   ]
  },
  {
   "cell_type": "markdown",
   "metadata": {},
   "source": [
    "- 去掉缺失值的行"
   ]
  },
  {
   "cell_type": "code",
   "execution_count": 85,
   "metadata": {
    "collapsed": true
   },
   "outputs": [],
   "source": [
    "df4 = df.copy()"
   ]
  },
  {
   "cell_type": "code",
   "execution_count": 86,
   "metadata": {
    "collapsed": false
   },
   "outputs": [
    {
     "data": {
      "text/html": [
       "<div>\n",
       "<style>\n",
       "    .dataframe thead tr:only-child th {\n",
       "        text-align: right;\n",
       "    }\n",
       "\n",
       "    .dataframe thead th {\n",
       "        text-align: left;\n",
       "    }\n",
       "\n",
       "    .dataframe tbody tr th {\n",
       "        vertical-align: top;\n",
       "    }\n",
       "</style>\n",
       "<table border=\"1\" class=\"dataframe\">\n",
       "  <thead>\n",
       "    <tr style=\"text-align: right;\">\n",
       "      <th></th>\n",
       "      <th>A</th>\n",
       "      <th>B</th>\n",
       "      <th>C</th>\n",
       "      <th>D</th>\n",
       "      <th>E</th>\n",
       "    </tr>\n",
       "  </thead>\n",
       "  <tbody>\n",
       "    <tr>\n",
       "      <th>2018-11-05</th>\n",
       "      <td>-0.482242</td>\n",
       "      <td>1.297202</td>\n",
       "      <td>-0.309765</td>\n",
       "      <td>5.0</td>\n",
       "      <td>4.0</td>\n",
       "    </tr>\n",
       "    <tr>\n",
       "      <th>2018-11-07</th>\n",
       "      <td>-0.469397</td>\n",
       "      <td>0.002246</td>\n",
       "      <td>0.003750</td>\n",
       "      <td>7.0</td>\n",
       "      <td>6.0</td>\n",
       "    </tr>\n",
       "  </tbody>\n",
       "</table>\n",
       "</div>"
      ],
      "text/plain": [
       "                   A         B         C    D    E\n",
       "2018-11-05 -0.482242  1.297202 -0.309765  5.0  4.0\n",
       "2018-11-07 -0.469397  0.002246  0.003750  7.0  6.0"
      ]
     },
     "execution_count": 86,
     "metadata": {},
     "output_type": "execute_result"
    }
   ],
   "source": [
    "df4.dropna(how='any')"
   ]
  },
  {
   "cell_type": "code",
   "execution_count": 89,
   "metadata": {
    "collapsed": false
   },
   "outputs": [
    {
     "data": {
      "text/html": [
       "<div>\n",
       "<style>\n",
       "    .dataframe thead tr:only-child th {\n",
       "        text-align: right;\n",
       "    }\n",
       "\n",
       "    .dataframe thead th {\n",
       "        text-align: left;\n",
       "    }\n",
       "\n",
       "    .dataframe tbody tr th {\n",
       "        vertical-align: top;\n",
       "    }\n",
       "</style>\n",
       "<table border=\"1\" class=\"dataframe\">\n",
       "  <thead>\n",
       "    <tr style=\"text-align: right;\">\n",
       "      <th></th>\n",
       "      <th>A</th>\n",
       "      <th>B</th>\n",
       "      <th>C</th>\n",
       "      <th>D</th>\n",
       "      <th>E</th>\n",
       "    </tr>\n",
       "  </thead>\n",
       "  <tbody>\n",
       "    <tr>\n",
       "      <th>2018-11-01</th>\n",
       "      <td>1.048139</td>\n",
       "      <td>-1.458569</td>\n",
       "      <td>0.338401</td>\n",
       "      <td>NaN</td>\n",
       "      <td>1.0</td>\n",
       "    </tr>\n",
       "    <tr>\n",
       "      <th>2018-11-02</th>\n",
       "      <td>0.561564</td>\n",
       "      <td>-0.746231</td>\n",
       "      <td>-0.202332</td>\n",
       "      <td>NaN</td>\n",
       "      <td>NaN</td>\n",
       "    </tr>\n",
       "    <tr>\n",
       "      <th>2018-11-03</th>\n",
       "      <td>0.038716</td>\n",
       "      <td>1.018482</td>\n",
       "      <td>-0.083829</td>\n",
       "      <td>NaN</td>\n",
       "      <td>2.0</td>\n",
       "    </tr>\n",
       "    <tr>\n",
       "      <th>2018-11-04</th>\n",
       "      <td>-1.920659</td>\n",
       "      <td>0.227513</td>\n",
       "      <td>-1.238505</td>\n",
       "      <td>4.0</td>\n",
       "      <td>NaN</td>\n",
       "    </tr>\n",
       "    <tr>\n",
       "      <th>2018-11-05</th>\n",
       "      <td>-0.482242</td>\n",
       "      <td>1.297202</td>\n",
       "      <td>-0.309765</td>\n",
       "      <td>5.0</td>\n",
       "      <td>4.0</td>\n",
       "    </tr>\n",
       "    <tr>\n",
       "      <th>2018-11-06</th>\n",
       "      <td>-1.857481</td>\n",
       "      <td>-0.769062</td>\n",
       "      <td>1.194004</td>\n",
       "      <td>6.0</td>\n",
       "      <td>NaN</td>\n",
       "    </tr>\n",
       "    <tr>\n",
       "      <th>2018-11-07</th>\n",
       "      <td>-0.469397</td>\n",
       "      <td>0.002246</td>\n",
       "      <td>0.003750</td>\n",
       "      <td>7.0</td>\n",
       "      <td>6.0</td>\n",
       "    </tr>\n",
       "  </tbody>\n",
       "</table>\n",
       "</div>"
      ],
      "text/plain": [
       "                   A         B         C    D    E\n",
       "2018-11-01  1.048139 -1.458569  0.338401  NaN  1.0\n",
       "2018-11-02  0.561564 -0.746231 -0.202332  NaN  NaN\n",
       "2018-11-03  0.038716  1.018482 -0.083829  NaN  2.0\n",
       "2018-11-04 -1.920659  0.227513 -1.238505  4.0  NaN\n",
       "2018-11-05 -0.482242  1.297202 -0.309765  5.0  4.0\n",
       "2018-11-06 -1.857481 -0.769062  1.194004  6.0  NaN\n",
       "2018-11-07 -0.469397  0.002246  0.003750  7.0  6.0"
      ]
     },
     "execution_count": 89,
     "metadata": {},
     "output_type": "execute_result"
    }
   ],
   "source": [
    "df4.dropna(how='all')\n",
    "# \"\"\"DataFrame.dropna(axis=0, how='any', thresh=None, subset=None, inplace=False)\"\"\" \n",
    "# aixs 轴0或者1 index或者columns\n",
    "# how 方式\n",
    "# thresh 超过阈值个数的缺失值\n",
    "# subset 那些字段的处理\n",
    "# inplace 是否直接在原数据框中的替换"
   ]
  },
  {
   "cell_type": "markdown",
   "metadata": {},
   "source": [
    "- 对缺失值就行填充"
   ]
  },
  {
   "cell_type": "code",
   "execution_count": 90,
   "metadata": {
    "collapsed": false
   },
   "outputs": [
    {
     "data": {
      "text/html": [
       "<div>\n",
       "<style>\n",
       "    .dataframe thead tr:only-child th {\n",
       "        text-align: right;\n",
       "    }\n",
       "\n",
       "    .dataframe thead th {\n",
       "        text-align: left;\n",
       "    }\n",
       "\n",
       "    .dataframe tbody tr th {\n",
       "        vertical-align: top;\n",
       "    }\n",
       "</style>\n",
       "<table border=\"1\" class=\"dataframe\">\n",
       "  <thead>\n",
       "    <tr style=\"text-align: right;\">\n",
       "      <th></th>\n",
       "      <th>A</th>\n",
       "      <th>B</th>\n",
       "      <th>C</th>\n",
       "      <th>D</th>\n",
       "      <th>E</th>\n",
       "    </tr>\n",
       "  </thead>\n",
       "  <tbody>\n",
       "    <tr>\n",
       "      <th>2018-11-01</th>\n",
       "      <td>1.048139</td>\n",
       "      <td>-1.458569</td>\n",
       "      <td>0.338401</td>\n",
       "      <td>1000.0</td>\n",
       "      <td>1.0</td>\n",
       "    </tr>\n",
       "    <tr>\n",
       "      <th>2018-11-02</th>\n",
       "      <td>0.561564</td>\n",
       "      <td>-0.746231</td>\n",
       "      <td>-0.202332</td>\n",
       "      <td>1000.0</td>\n",
       "      <td>1000.0</td>\n",
       "    </tr>\n",
       "    <tr>\n",
       "      <th>2018-11-03</th>\n",
       "      <td>0.038716</td>\n",
       "      <td>1.018482</td>\n",
       "      <td>-0.083829</td>\n",
       "      <td>1000.0</td>\n",
       "      <td>2.0</td>\n",
       "    </tr>\n",
       "    <tr>\n",
       "      <th>2018-11-04</th>\n",
       "      <td>-1.920659</td>\n",
       "      <td>0.227513</td>\n",
       "      <td>-1.238505</td>\n",
       "      <td>4.0</td>\n",
       "      <td>1000.0</td>\n",
       "    </tr>\n",
       "    <tr>\n",
       "      <th>2018-11-05</th>\n",
       "      <td>-0.482242</td>\n",
       "      <td>1.297202</td>\n",
       "      <td>-0.309765</td>\n",
       "      <td>5.0</td>\n",
       "      <td>4.0</td>\n",
       "    </tr>\n",
       "    <tr>\n",
       "      <th>2018-11-06</th>\n",
       "      <td>-1.857481</td>\n",
       "      <td>-0.769062</td>\n",
       "      <td>1.194004</td>\n",
       "      <td>6.0</td>\n",
       "      <td>1000.0</td>\n",
       "    </tr>\n",
       "    <tr>\n",
       "      <th>2018-11-07</th>\n",
       "      <td>-0.469397</td>\n",
       "      <td>0.002246</td>\n",
       "      <td>0.003750</td>\n",
       "      <td>7.0</td>\n",
       "      <td>6.0</td>\n",
       "    </tr>\n",
       "  </tbody>\n",
       "</table>\n",
       "</div>"
      ],
      "text/plain": [
       "                   A         B         C       D       E\n",
       "2018-11-01  1.048139 -1.458569  0.338401  1000.0     1.0\n",
       "2018-11-02  0.561564 -0.746231 -0.202332  1000.0  1000.0\n",
       "2018-11-03  0.038716  1.018482 -0.083829  1000.0     2.0\n",
       "2018-11-04 -1.920659  0.227513 -1.238505     4.0  1000.0\n",
       "2018-11-05 -0.482242  1.297202 -0.309765     5.0     4.0\n",
       "2018-11-06 -1.857481 -0.769062  1.194004     6.0  1000.0\n",
       "2018-11-07 -0.469397  0.002246  0.003750     7.0     6.0"
      ]
     },
     "execution_count": 90,
     "metadata": {},
     "output_type": "execute_result"
    }
   ],
   "source": [
    "df4.fillna(1000)"
   ]
  },
  {
   "cell_type": "markdown",
   "metadata": {},
   "source": [
    "- 对数据进行布尔值进行填充"
   ]
  },
  {
   "cell_type": "code",
   "execution_count": 92,
   "metadata": {
    "collapsed": false
   },
   "outputs": [
    {
     "data": {
      "text/html": [
       "<div>\n",
       "<style>\n",
       "    .dataframe thead tr:only-child th {\n",
       "        text-align: right;\n",
       "    }\n",
       "\n",
       "    .dataframe thead th {\n",
       "        text-align: left;\n",
       "    }\n",
       "\n",
       "    .dataframe tbody tr th {\n",
       "        vertical-align: top;\n",
       "    }\n",
       "</style>\n",
       "<table border=\"1\" class=\"dataframe\">\n",
       "  <thead>\n",
       "    <tr style=\"text-align: right;\">\n",
       "      <th></th>\n",
       "      <th>A</th>\n",
       "      <th>B</th>\n",
       "      <th>C</th>\n",
       "      <th>D</th>\n",
       "      <th>E</th>\n",
       "    </tr>\n",
       "  </thead>\n",
       "  <tbody>\n",
       "    <tr>\n",
       "      <th>2018-11-01</th>\n",
       "      <td>False</td>\n",
       "      <td>False</td>\n",
       "      <td>False</td>\n",
       "      <td>True</td>\n",
       "      <td>False</td>\n",
       "    </tr>\n",
       "    <tr>\n",
       "      <th>2018-11-02</th>\n",
       "      <td>False</td>\n",
       "      <td>False</td>\n",
       "      <td>False</td>\n",
       "      <td>True</td>\n",
       "      <td>True</td>\n",
       "    </tr>\n",
       "    <tr>\n",
       "      <th>2018-11-03</th>\n",
       "      <td>False</td>\n",
       "      <td>False</td>\n",
       "      <td>False</td>\n",
       "      <td>True</td>\n",
       "      <td>False</td>\n",
       "    </tr>\n",
       "    <tr>\n",
       "      <th>2018-11-04</th>\n",
       "      <td>False</td>\n",
       "      <td>False</td>\n",
       "      <td>False</td>\n",
       "      <td>False</td>\n",
       "      <td>True</td>\n",
       "    </tr>\n",
       "    <tr>\n",
       "      <th>2018-11-05</th>\n",
       "      <td>False</td>\n",
       "      <td>False</td>\n",
       "      <td>False</td>\n",
       "      <td>False</td>\n",
       "      <td>False</td>\n",
       "    </tr>\n",
       "    <tr>\n",
       "      <th>2018-11-06</th>\n",
       "      <td>False</td>\n",
       "      <td>False</td>\n",
       "      <td>False</td>\n",
       "      <td>False</td>\n",
       "      <td>True</td>\n",
       "    </tr>\n",
       "    <tr>\n",
       "      <th>2018-11-07</th>\n",
       "      <td>False</td>\n",
       "      <td>False</td>\n",
       "      <td>False</td>\n",
       "      <td>False</td>\n",
       "      <td>False</td>\n",
       "    </tr>\n",
       "  </tbody>\n",
       "</table>\n",
       "</div>"
      ],
      "text/plain": [
       "                A      B      C      D      E\n",
       "2018-11-01  False  False  False   True  False\n",
       "2018-11-02  False  False  False   True   True\n",
       "2018-11-03  False  False  False   True  False\n",
       "2018-11-04  False  False  False  False   True\n",
       "2018-11-05  False  False  False  False  False\n",
       "2018-11-06  False  False  False  False   True\n",
       "2018-11-07  False  False  False  False  False"
      ]
     },
     "execution_count": 92,
     "metadata": {},
     "output_type": "execute_result"
    }
   ],
   "source": [
    "pd.isnull(df4)"
   ]
  },
  {
   "cell_type": "markdown",
   "metadata": {},
   "source": [
    "#### 五. 数据操作"
   ]
  },
  {
   "cell_type": "code",
   "execution_count": 93,
   "metadata": {
    "collapsed": false
   },
   "outputs": [
    {
     "data": {
      "text/plain": [
       "A   -0.440194\n",
       "B   -0.061203\n",
       "C   -0.042611\n",
       "D    5.500000\n",
       "E    3.250000\n",
       "dtype: float64"
      ]
     },
     "execution_count": 93,
     "metadata": {},
     "output_type": "execute_result"
    }
   ],
   "source": [
    "#统计的工作一般情况下都不包含缺失值，\n",
    "df4.mean() \n",
    "#  默认是对列进行求平均，沿着行方向也就是axis=0"
   ]
  },
  {
   "cell_type": "code",
   "execution_count": 94,
   "metadata": {
    "collapsed": false
   },
   "outputs": [
    {
     "data": {
      "text/plain": [
       "2018-11-01    0.231993\n",
       "2018-11-02   -0.129000\n",
       "2018-11-03    0.743342\n",
       "2018-11-04    0.267087\n",
       "2018-11-05    1.901039\n",
       "2018-11-06    1.141865\n",
       "2018-11-07    2.507320\n",
       "Freq: D, dtype: float64"
      ]
     },
     "execution_count": 94,
     "metadata": {},
     "output_type": "execute_result"
    }
   ],
   "source": [
    "df4.mean(axis=1)\n",
    "#  沿着列方向求每行的平均"
   ]
  },
  {
   "cell_type": "code",
   "execution_count": 95,
   "metadata": {
    "collapsed": false
   },
   "outputs": [
    {
     "data": {
      "text/plain": [
       "2018-11-01    1.0\n",
       "2018-11-02    3.0\n",
       "2018-11-03    4.0\n",
       "2018-11-04    NaN\n",
       "2018-11-05    6.0\n",
       "2018-11-06    7.0\n",
       "2018-11-07    8.0\n",
       "Freq: D, dtype: float64"
      ]
     },
     "execution_count": 95,
     "metadata": {},
     "output_type": "execute_result"
    }
   ],
   "source": [
    " # 对于拥有不同维度，需要对齐的对象进行操作。Pandas会自动的沿着指定的维度进行广播：\n",
    "s = pd.Series([1,3,4,np.nan,6,7,8],index=dates)\n",
    "s"
   ]
  },
  {
   "cell_type": "code",
   "execution_count": 96,
   "metadata": {
    "collapsed": false
   },
   "outputs": [
    {
     "data": {
      "text/html": [
       "<div>\n",
       "<style>\n",
       "    .dataframe thead tr:only-child th {\n",
       "        text-align: right;\n",
       "    }\n",
       "\n",
       "    .dataframe thead th {\n",
       "        text-align: left;\n",
       "    }\n",
       "\n",
       "    .dataframe tbody tr th {\n",
       "        vertical-align: top;\n",
       "    }\n",
       "</style>\n",
       "<table border=\"1\" class=\"dataframe\">\n",
       "  <thead>\n",
       "    <tr style=\"text-align: right;\">\n",
       "      <th></th>\n",
       "      <th>A</th>\n",
       "      <th>B</th>\n",
       "      <th>C</th>\n",
       "      <th>D</th>\n",
       "      <th>E</th>\n",
       "    </tr>\n",
       "  </thead>\n",
       "  <tbody>\n",
       "    <tr>\n",
       "      <th>2018-11-01</th>\n",
       "      <td>0.048139</td>\n",
       "      <td>-2.458569</td>\n",
       "      <td>-0.661599</td>\n",
       "      <td>NaN</td>\n",
       "      <td>0.0</td>\n",
       "    </tr>\n",
       "    <tr>\n",
       "      <th>2018-11-02</th>\n",
       "      <td>-2.438436</td>\n",
       "      <td>-3.746231</td>\n",
       "      <td>-3.202332</td>\n",
       "      <td>NaN</td>\n",
       "      <td>NaN</td>\n",
       "    </tr>\n",
       "    <tr>\n",
       "      <th>2018-11-03</th>\n",
       "      <td>-3.961284</td>\n",
       "      <td>-2.981518</td>\n",
       "      <td>-4.083829</td>\n",
       "      <td>NaN</td>\n",
       "      <td>-2.0</td>\n",
       "    </tr>\n",
       "    <tr>\n",
       "      <th>2018-11-04</th>\n",
       "      <td>NaN</td>\n",
       "      <td>NaN</td>\n",
       "      <td>NaN</td>\n",
       "      <td>NaN</td>\n",
       "      <td>NaN</td>\n",
       "    </tr>\n",
       "    <tr>\n",
       "      <th>2018-11-05</th>\n",
       "      <td>-6.482242</td>\n",
       "      <td>-4.702798</td>\n",
       "      <td>-6.309765</td>\n",
       "      <td>-1.0</td>\n",
       "      <td>-2.0</td>\n",
       "    </tr>\n",
       "    <tr>\n",
       "      <th>2018-11-06</th>\n",
       "      <td>-8.857481</td>\n",
       "      <td>-7.769062</td>\n",
       "      <td>-5.805996</td>\n",
       "      <td>-1.0</td>\n",
       "      <td>NaN</td>\n",
       "    </tr>\n",
       "    <tr>\n",
       "      <th>2018-11-07</th>\n",
       "      <td>-8.469397</td>\n",
       "      <td>-7.997754</td>\n",
       "      <td>-7.996250</td>\n",
       "      <td>-1.0</td>\n",
       "      <td>-2.0</td>\n",
       "    </tr>\n",
       "  </tbody>\n",
       "</table>\n",
       "</div>"
      ],
      "text/plain": [
       "                   A         B         C    D    E\n",
       "2018-11-01  0.048139 -2.458569 -0.661599  NaN  0.0\n",
       "2018-11-02 -2.438436 -3.746231 -3.202332  NaN  NaN\n",
       "2018-11-03 -3.961284 -2.981518 -4.083829  NaN -2.0\n",
       "2018-11-04       NaN       NaN       NaN  NaN  NaN\n",
       "2018-11-05 -6.482242 -4.702798 -6.309765 -1.0 -2.0\n",
       "2018-11-06 -8.857481 -7.769062 -5.805996 -1.0  NaN\n",
       "2018-11-07 -8.469397 -7.997754 -7.996250 -1.0 -2.0"
      ]
     },
     "execution_count": 96,
     "metadata": {},
     "output_type": "execute_result"
    }
   ],
   "source": [
    "df4.sub(s,axis='index')"
   ]
  },
  {
   "cell_type": "code",
   "execution_count": 97,
   "metadata": {
    "collapsed": false
   },
   "outputs": [
    {
     "data": {
      "text/html": [
       "<div>\n",
       "<style>\n",
       "    .dataframe thead tr:only-child th {\n",
       "        text-align: right;\n",
       "    }\n",
       "\n",
       "    .dataframe thead th {\n",
       "        text-align: left;\n",
       "    }\n",
       "\n",
       "    .dataframe tbody tr th {\n",
       "        vertical-align: top;\n",
       "    }\n",
       "</style>\n",
       "<table border=\"1\" class=\"dataframe\">\n",
       "  <thead>\n",
       "    <tr style=\"text-align: right;\">\n",
       "      <th></th>\n",
       "      <th>A</th>\n",
       "      <th>B</th>\n",
       "      <th>C</th>\n",
       "      <th>D</th>\n",
       "      <th>E</th>\n",
       "    </tr>\n",
       "  </thead>\n",
       "  <tbody>\n",
       "    <tr>\n",
       "      <th>2018-11-01</th>\n",
       "      <td>1.048139</td>\n",
       "      <td>-1.458569</td>\n",
       "      <td>0.338401</td>\n",
       "      <td>NaN</td>\n",
       "      <td>1.0</td>\n",
       "    </tr>\n",
       "    <tr>\n",
       "      <th>2018-11-02</th>\n",
       "      <td>0.561564</td>\n",
       "      <td>-0.746231</td>\n",
       "      <td>-0.202332</td>\n",
       "      <td>NaN</td>\n",
       "      <td>NaN</td>\n",
       "    </tr>\n",
       "    <tr>\n",
       "      <th>2018-11-03</th>\n",
       "      <td>0.038716</td>\n",
       "      <td>1.018482</td>\n",
       "      <td>-0.083829</td>\n",
       "      <td>NaN</td>\n",
       "      <td>2.0</td>\n",
       "    </tr>\n",
       "    <tr>\n",
       "      <th>2018-11-04</th>\n",
       "      <td>-1.920659</td>\n",
       "      <td>0.227513</td>\n",
       "      <td>-1.238505</td>\n",
       "      <td>4.0</td>\n",
       "      <td>NaN</td>\n",
       "    </tr>\n",
       "    <tr>\n",
       "      <th>2018-11-05</th>\n",
       "      <td>-0.482242</td>\n",
       "      <td>1.297202</td>\n",
       "      <td>-0.309765</td>\n",
       "      <td>5.0</td>\n",
       "      <td>4.0</td>\n",
       "    </tr>\n",
       "    <tr>\n",
       "      <th>2018-11-06</th>\n",
       "      <td>-1.857481</td>\n",
       "      <td>-0.769062</td>\n",
       "      <td>1.194004</td>\n",
       "      <td>6.0</td>\n",
       "      <td>NaN</td>\n",
       "    </tr>\n",
       "    <tr>\n",
       "      <th>2018-11-07</th>\n",
       "      <td>-0.469397</td>\n",
       "      <td>0.002246</td>\n",
       "      <td>0.003750</td>\n",
       "      <td>7.0</td>\n",
       "      <td>6.0</td>\n",
       "    </tr>\n",
       "  </tbody>\n",
       "</table>\n",
       "</div>"
      ],
      "text/plain": [
       "                   A         B         C    D    E\n",
       "2018-11-01  1.048139 -1.458569  0.338401  NaN  1.0\n",
       "2018-11-02  0.561564 -0.746231 -0.202332  NaN  NaN\n",
       "2018-11-03  0.038716  1.018482 -0.083829  NaN  2.0\n",
       "2018-11-04 -1.920659  0.227513 -1.238505  4.0  NaN\n",
       "2018-11-05 -0.482242  1.297202 -0.309765  5.0  4.0\n",
       "2018-11-06 -1.857481 -0.769062  1.194004  6.0  NaN\n",
       "2018-11-07 -0.469397  0.002246  0.003750  7.0  6.0"
      ]
     },
     "execution_count": 97,
     "metadata": {},
     "output_type": "execute_result"
    }
   ],
   "source": [
    "df4"
   ]
  },
  {
   "cell_type": "code",
   "execution_count": 98,
   "metadata": {
    "collapsed": false
   },
   "outputs": [
    {
     "data": {
      "text/html": [
       "<div>\n",
       "<style>\n",
       "    .dataframe thead tr:only-child th {\n",
       "        text-align: right;\n",
       "    }\n",
       "\n",
       "    .dataframe thead th {\n",
       "        text-align: left;\n",
       "    }\n",
       "\n",
       "    .dataframe tbody tr th {\n",
       "        vertical-align: top;\n",
       "    }\n",
       "</style>\n",
       "<table border=\"1\" class=\"dataframe\">\n",
       "  <thead>\n",
       "    <tr style=\"text-align: right;\">\n",
       "      <th></th>\n",
       "      <th>A</th>\n",
       "      <th>B</th>\n",
       "      <th>C</th>\n",
       "      <th>D</th>\n",
       "      <th>E</th>\n",
       "    </tr>\n",
       "  </thead>\n",
       "  <tbody>\n",
       "    <tr>\n",
       "      <th>2018-11-01</th>\n",
       "      <td>1.048139</td>\n",
       "      <td>-1.458569</td>\n",
       "      <td>0.338401</td>\n",
       "      <td>NaN</td>\n",
       "      <td>1.0</td>\n",
       "    </tr>\n",
       "    <tr>\n",
       "      <th>2018-11-02</th>\n",
       "      <td>1.609703</td>\n",
       "      <td>-2.204800</td>\n",
       "      <td>0.136069</td>\n",
       "      <td>NaN</td>\n",
       "      <td>NaN</td>\n",
       "    </tr>\n",
       "    <tr>\n",
       "      <th>2018-11-03</th>\n",
       "      <td>1.648419</td>\n",
       "      <td>-1.186318</td>\n",
       "      <td>0.052240</td>\n",
       "      <td>NaN</td>\n",
       "      <td>3.0</td>\n",
       "    </tr>\n",
       "    <tr>\n",
       "      <th>2018-11-04</th>\n",
       "      <td>-0.272240</td>\n",
       "      <td>-0.958806</td>\n",
       "      <td>-1.186265</td>\n",
       "      <td>4.0</td>\n",
       "      <td>NaN</td>\n",
       "    </tr>\n",
       "    <tr>\n",
       "      <th>2018-11-05</th>\n",
       "      <td>-0.754482</td>\n",
       "      <td>0.338396</td>\n",
       "      <td>-1.496029</td>\n",
       "      <td>9.0</td>\n",
       "      <td>7.0</td>\n",
       "    </tr>\n",
       "    <tr>\n",
       "      <th>2018-11-06</th>\n",
       "      <td>-2.611963</td>\n",
       "      <td>-0.430665</td>\n",
       "      <td>-0.302025</td>\n",
       "      <td>15.0</td>\n",
       "      <td>NaN</td>\n",
       "    </tr>\n",
       "    <tr>\n",
       "      <th>2018-11-07</th>\n",
       "      <td>-3.081360</td>\n",
       "      <td>-0.428420</td>\n",
       "      <td>-0.298275</td>\n",
       "      <td>22.0</td>\n",
       "      <td>13.0</td>\n",
       "    </tr>\n",
       "  </tbody>\n",
       "</table>\n",
       "</div>"
      ],
      "text/plain": [
       "                   A         B         C     D     E\n",
       "2018-11-01  1.048139 -1.458569  0.338401   NaN   1.0\n",
       "2018-11-02  1.609703 -2.204800  0.136069   NaN   NaN\n",
       "2018-11-03  1.648419 -1.186318  0.052240   NaN   3.0\n",
       "2018-11-04 -0.272240 -0.958806 -1.186265   4.0   NaN\n",
       "2018-11-05 -0.754482  0.338396 -1.496029   9.0   7.0\n",
       "2018-11-06 -2.611963 -0.430665 -0.302025  15.0   NaN\n",
       "2018-11-07 -3.081360 -0.428420 -0.298275  22.0  13.0"
      ]
     },
     "execution_count": 98,
     "metadata": {},
     "output_type": "execute_result"
    }
   ],
   "source": [
    "df4.apply(np.cumsum)"
   ]
  },
  {
   "cell_type": "code",
   "execution_count": 99,
   "metadata": {
    "collapsed": false
   },
   "outputs": [
    {
     "data": {
      "text/plain": [
       "A    2.968798\n",
       "B    2.755772\n",
       "C    2.432509\n",
       "D    3.000000\n",
       "E    5.000000\n",
       "dtype: float64"
      ]
     },
     "execution_count": 99,
     "metadata": {},
     "output_type": "execute_result"
    }
   ],
   "source": [
    "df4.apply(lambda x: x.max()-x.min())"
   ]
  },
  {
   "cell_type": "code",
   "execution_count": null,
   "metadata": {
    "collapsed": true
   },
   "outputs": [],
   "source": []
  }
 ],
 "metadata": {
  "kernelspec": {
   "display_name": "Python 3",
   "language": "python",
   "name": "python3"
  },
  "language_info": {
   "codemirror_mode": {
    "name": "ipython",
    "version": 3
   },
   "file_extension": ".py",
   "mimetype": "text/x-python",
   "name": "python",
   "nbconvert_exporter": "python",
   "pygments_lexer": "ipython3",
   "version": "3.6.0"
  }
 },
 "nbformat": 4,
 "nbformat_minor": 2
}
