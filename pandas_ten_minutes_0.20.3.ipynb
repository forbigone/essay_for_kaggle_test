{
 "cells": [
  {
   "cell_type": "code",
   "execution_count": 1,
   "metadata": {
    "collapsed": true
   },
   "outputs": [],
   "source": [
    "import pandas as pd\n",
    "import numpy as np"
   ]
  },
  {
   "cell_type": "code",
   "execution_count": 2,
   "metadata": {
    "collapsed": true
   },
   "outputs": [],
   "source": [
    "import matplotlib.pyplot as plt"
   ]
  },
  {
   "cell_type": "markdown",
   "metadata": {},
   "source": [
    "### 创建一个Series ，同时让pandas自动生成索引列"
   ]
  },
  {
   "cell_type": "code",
   "execution_count": 3,
   "metadata": {
    "collapsed": true
   },
   "outputs": [],
   "source": [
    "s = pd.Series([1,3,5,np.nan,6,8])"
   ]
  },
  {
   "cell_type": "code",
   "execution_count": 4,
   "metadata": {
    "collapsed": false
   },
   "outputs": [
    {
     "data": {
      "text/plain": [
       "0    1.0\n",
       "1    3.0\n",
       "2    5.0\n",
       "3    NaN\n",
       "4    6.0\n",
       "5    8.0\n",
       "dtype: float64"
      ]
     },
     "execution_count": 4,
     "metadata": {},
     "output_type": "execute_result"
    }
   ],
   "source": [
    "# 查看s\n",
    "s"
   ]
  },
  {
   "cell_type": "markdown",
   "metadata": {},
   "source": [
    "### 创建一个DataFrame数据框"
   ]
  },
  {
   "cell_type": "code",
   "execution_count": 5,
   "metadata": {
    "collapsed": true
   },
   "outputs": [],
   "source": [
    "### 创建一个DataFrame ，可以传入一个numpy array 可以自己构建索引以及列标\n",
    "dates = pd.date_range('2018-11-01',periods=7)\n",
    "#### 比如说生成一个时间序列，以20181101 为起始位置的，7个日期组成的时间序列，数据的类型为datetime64[ns]"
   ]
  },
  {
   "cell_type": "code",
   "execution_count": 6,
   "metadata": {
    "collapsed": false
   },
   "outputs": [
    {
     "data": {
      "text/plain": [
       "DatetimeIndex(['2018-11-01', '2018-11-02', '2018-11-03', '2018-11-04',\n",
       "               '2018-11-05', '2018-11-06', '2018-11-07'],\n",
       "              dtype='datetime64[ns]', freq='D')"
      ]
     },
     "execution_count": 6,
     "metadata": {},
     "output_type": "execute_result"
    }
   ],
   "source": [
    "dates"
   ]
  },
  {
   "cell_type": "code",
   "execution_count": 8,
   "metadata": {
    "collapsed": false
   },
   "outputs": [
    {
     "data": {
      "text/html": [
       "<div>\n",
       "<style>\n",
       "    .dataframe thead tr:only-child th {\n",
       "        text-align: right;\n",
       "    }\n",
       "\n",
       "    .dataframe thead th {\n",
       "        text-align: left;\n",
       "    }\n",
       "\n",
       "    .dataframe tbody tr th {\n",
       "        vertical-align: top;\n",
       "    }\n",
       "</style>\n",
       "<table border=\"1\" class=\"dataframe\">\n",
       "  <thead>\n",
       "    <tr style=\"text-align: right;\">\n",
       "      <th></th>\n",
       "      <th>A</th>\n",
       "      <th>B</th>\n",
       "      <th>C</th>\n",
       "      <th>D</th>\n",
       "    </tr>\n",
       "  </thead>\n",
       "  <tbody>\n",
       "    <tr>\n",
       "      <th>2018-11-01</th>\n",
       "      <td>1.119906</td>\n",
       "      <td>0.501445</td>\n",
       "      <td>0.658371</td>\n",
       "      <td>-1.919401</td>\n",
       "    </tr>\n",
       "    <tr>\n",
       "      <th>2018-11-02</th>\n",
       "      <td>-0.210060</td>\n",
       "      <td>0.358103</td>\n",
       "      <td>-0.799528</td>\n",
       "      <td>0.821414</td>\n",
       "    </tr>\n",
       "    <tr>\n",
       "      <th>2018-11-03</th>\n",
       "      <td>1.076412</td>\n",
       "      <td>-0.116761</td>\n",
       "      <td>0.961088</td>\n",
       "      <td>-0.109604</td>\n",
       "    </tr>\n",
       "    <tr>\n",
       "      <th>2018-11-04</th>\n",
       "      <td>-0.283314</td>\n",
       "      <td>-0.455867</td>\n",
       "      <td>0.930338</td>\n",
       "      <td>0.294843</td>\n",
       "    </tr>\n",
       "    <tr>\n",
       "      <th>2018-11-05</th>\n",
       "      <td>0.924924</td>\n",
       "      <td>0.310615</td>\n",
       "      <td>-0.664699</td>\n",
       "      <td>-2.410030</td>\n",
       "    </tr>\n",
       "    <tr>\n",
       "      <th>2018-11-06</th>\n",
       "      <td>1.133816</td>\n",
       "      <td>0.846917</td>\n",
       "      <td>-1.557681</td>\n",
       "      <td>-0.007972</td>\n",
       "    </tr>\n",
       "    <tr>\n",
       "      <th>2018-11-07</th>\n",
       "      <td>1.190136</td>\n",
       "      <td>-0.172966</td>\n",
       "      <td>-1.958245</td>\n",
       "      <td>-0.876356</td>\n",
       "    </tr>\n",
       "  </tbody>\n",
       "</table>\n",
       "</div>"
      ],
      "text/plain": [
       "                   A         B         C         D\n",
       "2018-11-01  1.119906  0.501445  0.658371 -1.919401\n",
       "2018-11-02 -0.210060  0.358103 -0.799528  0.821414\n",
       "2018-11-03  1.076412 -0.116761  0.961088 -0.109604\n",
       "2018-11-04 -0.283314 -0.455867  0.930338  0.294843\n",
       "2018-11-05  0.924924  0.310615 -0.664699 -2.410030\n",
       "2018-11-06  1.133816  0.846917 -1.557681 -0.007972\n",
       "2018-11-07  1.190136 -0.172966 -1.958245 -0.876356"
      ]
     },
     "execution_count": 8,
     "metadata": {},
     "output_type": "execute_result"
    }
   ],
   "source": [
    "df = pd.DataFrame(np.random.randn(7,4),index= dates,columns=list('ABCD'))\n",
    "df\n",
    "# 产生随机正态分布的数据，7行4列，分别对应的index的长度以及column的长度"
   ]
  },
  {
   "cell_type": "code",
   "execution_count": 18,
   "metadata": {
    "collapsed": false
   },
   "outputs": [
    {
     "data": {
      "text/html": [
       "<div>\n",
       "<style>\n",
       "    .dataframe thead tr:only-child th {\n",
       "        text-align: right;\n",
       "    }\n",
       "\n",
       "    .dataframe thead th {\n",
       "        text-align: left;\n",
       "    }\n",
       "\n",
       "    .dataframe tbody tr th {\n",
       "        vertical-align: top;\n",
       "    }\n",
       "</style>\n",
       "<table border=\"1\" class=\"dataframe\">\n",
       "  <thead>\n",
       "    <tr style=\"text-align: right;\">\n",
       "      <th></th>\n",
       "      <th>A</th>\n",
       "      <th>B</th>\n",
       "      <th>C</th>\n",
       "      <th>D</th>\n",
       "      <th>E</th>\n",
       "    </tr>\n",
       "  </thead>\n",
       "  <tbody>\n",
       "    <tr>\n",
       "      <th>0</th>\n",
       "      <td>1</td>\n",
       "      <td>20181101</td>\n",
       "      <td>3</td>\n",
       "      <td>test</td>\n",
       "      <td>1.5</td>\n",
       "    </tr>\n",
       "    <tr>\n",
       "      <th>1</th>\n",
       "      <td>1</td>\n",
       "      <td>20181101</td>\n",
       "      <td>3</td>\n",
       "      <td>train</td>\n",
       "      <td>1.5</td>\n",
       "    </tr>\n",
       "    <tr>\n",
       "      <th>2</th>\n",
       "      <td>1</td>\n",
       "      <td>20181101</td>\n",
       "      <td>3</td>\n",
       "      <td>test</td>\n",
       "      <td>1.5</td>\n",
       "    </tr>\n",
       "    <tr>\n",
       "      <th>3</th>\n",
       "      <td>1</td>\n",
       "      <td>20181101</td>\n",
       "      <td>3</td>\n",
       "      <td>train</td>\n",
       "      <td>1.5</td>\n",
       "    </tr>\n",
       "  </tbody>\n",
       "</table>\n",
       "</div>"
      ],
      "text/plain": [
       "   A         B  C      D    E\n",
       "0  1  20181101  3   test  1.5\n",
       "1  1  20181101  3  train  1.5\n",
       "2  1  20181101  3   test  1.5\n",
       "3  1  20181101  3  train  1.5"
      ]
     },
     "execution_count": 18,
     "metadata": {},
     "output_type": "execute_result"
    }
   ],
   "source": [
    "### 同时用可以使用dict的实行创建DataFrame\n",
    "df2 = pd.DataFrame({\"A\":1,\n",
    "                   \"B\":\"20181101\",\n",
    "                   'C':np.array([3]*4,dtype='int32'),\n",
    "                   'D':pd.Categorical(['test','train','test','train']),\n",
    "                   \"E\":1.5},\n",
    "                  )\n",
    "df2"
   ]
  },
  {
   "cell_type": "code",
   "execution_count": 19,
   "metadata": {
    "collapsed": false
   },
   "outputs": [
    {
     "data": {
      "text/plain": [
       "A       int64\n",
       "B      object\n",
       "C       int32\n",
       "D    category\n",
       "E     float64\n",
       "dtype: object"
      ]
     },
     "execution_count": 19,
     "metadata": {},
     "output_type": "execute_result"
    }
   ],
   "source": [
    "df2.dtypes\n",
    "### 查看数据框中的数据类型,常见的数据类型还有时间类型以及float类型"
   ]
  },
  {
   "cell_type": "markdown",
   "metadata": {},
   "source": [
    "### 查看数据"
   ]
  },
  {
   "cell_type": "code",
   "execution_count": 20,
   "metadata": {
    "collapsed": false
   },
   "outputs": [
    {
     "data": {
      "text/html": [
       "<div>\n",
       "<style>\n",
       "    .dataframe thead tr:only-child th {\n",
       "        text-align: right;\n",
       "    }\n",
       "\n",
       "    .dataframe thead th {\n",
       "        text-align: left;\n",
       "    }\n",
       "\n",
       "    .dataframe tbody tr th {\n",
       "        vertical-align: top;\n",
       "    }\n",
       "</style>\n",
       "<table border=\"1\" class=\"dataframe\">\n",
       "  <thead>\n",
       "    <tr style=\"text-align: right;\">\n",
       "      <th></th>\n",
       "      <th>A</th>\n",
       "      <th>B</th>\n",
       "      <th>C</th>\n",
       "      <th>D</th>\n",
       "    </tr>\n",
       "  </thead>\n",
       "  <tbody>\n",
       "    <tr>\n",
       "      <th>2018-11-01</th>\n",
       "      <td>1.119906</td>\n",
       "      <td>0.501445</td>\n",
       "      <td>0.658371</td>\n",
       "      <td>-1.919401</td>\n",
       "    </tr>\n",
       "    <tr>\n",
       "      <th>2018-11-02</th>\n",
       "      <td>-0.210060</td>\n",
       "      <td>0.358103</td>\n",
       "      <td>-0.799528</td>\n",
       "      <td>0.821414</td>\n",
       "    </tr>\n",
       "    <tr>\n",
       "      <th>2018-11-03</th>\n",
       "      <td>1.076412</td>\n",
       "      <td>-0.116761</td>\n",
       "      <td>0.961088</td>\n",
       "      <td>-0.109604</td>\n",
       "    </tr>\n",
       "    <tr>\n",
       "      <th>2018-11-04</th>\n",
       "      <td>-0.283314</td>\n",
       "      <td>-0.455867</td>\n",
       "      <td>0.930338</td>\n",
       "      <td>0.294843</td>\n",
       "    </tr>\n",
       "    <tr>\n",
       "      <th>2018-11-05</th>\n",
       "      <td>0.924924</td>\n",
       "      <td>0.310615</td>\n",
       "      <td>-0.664699</td>\n",
       "      <td>-2.410030</td>\n",
       "    </tr>\n",
       "  </tbody>\n",
       "</table>\n",
       "</div>"
      ],
      "text/plain": [
       "                   A         B         C         D\n",
       "2018-11-01  1.119906  0.501445  0.658371 -1.919401\n",
       "2018-11-02 -0.210060  0.358103 -0.799528  0.821414\n",
       "2018-11-03  1.076412 -0.116761  0.961088 -0.109604\n",
       "2018-11-04 -0.283314 -0.455867  0.930338  0.294843\n",
       "2018-11-05  0.924924  0.310615 -0.664699 -2.410030"
      ]
     },
     "execution_count": 20,
     "metadata": {},
     "output_type": "execute_result"
    }
   ],
   "source": [
    "\n",
    "# 比如说看前5行\n",
    "df.head()"
   ]
  },
  {
   "cell_type": "code",
   "execution_count": 22,
   "metadata": {
    "collapsed": false
   },
   "outputs": [
    {
     "data": {
      "text/html": [
       "<div>\n",
       "<style>\n",
       "    .dataframe thead tr:only-child th {\n",
       "        text-align: right;\n",
       "    }\n",
       "\n",
       "    .dataframe thead th {\n",
       "        text-align: left;\n",
       "    }\n",
       "\n",
       "    .dataframe tbody tr th {\n",
       "        vertical-align: top;\n",
       "    }\n",
       "</style>\n",
       "<table border=\"1\" class=\"dataframe\">\n",
       "  <thead>\n",
       "    <tr style=\"text-align: right;\">\n",
       "      <th></th>\n",
       "      <th>A</th>\n",
       "      <th>B</th>\n",
       "      <th>C</th>\n",
       "      <th>D</th>\n",
       "    </tr>\n",
       "  </thead>\n",
       "  <tbody>\n",
       "    <tr>\n",
       "      <th>2018-11-04</th>\n",
       "      <td>-0.283314</td>\n",
       "      <td>-0.455867</td>\n",
       "      <td>0.930338</td>\n",
       "      <td>0.294843</td>\n",
       "    </tr>\n",
       "    <tr>\n",
       "      <th>2018-11-05</th>\n",
       "      <td>0.924924</td>\n",
       "      <td>0.310615</td>\n",
       "      <td>-0.664699</td>\n",
       "      <td>-2.410030</td>\n",
       "    </tr>\n",
       "    <tr>\n",
       "      <th>2018-11-06</th>\n",
       "      <td>1.133816</td>\n",
       "      <td>0.846917</td>\n",
       "      <td>-1.557681</td>\n",
       "      <td>-0.007972</td>\n",
       "    </tr>\n",
       "    <tr>\n",
       "      <th>2018-11-07</th>\n",
       "      <td>1.190136</td>\n",
       "      <td>-0.172966</td>\n",
       "      <td>-1.958245</td>\n",
       "      <td>-0.876356</td>\n",
       "    </tr>\n",
       "  </tbody>\n",
       "</table>\n",
       "</div>"
      ],
      "text/plain": [
       "                   A         B         C         D\n",
       "2018-11-04 -0.283314 -0.455867  0.930338  0.294843\n",
       "2018-11-05  0.924924  0.310615 -0.664699 -2.410030\n",
       "2018-11-06  1.133816  0.846917 -1.557681 -0.007972\n",
       "2018-11-07  1.190136 -0.172966 -1.958245 -0.876356"
      ]
     },
     "execution_count": 22,
     "metadata": {},
     "output_type": "execute_result"
    }
   ],
   "source": [
    "# 后4行\n",
    "df.tail(4)"
   ]
  },
  {
   "cell_type": "code",
   "execution_count": 23,
   "metadata": {
    "collapsed": false
   },
   "outputs": [
    {
     "data": {
      "text/plain": [
       "DatetimeIndex(['2018-11-01', '2018-11-02', '2018-11-03', '2018-11-04',\n",
       "               '2018-11-05', '2018-11-06', '2018-11-07'],\n",
       "              dtype='datetime64[ns]', freq='D')"
      ]
     },
     "execution_count": 23,
     "metadata": {},
     "output_type": "execute_result"
    }
   ],
   "source": [
    "# 查看DataFrame的索引\n",
    "df.index"
   ]
  },
  {
   "cell_type": "code",
   "execution_count": 24,
   "metadata": {
    "collapsed": false
   },
   "outputs": [
    {
     "data": {
      "text/plain": [
       "Index(['A', 'B', 'C', 'D'], dtype='object')"
      ]
     },
     "execution_count": 24,
     "metadata": {},
     "output_type": "execute_result"
    }
   ],
   "source": [
    "# 查看DataFrame的列索引\n",
    "df.columns\n"
   ]
  },
  {
   "cell_type": "code",
   "execution_count": 25,
   "metadata": {
    "collapsed": false
   },
   "outputs": [
    {
     "data": {
      "text/plain": [
       "array([[ 1.11990612,  0.50144514,  0.65837091, -1.91940065],\n",
       "       [-0.21006048,  0.3581029 , -0.79952778,  0.82141439],\n",
       "       [ 1.07641189, -0.11676116,  0.96108784, -0.1096043 ],\n",
       "       [-0.28331373, -0.455867  ,  0.93033759,  0.29484335],\n",
       "       [ 0.92492357,  0.31061543, -0.6646993 , -2.41003031],\n",
       "       [ 1.13381643,  0.84691711, -1.55768149, -0.00797157],\n",
       "       [ 1.19013584, -0.17296553, -1.95824488, -0.87635606]])"
      ]
     },
     "execution_count": 25,
     "metadata": {},
     "output_type": "execute_result"
    }
   ],
   "source": [
    "# 查看DataFrame的数据,将DataFrame转化为numpy array 的数据形式\n",
    "df.values"
   ]
  },
  {
   "cell_type": "markdown",
   "metadata": {},
   "source": [
    "### 数据的简单统计"
   ]
  },
  {
   "cell_type": "code",
   "execution_count": 26,
   "metadata": {
    "collapsed": false
   },
   "outputs": [
    {
     "data": {
      "text/html": [
       "<div>\n",
       "<style>\n",
       "    .dataframe thead tr:only-child th {\n",
       "        text-align: right;\n",
       "    }\n",
       "\n",
       "    .dataframe thead th {\n",
       "        text-align: left;\n",
       "    }\n",
       "\n",
       "    .dataframe tbody tr th {\n",
       "        vertical-align: top;\n",
       "    }\n",
       "</style>\n",
       "<table border=\"1\" class=\"dataframe\">\n",
       "  <thead>\n",
       "    <tr style=\"text-align: right;\">\n",
       "      <th></th>\n",
       "      <th>A</th>\n",
       "      <th>B</th>\n",
       "      <th>C</th>\n",
       "      <th>D</th>\n",
       "    </tr>\n",
       "  </thead>\n",
       "  <tbody>\n",
       "    <tr>\n",
       "      <th>count</th>\n",
       "      <td>7.000000</td>\n",
       "      <td>7.000000</td>\n",
       "      <td>7.000000</td>\n",
       "      <td>7.000000</td>\n",
       "    </tr>\n",
       "    <tr>\n",
       "      <th>mean</th>\n",
       "      <td>0.707403</td>\n",
       "      <td>0.181641</td>\n",
       "      <td>-0.347194</td>\n",
       "      <td>-0.601015</td>\n",
       "    </tr>\n",
       "    <tr>\n",
       "      <th>std</th>\n",
       "      <td>0.657237</td>\n",
       "      <td>0.449786</td>\n",
       "      <td>1.205614</td>\n",
       "      <td>1.190626</td>\n",
       "    </tr>\n",
       "    <tr>\n",
       "      <th>min</th>\n",
       "      <td>-0.283314</td>\n",
       "      <td>-0.455867</td>\n",
       "      <td>-1.958245</td>\n",
       "      <td>-2.410030</td>\n",
       "    </tr>\n",
       "    <tr>\n",
       "      <th>25%</th>\n",
       "      <td>0.357432</td>\n",
       "      <td>-0.144863</td>\n",
       "      <td>-1.178605</td>\n",
       "      <td>-1.397878</td>\n",
       "    </tr>\n",
       "    <tr>\n",
       "      <th>50%</th>\n",
       "      <td>1.076412</td>\n",
       "      <td>0.310615</td>\n",
       "      <td>-0.664699</td>\n",
       "      <td>-0.109604</td>\n",
       "    </tr>\n",
       "    <tr>\n",
       "      <th>75%</th>\n",
       "      <td>1.126861</td>\n",
       "      <td>0.429774</td>\n",
       "      <td>0.794354</td>\n",
       "      <td>0.143436</td>\n",
       "    </tr>\n",
       "    <tr>\n",
       "      <th>max</th>\n",
       "      <td>1.190136</td>\n",
       "      <td>0.846917</td>\n",
       "      <td>0.961088</td>\n",
       "      <td>0.821414</td>\n",
       "    </tr>\n",
       "  </tbody>\n",
       "</table>\n",
       "</div>"
      ],
      "text/plain": [
       "              A         B         C         D\n",
       "count  7.000000  7.000000  7.000000  7.000000\n",
       "mean   0.707403  0.181641 -0.347194 -0.601015\n",
       "std    0.657237  0.449786  1.205614  1.190626\n",
       "min   -0.283314 -0.455867 -1.958245 -2.410030\n",
       "25%    0.357432 -0.144863 -1.178605 -1.397878\n",
       "50%    1.076412  0.310615 -0.664699 -0.109604\n",
       "75%    1.126861  0.429774  0.794354  0.143436\n",
       "max    1.190136  0.846917  0.961088  0.821414"
      ]
     },
     "execution_count": 26,
     "metadata": {},
     "output_type": "execute_result"
    }
   ],
   "source": [
    "# 可以使用describe函数对DataFrame中的数值型数据进行统计\n",
    "df.describe()"
   ]
  },
  {
   "cell_type": "code",
   "execution_count": 27,
   "metadata": {
    "collapsed": false
   },
   "outputs": [
    {
     "data": {
      "text/html": [
       "<div>\n",
       "<style>\n",
       "    .dataframe thead tr:only-child th {\n",
       "        text-align: right;\n",
       "    }\n",
       "\n",
       "    .dataframe thead th {\n",
       "        text-align: left;\n",
       "    }\n",
       "\n",
       "    .dataframe tbody tr th {\n",
       "        vertical-align: top;\n",
       "    }\n",
       "</style>\n",
       "<table border=\"1\" class=\"dataframe\">\n",
       "  <thead>\n",
       "    <tr style=\"text-align: right;\">\n",
       "      <th></th>\n",
       "      <th>A</th>\n",
       "      <th>C</th>\n",
       "      <th>E</th>\n",
       "    </tr>\n",
       "  </thead>\n",
       "  <tbody>\n",
       "    <tr>\n",
       "      <th>count</th>\n",
       "      <td>4.0</td>\n",
       "      <td>4.0</td>\n",
       "      <td>4.0</td>\n",
       "    </tr>\n",
       "    <tr>\n",
       "      <th>mean</th>\n",
       "      <td>1.0</td>\n",
       "      <td>3.0</td>\n",
       "      <td>1.5</td>\n",
       "    </tr>\n",
       "    <tr>\n",
       "      <th>std</th>\n",
       "      <td>0.0</td>\n",
       "      <td>0.0</td>\n",
       "      <td>0.0</td>\n",
       "    </tr>\n",
       "    <tr>\n",
       "      <th>min</th>\n",
       "      <td>1.0</td>\n",
       "      <td>3.0</td>\n",
       "      <td>1.5</td>\n",
       "    </tr>\n",
       "    <tr>\n",
       "      <th>25%</th>\n",
       "      <td>1.0</td>\n",
       "      <td>3.0</td>\n",
       "      <td>1.5</td>\n",
       "    </tr>\n",
       "    <tr>\n",
       "      <th>50%</th>\n",
       "      <td>1.0</td>\n",
       "      <td>3.0</td>\n",
       "      <td>1.5</td>\n",
       "    </tr>\n",
       "    <tr>\n",
       "      <th>75%</th>\n",
       "      <td>1.0</td>\n",
       "      <td>3.0</td>\n",
       "      <td>1.5</td>\n",
       "    </tr>\n",
       "    <tr>\n",
       "      <th>max</th>\n",
       "      <td>1.0</td>\n",
       "      <td>3.0</td>\n",
       "      <td>1.5</td>\n",
       "    </tr>\n",
       "  </tbody>\n",
       "</table>\n",
       "</div>"
      ],
      "text/plain": [
       "         A    C    E\n",
       "count  4.0  4.0  4.0\n",
       "mean   1.0  3.0  1.5\n",
       "std    0.0  0.0  0.0\n",
       "min    1.0  3.0  1.5\n",
       "25%    1.0  3.0  1.5\n",
       "50%    1.0  3.0  1.5\n",
       "75%    1.0  3.0  1.5\n",
       "max    1.0  3.0  1.5"
      ]
     },
     "execution_count": 27,
     "metadata": {},
     "output_type": "execute_result"
    }
   ],
   "source": [
    "df2.describe()\n",
    "### 对于其他的数据类型的数据describe函数会自动过滤掉"
   ]
  },
  {
   "cell_type": "code",
   "execution_count": 28,
   "metadata": {
    "collapsed": false
   },
   "outputs": [
    {
     "data": {
      "text/html": [
       "<div>\n",
       "<style>\n",
       "    .dataframe thead tr:only-child th {\n",
       "        text-align: right;\n",
       "    }\n",
       "\n",
       "    .dataframe thead th {\n",
       "        text-align: left;\n",
       "    }\n",
       "\n",
       "    .dataframe tbody tr th {\n",
       "        vertical-align: top;\n",
       "    }\n",
       "</style>\n",
       "<table border=\"1\" class=\"dataframe\">\n",
       "  <thead>\n",
       "    <tr style=\"text-align: right;\">\n",
       "      <th></th>\n",
       "      <th>2018-11-01 00:00:00</th>\n",
       "      <th>2018-11-02 00:00:00</th>\n",
       "      <th>2018-11-03 00:00:00</th>\n",
       "      <th>2018-11-04 00:00:00</th>\n",
       "      <th>2018-11-05 00:00:00</th>\n",
       "      <th>2018-11-06 00:00:00</th>\n",
       "      <th>2018-11-07 00:00:00</th>\n",
       "    </tr>\n",
       "  </thead>\n",
       "  <tbody>\n",
       "    <tr>\n",
       "      <th>A</th>\n",
       "      <td>1.119906</td>\n",
       "      <td>-0.210060</td>\n",
       "      <td>1.076412</td>\n",
       "      <td>-0.283314</td>\n",
       "      <td>0.924924</td>\n",
       "      <td>1.133816</td>\n",
       "      <td>1.190136</td>\n",
       "    </tr>\n",
       "    <tr>\n",
       "      <th>B</th>\n",
       "      <td>0.501445</td>\n",
       "      <td>0.358103</td>\n",
       "      <td>-0.116761</td>\n",
       "      <td>-0.455867</td>\n",
       "      <td>0.310615</td>\n",
       "      <td>0.846917</td>\n",
       "      <td>-0.172966</td>\n",
       "    </tr>\n",
       "    <tr>\n",
       "      <th>C</th>\n",
       "      <td>0.658371</td>\n",
       "      <td>-0.799528</td>\n",
       "      <td>0.961088</td>\n",
       "      <td>0.930338</td>\n",
       "      <td>-0.664699</td>\n",
       "      <td>-1.557681</td>\n",
       "      <td>-1.958245</td>\n",
       "    </tr>\n",
       "    <tr>\n",
       "      <th>D</th>\n",
       "      <td>-1.919401</td>\n",
       "      <td>0.821414</td>\n",
       "      <td>-0.109604</td>\n",
       "      <td>0.294843</td>\n",
       "      <td>-2.410030</td>\n",
       "      <td>-0.007972</td>\n",
       "      <td>-0.876356</td>\n",
       "    </tr>\n",
       "  </tbody>\n",
       "</table>\n",
       "</div>"
      ],
      "text/plain": [
       "   2018-11-01  2018-11-02  2018-11-03  2018-11-04  2018-11-05  2018-11-06  \\\n",
       "A    1.119906   -0.210060    1.076412   -0.283314    0.924924    1.133816   \n",
       "B    0.501445    0.358103   -0.116761   -0.455867    0.310615    0.846917   \n",
       "C    0.658371   -0.799528    0.961088    0.930338   -0.664699   -1.557681   \n",
       "D   -1.919401    0.821414   -0.109604    0.294843   -2.410030   -0.007972   \n",
       "\n",
       "   2018-11-07  \n",
       "A    1.190136  \n",
       "B   -0.172966  \n",
       "C   -1.958245  \n",
       "D   -0.876356  "
      ]
     },
     "execution_count": 28,
     "metadata": {},
     "output_type": "execute_result"
    }
   ],
   "source": [
    "### DataFrame 的转置，将列索引与行索引进行调换，行数据与列数进行调换\n",
    "df.T"
   ]
  },
  {
   "cell_type": "code",
   "execution_count": 29,
   "metadata": {
    "collapsed": false
   },
   "outputs": [
    {
     "data": {
      "text/html": [
       "<div>\n",
       "<style>\n",
       "    .dataframe thead tr:only-child th {\n",
       "        text-align: right;\n",
       "    }\n",
       "\n",
       "    .dataframe thead th {\n",
       "        text-align: left;\n",
       "    }\n",
       "\n",
       "    .dataframe tbody tr th {\n",
       "        vertical-align: top;\n",
       "    }\n",
       "</style>\n",
       "<table border=\"1\" class=\"dataframe\">\n",
       "  <thead>\n",
       "    <tr style=\"text-align: right;\">\n",
       "      <th></th>\n",
       "      <th>A</th>\n",
       "      <th>B</th>\n",
       "      <th>C</th>\n",
       "      <th>D</th>\n",
       "    </tr>\n",
       "  </thead>\n",
       "  <tbody>\n",
       "    <tr>\n",
       "      <th>2018-11-01</th>\n",
       "      <td>1.119906</td>\n",
       "      <td>0.501445</td>\n",
       "      <td>0.658371</td>\n",
       "      <td>-1.919401</td>\n",
       "    </tr>\n",
       "    <tr>\n",
       "      <th>2018-11-02</th>\n",
       "      <td>-0.210060</td>\n",
       "      <td>0.358103</td>\n",
       "      <td>-0.799528</td>\n",
       "      <td>0.821414</td>\n",
       "    </tr>\n",
       "    <tr>\n",
       "      <th>2018-11-03</th>\n",
       "      <td>1.076412</td>\n",
       "      <td>-0.116761</td>\n",
       "      <td>0.961088</td>\n",
       "      <td>-0.109604</td>\n",
       "    </tr>\n",
       "    <tr>\n",
       "      <th>2018-11-04</th>\n",
       "      <td>-0.283314</td>\n",
       "      <td>-0.455867</td>\n",
       "      <td>0.930338</td>\n",
       "      <td>0.294843</td>\n",
       "    </tr>\n",
       "    <tr>\n",
       "      <th>2018-11-05</th>\n",
       "      <td>0.924924</td>\n",
       "      <td>0.310615</td>\n",
       "      <td>-0.664699</td>\n",
       "      <td>-2.410030</td>\n",
       "    </tr>\n",
       "    <tr>\n",
       "      <th>2018-11-06</th>\n",
       "      <td>1.133816</td>\n",
       "      <td>0.846917</td>\n",
       "      <td>-1.557681</td>\n",
       "      <td>-0.007972</td>\n",
       "    </tr>\n",
       "    <tr>\n",
       "      <th>2018-11-07</th>\n",
       "      <td>1.190136</td>\n",
       "      <td>-0.172966</td>\n",
       "      <td>-1.958245</td>\n",
       "      <td>-0.876356</td>\n",
       "    </tr>\n",
       "  </tbody>\n",
       "</table>\n",
       "</div>"
      ],
      "text/plain": [
       "                   A         B         C         D\n",
       "2018-11-01  1.119906  0.501445  0.658371 -1.919401\n",
       "2018-11-02 -0.210060  0.358103 -0.799528  0.821414\n",
       "2018-11-03  1.076412 -0.116761  0.961088 -0.109604\n",
       "2018-11-04 -0.283314 -0.455867  0.930338  0.294843\n",
       "2018-11-05  0.924924  0.310615 -0.664699 -2.410030\n",
       "2018-11-06  1.133816  0.846917 -1.557681 -0.007972\n",
       "2018-11-07  1.190136 -0.172966 -1.958245 -0.876356"
      ]
     },
     "execution_count": 29,
     "metadata": {},
     "output_type": "execute_result"
    }
   ],
   "source": [
    "df"
   ]
  },
  {
   "cell_type": "markdown",
   "metadata": {},
   "source": [
    "### 数据的排序"
   ]
  },
  {
   "cell_type": "code",
   "execution_count": 33,
   "metadata": {
    "collapsed": false
   },
   "outputs": [
    {
     "data": {
      "text/html": [
       "<div>\n",
       "<style>\n",
       "    .dataframe thead tr:only-child th {\n",
       "        text-align: right;\n",
       "    }\n",
       "\n",
       "    .dataframe thead th {\n",
       "        text-align: left;\n",
       "    }\n",
       "\n",
       "    .dataframe tbody tr th {\n",
       "        vertical-align: top;\n",
       "    }\n",
       "</style>\n",
       "<table border=\"1\" class=\"dataframe\">\n",
       "  <thead>\n",
       "    <tr style=\"text-align: right;\">\n",
       "      <th></th>\n",
       "      <th>A</th>\n",
       "      <th>B</th>\n",
       "      <th>C</th>\n",
       "      <th>D</th>\n",
       "    </tr>\n",
       "  </thead>\n",
       "  <tbody>\n",
       "    <tr>\n",
       "      <th>2018-11-07</th>\n",
       "      <td>1.190136</td>\n",
       "      <td>-0.172966</td>\n",
       "      <td>-1.958245</td>\n",
       "      <td>-0.876356</td>\n",
       "    </tr>\n",
       "    <tr>\n",
       "      <th>2018-11-06</th>\n",
       "      <td>1.133816</td>\n",
       "      <td>0.846917</td>\n",
       "      <td>-1.557681</td>\n",
       "      <td>-0.007972</td>\n",
       "    </tr>\n",
       "    <tr>\n",
       "      <th>2018-11-05</th>\n",
       "      <td>0.924924</td>\n",
       "      <td>0.310615</td>\n",
       "      <td>-0.664699</td>\n",
       "      <td>-2.410030</td>\n",
       "    </tr>\n",
       "    <tr>\n",
       "      <th>2018-11-04</th>\n",
       "      <td>-0.283314</td>\n",
       "      <td>-0.455867</td>\n",
       "      <td>0.930338</td>\n",
       "      <td>0.294843</td>\n",
       "    </tr>\n",
       "    <tr>\n",
       "      <th>2018-11-03</th>\n",
       "      <td>1.076412</td>\n",
       "      <td>-0.116761</td>\n",
       "      <td>0.961088</td>\n",
       "      <td>-0.109604</td>\n",
       "    </tr>\n",
       "    <tr>\n",
       "      <th>2018-11-02</th>\n",
       "      <td>-0.210060</td>\n",
       "      <td>0.358103</td>\n",
       "      <td>-0.799528</td>\n",
       "      <td>0.821414</td>\n",
       "    </tr>\n",
       "    <tr>\n",
       "      <th>2018-11-01</th>\n",
       "      <td>1.119906</td>\n",
       "      <td>0.501445</td>\n",
       "      <td>0.658371</td>\n",
       "      <td>-1.919401</td>\n",
       "    </tr>\n",
       "  </tbody>\n",
       "</table>\n",
       "</div>"
      ],
      "text/plain": [
       "                   A         B         C         D\n",
       "2018-11-07  1.190136 -0.172966 -1.958245 -0.876356\n",
       "2018-11-06  1.133816  0.846917 -1.557681 -0.007972\n",
       "2018-11-05  0.924924  0.310615 -0.664699 -2.410030\n",
       "2018-11-04 -0.283314 -0.455867  0.930338  0.294843\n",
       "2018-11-03  1.076412 -0.116761  0.961088 -0.109604\n",
       "2018-11-02 -0.210060  0.358103 -0.799528  0.821414\n",
       "2018-11-01  1.119906  0.501445  0.658371 -1.919401"
      ]
     },
     "execution_count": 33,
     "metadata": {},
     "output_type": "execute_result"
    }
   ],
   "source": [
    "df.sort_index(ascending=False)\n",
    "### 降序，按照列进行降序，通过该索引列"
   ]
  },
  {
   "cell_type": "code",
   "execution_count": 36,
   "metadata": {
    "collapsed": false
   },
   "outputs": [
    {
     "name": "stdout",
     "output_type": "stream",
     "text": [
      "                   A         B         C         D\n",
      "2018-11-04 -0.283314 -0.455867  0.930338  0.294843\n",
      "2018-11-07  1.190136 -0.172966 -1.958245 -0.876356\n",
      "2018-11-03  1.076412 -0.116761  0.961088 -0.109604\n",
      "2018-11-05  0.924924  0.310615 -0.664699 -2.410030\n",
      "2018-11-02 -0.210060  0.358103 -0.799528  0.821414\n",
      "2018-11-01  1.119906  0.501445  0.658371 -1.919401\n",
      "2018-11-06  1.133816  0.846917 -1.557681 -0.007972\n"
     ]
    },
    {
     "data": {
      "text/html": [
       "<div>\n",
       "<style>\n",
       "    .dataframe thead tr:only-child th {\n",
       "        text-align: right;\n",
       "    }\n",
       "\n",
       "    .dataframe thead th {\n",
       "        text-align: left;\n",
       "    }\n",
       "\n",
       "    .dataframe tbody tr th {\n",
       "        vertical-align: top;\n",
       "    }\n",
       "</style>\n",
       "<table border=\"1\" class=\"dataframe\">\n",
       "  <thead>\n",
       "    <tr style=\"text-align: right;\">\n",
       "      <th></th>\n",
       "      <th>A</th>\n",
       "      <th>B</th>\n",
       "      <th>C</th>\n",
       "      <th>D</th>\n",
       "    </tr>\n",
       "  </thead>\n",
       "  <tbody>\n",
       "    <tr>\n",
       "      <th>2018-11-04</th>\n",
       "      <td>-0.283314</td>\n",
       "      <td>-0.455867</td>\n",
       "      <td>0.930338</td>\n",
       "      <td>0.294843</td>\n",
       "    </tr>\n",
       "    <tr>\n",
       "      <th>2018-11-07</th>\n",
       "      <td>1.190136</td>\n",
       "      <td>-0.172966</td>\n",
       "      <td>-1.958245</td>\n",
       "      <td>-0.876356</td>\n",
       "    </tr>\n",
       "    <tr>\n",
       "      <th>2018-11-03</th>\n",
       "      <td>1.076412</td>\n",
       "      <td>-0.116761</td>\n",
       "      <td>0.961088</td>\n",
       "      <td>-0.109604</td>\n",
       "    </tr>\n",
       "    <tr>\n",
       "      <th>2018-11-05</th>\n",
       "      <td>0.924924</td>\n",
       "      <td>0.310615</td>\n",
       "      <td>-0.664699</td>\n",
       "      <td>-2.410030</td>\n",
       "    </tr>\n",
       "    <tr>\n",
       "      <th>2018-11-02</th>\n",
       "      <td>-0.210060</td>\n",
       "      <td>0.358103</td>\n",
       "      <td>-0.799528</td>\n",
       "      <td>0.821414</td>\n",
       "    </tr>\n",
       "    <tr>\n",
       "      <th>2018-11-01</th>\n",
       "      <td>1.119906</td>\n",
       "      <td>0.501445</td>\n",
       "      <td>0.658371</td>\n",
       "      <td>-1.919401</td>\n",
       "    </tr>\n",
       "    <tr>\n",
       "      <th>2018-11-06</th>\n",
       "      <td>1.133816</td>\n",
       "      <td>0.846917</td>\n",
       "      <td>-1.557681</td>\n",
       "      <td>-0.007972</td>\n",
       "    </tr>\n",
       "  </tbody>\n",
       "</table>\n",
       "</div>"
      ],
      "text/plain": [
       "                   A         B         C         D\n",
       "2018-11-04 -0.283314 -0.455867  0.930338  0.294843\n",
       "2018-11-07  1.190136 -0.172966 -1.958245 -0.876356\n",
       "2018-11-03  1.076412 -0.116761  0.961088 -0.109604\n",
       "2018-11-05  0.924924  0.310615 -0.664699 -2.410030\n",
       "2018-11-02 -0.210060  0.358103 -0.799528  0.821414\n",
       "2018-11-01  1.119906  0.501445  0.658371 -1.919401\n",
       "2018-11-06  1.133816  0.846917 -1.557681 -0.007972"
      ]
     },
     "execution_count": 36,
     "metadata": {},
     "output_type": "execute_result"
    }
   ],
   "source": [
    "\n",
    "print(df.sort_values(by=['B','A']))\n",
    "#  默认是升序,可以选择多指排序，先照B，后排A，如果B中的数据一样，则按照A中的大小进行排序\n",
    "df.sort_values(by='B')"
   ]
  },
  {
   "cell_type": "code",
   "execution_count": null,
   "metadata": {
    "collapsed": true
   },
   "outputs": [],
   "source": []
  }
 ],
 "metadata": {
  "kernelspec": {
   "display_name": "Python 3",
   "language": "python",
   "name": "python3"
  },
  "language_info": {
   "codemirror_mode": {
    "name": "ipython",
    "version": 3
   },
   "file_extension": ".py",
   "mimetype": "text/x-python",
   "name": "python",
   "nbconvert_exporter": "python",
   "pygments_lexer": "ipython3",
   "version": "3.6.0"
  }
 },
 "nbformat": 4,
 "nbformat_minor": 2
}
